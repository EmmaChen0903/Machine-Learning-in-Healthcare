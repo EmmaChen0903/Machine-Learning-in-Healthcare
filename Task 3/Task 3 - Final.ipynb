{
 "cells": [
  {
   "cell_type": "code",
   "execution_count": 1,
   "id": "9b89783f",
   "metadata": {},
   "outputs": [],
   "source": [
    "from ydata_profiling import ProfileReport\n",
    "import os\n",
    "import tensorflow as tf\n",
    "import pandas as pd\n",
    "import numpy as np\n",
    "from matplotlib import pyplot as plt\n",
    "from sklearn.preprocessing import LabelEncoder\n",
    "from tensorflow.keras import optimizers, metrics\n",
    "from tensorflow.keras.layers import Dense, LSTM\n",
    "from tensorflow.keras.layers import concatenate\n",
    "from tensorflow.keras.models import load_model\n",
    "from helpers6 import PlotROCCurve, get_lstm_data_gen\n",
    "# Load libraries\n",
    "import pandas as pd\n",
    "from sklearn.tree import DecisionTreeClassifier # Import Decision Tree Classifier\n",
    "from sklearn.model_selection import train_test_split # Import train_test_split function\n",
    "from sklearn import metrics #Import scikit-learn metrics module for accuracy calculation\n",
    "\n",
    "from sklearn.preprocessing import LabelEncoder, OneHotEncoder\n",
    "from sklearn.preprocessing import MinMaxScaler, RobustScaler\n",
    "from sklearn.model_selection import GridSearchCV, RandomizedSearchCV\n",
    "from sklearn.metrics import make_scorer, roc_auc_score,confusion_matrix, recall_score, f1_score, precision_score, average_precision_score\n",
    "from sklearn.linear_model import LogisticRegression\n",
    "from sklearn.ensemble import GradientBoostingClassifier, RandomForestClassifier\n",
    "\n",
    "import time\n",
    "confidence_interval = 95\n",
    "random_seed = 0"
   ]
  },
  {
   "cell_type": "markdown",
   "id": "52e084b5",
   "metadata": {},
   "source": [
    "- Importing the training and test datasets"
   ]
  },
  {
   "cell_type": "code",
   "execution_count": 153,
   "id": "d1843d4c",
   "metadata": {},
   "outputs": [],
   "source": [
    "output_path = 'C:\\\\Users\\\\User\\\\Downloads'\n",
    "path = output_path\n",
    "train = pd.read_csv((os.path.join(path, 'train_impute_v3.csv')))\n",
    "test = pd.read_csv((os.path.join(path, 'test_impute_v3.csv')))"
   ]
  },
  {
   "cell_type": "code",
   "execution_count": 154,
   "id": "a9e6fd42",
   "metadata": {},
   "outputs": [
    {
     "name": "stdout",
     "output_type": "stream",
     "text": [
      "11910\n",
      "346045\n"
     ]
    }
   ],
   "source": [
    "print(len(train[train['outcome_ed_revisit_3d']==1]))\n",
    "\n",
    "print(len(train[train['outcome_ed_revisit_3d']==0]))"
   ]
  },
  {
   "cell_type": "code",
   "execution_count": 40,
   "id": "2ec5c075",
   "metadata": {},
   "outputs": [],
   "source": [
    "# impute the triage_acuity with median\n",
    "\n",
    "# df_train = train.copy()#.reset_index(drop=True, inplace=True)\n",
    "# df_test = test.copy()#.reset_index(drop=True, inplace=True)\n",
    "\n",
    "# df = pd.concat([df_train,df_test], axis=0)\n"
   ]
  },
  {
   "cell_type": "code",
   "execution_count": 155,
   "id": "29709536",
   "metadata": {},
   "outputs": [],
   "source": [
    "\n",
    "train['triage_acuity'] = train['triage_acuity'].fillna(np.nanmedian(df['triage_acuity']))\n",
    "test['triage_acuity'] = test['triage_acuity'].fillna(np.nanmedian(df['triage_acuity']))\n"
   ]
  },
  {
   "cell_type": "code",
   "execution_count": 3,
   "id": "70cb1d7a",
   "metadata": {},
   "outputs": [],
   "source": [
    "## splitting x and y variable for final dataset\n",
    "\n",
    "# X_train_3 = train.copy()\n",
    "# X_train_3 = X_train_3.drop(['outcome_ed_revisit_3d'],axis=1)\n",
    "# X_test_3 = test.copy()\n",
    "# X_test_3 = X_test_3.drop(['outcome_ed_revisit_3d'],axis=1)\n",
    "\n",
    "\n",
    "# y_train = train['outcome_ed_revisit_3d'].copy()\n",
    "# y_test = test['outcome_ed_revisit_3d'].copy()"
   ]
  },
  {
   "cell_type": "code",
   "execution_count": 68,
   "id": "2865fd25",
   "metadata": {},
   "outputs": [
    {
     "data": {
      "text/plain": [
       "354181"
      ]
     },
     "execution_count": 68,
     "metadata": {},
     "output_type": "execute_result"
    }
   ],
   "source": [
    "len(train)"
   ]
  },
  {
   "cell_type": "code",
   "execution_count": 156,
   "id": "33488259",
   "metadata": {},
   "outputs": [],
   "source": [
    "train = train[(train['outcome_inhospital_mortality'] == 0) & (train['ed_death'] == 0)]\n",
    "test = test[(test['outcome_inhospital_mortality'] == 0) & (test['ed_death'] == 0)]\n"
   ]
  },
  {
   "cell_type": "code",
   "execution_count": 7,
   "id": "0f9d3242",
   "metadata": {},
   "outputs": [],
   "source": [
    "# profile = ProfileReport(train,title = \"HealthdataProfiling\")\n",
    "# profile.to_file(\"HealthdataProfiling\")"
   ]
  },
  {
   "cell_type": "markdown",
   "id": "fdd6c0f9",
   "metadata": {},
   "source": [
    "- Dropping features of high correlation"
   ]
  },
  {
   "cell_type": "code",
   "execution_count": 157,
   "id": "bda8c14a",
   "metadata": {},
   "outputs": [],
   "source": [
    "variable = [\"age\", \"gender\", \"intime_ed\", \"outtime_ed\", \n",
    "            #\"outcome_hospitalization\", \n",
    "            \"outcome_icu_transfer_12h\", \n",
    "            #\"outcome_critical\",\n",
    "            \n",
    "            \n",
    "            \"n_ed_30d\", \n",
    "            #\"n_ed_90d\", \"n_ed_365d\", \"n_hosp_30d\", \"n_hosp_90d\", \n",
    "            \"n_hosp_365d\", \"n_icu_30d\", \n",
    "            #\"n_icu_90d\", \"n_icu_365d\", \n",
    "            \"ed_los_hours\",\n",
    "            \"triage_temperature\",\n",
    "            #\"triage_pain\", \n",
    "            \"triage_acuity\", \n",
    "            #\"triage_heartrate\",\n",
    "            \"triage_resprate\",\"triage_o2sat\",\n",
    "            #\"triage_sbp\",'triage_MAP',\n",
    "            \"triage_dbp\",\n",
    "            \n",
    "            \"chiefcom_chest_pain\", \"chiefcom_abdominal_pain\", \"chiefcom_headache\", \n",
    "            \"chiefcom_shortness_of_breath\", \"chiefcom_back_pain\", \"chiefcom_cough\", \n",
    "            \"chiefcom_nausea_vomiting\", \"chiefcom_fever_chills\", \"chiefcom_syncope\",\n",
    "            \"chiefcom_dizziness\",\n",
    "            \n",
    "            \"cci_MI\", \n",
    "            #\"cci_CHF\", \n",
    "            \"cci_PVD\", \n",
    "            \"cci_Stroke\", \"cci_Dementia\", \"cci_Pulmonary\", \n",
    "            \"cci_Rheumatic\", \"cci_PUD\", \"cci_Liver1\", \n",
    "            #\"cci_DM1\", \n",
    "            \"cci_DM2\", \n",
    "            \"cci_Paralysis\",\n",
    "            #\"cci_Renal\", \"cci_Cancer1\",  \"cci_Cancer2\", \n",
    "            \"cci_HIV\",\"cci_Liver2\",\n",
    "            \n",
    "            \"eci_Arrhythmia\", \"eci_Valvular\", \"eci_PHTN\", \n",
    "            #\"eci_HTN1\", \"eci_HTN2\",  \n",
    "            #\"eci_CHF\",\n",
    "           #\"eci_PVD\", \"eci_Pulmonary\",\n",
    "            #\"eci_Paralysis\",\n",
    "            #\"eci_DM1\",\n",
    "            #\"eci_DM2\",\n",
    "            #\"eci_Renal\",\n",
    "            #\"eci_Liver\",\"eci_PUD\",\n",
    "            #\"eci_HIV\",\n",
    "            #\"eci_Tumor2\",\n",
    "            \"eci_Tumor1\",\n",
    "            \"eci_NeuroOther\", \"eci_Hypothyroid\", \"eci_Lymphoma\", \"eci_Coagulopathy\", \n",
    "            #\"eci_Rheumatic\",\n",
    "            \"eci_Obesity\", \"eci_WeightLoss\", \n",
    "            #\"eci_FluidsLytes\",\n",
    "            \"eci_BloodLoss\", \n",
    "            \"eci_Anemia\", \"eci_Alcohol\", \"eci_Drugs\", \"eci_Psychoses\", \"eci_Depression\",\n",
    "            \n",
    "            \"ed_temperature_last\", \"ed_heartrate_last\", \"ed_resprate_last\", \n",
    "            \"ed_o2sat_last\", \"ed_sbp_last\", \n",
    "            #\"ed_dbp_last\", \n",
    "            \"ed_pain_last\",\"n_med\"\n",
    "            #\"n_medrecon\",\n",
    "           \n",
    "#           'insurance_Medicaid', 'insurance_Medicare', 'insurance_Other',\n",
    "#             #'score_CCI', 'score_CART', 'score_REMS', \n",
    "            #'score_NEWS','score_NEWS2', 'score_MEWS'\n",
    "           ]\n",
    "\n",
    "outcome = \"outcome_ed_revisit_3d\"\n",
    "\n"
   ]
  },
  {
   "cell_type": "code",
   "execution_count": null,
   "id": "14637478",
   "metadata": {},
   "outputs": [],
   "source": []
  },
  {
   "cell_type": "code",
   "execution_count": 158,
   "id": "054a89ba",
   "metadata": {},
   "outputs": [],
   "source": [
    "X_train = train[variable].copy()\n",
    "y_train = train[outcome].copy()\n",
    "X_test = test[variable].copy()\n",
    "y_test = test[outcome].copy()"
   ]
  },
  {
   "cell_type": "code",
   "execution_count": 10,
   "id": "8beb48eb",
   "metadata": {},
   "outputs": [],
   "source": [
    "# X_train = all & uncorrelated & unscaled variables \n",
    "# X_train_1 = TOP 18 important & uncorrelated dataset variables\n",
    "# X_train_2 = TOP __ only binned dataset variables\n",
    "# X_train_3 = TOP __ only sclaed variables\n",
    "# X_train_4 = TOP 15 scaled & binned dataset  variables\n"
   ]
  },
  {
   "cell_type": "code",
   "execution_count": 72,
   "id": "901e0884",
   "metadata": {},
   "outputs": [
    {
     "data": {
      "text/html": [
       "<div>\n",
       "<style scoped>\n",
       "    .dataframe tbody tr th:only-of-type {\n",
       "        vertical-align: middle;\n",
       "    }\n",
       "\n",
       "    .dataframe tbody tr th {\n",
       "        vertical-align: top;\n",
       "    }\n",
       "\n",
       "    .dataframe thead th {\n",
       "        text-align: right;\n",
       "    }\n",
       "</style>\n",
       "<table border=\"1\" class=\"dataframe\">\n",
       "  <thead>\n",
       "    <tr style=\"text-align: right;\">\n",
       "      <th></th>\n",
       "      <th>age</th>\n",
       "      <th>gender</th>\n",
       "      <th>intime_ed</th>\n",
       "      <th>outtime_ed</th>\n",
       "      <th>outcome_icu_transfer_12h</th>\n",
       "      <th>n_ed_30d</th>\n",
       "      <th>n_hosp_365d</th>\n",
       "      <th>n_icu_30d</th>\n",
       "      <th>ed_los_hours</th>\n",
       "      <th>triage_temperature</th>\n",
       "      <th>triage_acuity</th>\n",
       "      <th>triage_resprate</th>\n",
       "      <th>triage_o2sat</th>\n",
       "      <th>triage_dbp</th>\n",
       "      <th>chiefcom_chest_pain</th>\n",
       "      <th>chiefcom_abdominal_pain</th>\n",
       "      <th>chiefcom_headache</th>\n",
       "      <th>chiefcom_shortness_of_breath</th>\n",
       "      <th>chiefcom_back_pain</th>\n",
       "      <th>chiefcom_cough</th>\n",
       "      <th>chiefcom_nausea_vomiting</th>\n",
       "      <th>chiefcom_fever_chills</th>\n",
       "      <th>chiefcom_syncope</th>\n",
       "      <th>chiefcom_dizziness</th>\n",
       "      <th>cci_MI</th>\n",
       "      <th>cci_PVD</th>\n",
       "      <th>cci_Stroke</th>\n",
       "      <th>cci_Dementia</th>\n",
       "      <th>cci_Pulmonary</th>\n",
       "      <th>cci_Rheumatic</th>\n",
       "      <th>cci_PUD</th>\n",
       "      <th>cci_Liver1</th>\n",
       "      <th>cci_DM2</th>\n",
       "      <th>cci_Paralysis</th>\n",
       "      <th>cci_HIV</th>\n",
       "      <th>cci_Liver2</th>\n",
       "      <th>eci_Arrhythmia</th>\n",
       "      <th>eci_Valvular</th>\n",
       "      <th>eci_PHTN</th>\n",
       "      <th>eci_Tumor1</th>\n",
       "      <th>eci_NeuroOther</th>\n",
       "      <th>eci_Hypothyroid</th>\n",
       "      <th>eci_Lymphoma</th>\n",
       "      <th>eci_Coagulopathy</th>\n",
       "      <th>eci_Obesity</th>\n",
       "      <th>eci_WeightLoss</th>\n",
       "      <th>eci_BloodLoss</th>\n",
       "      <th>eci_Anemia</th>\n",
       "      <th>eci_Alcohol</th>\n",
       "      <th>eci_Drugs</th>\n",
       "      <th>eci_Psychoses</th>\n",
       "      <th>eci_Depression</th>\n",
       "      <th>ed_temperature_last</th>\n",
       "      <th>ed_heartrate_last</th>\n",
       "      <th>ed_resprate_last</th>\n",
       "      <th>ed_o2sat_last</th>\n",
       "      <th>ed_sbp_last</th>\n",
       "      <th>ed_pain_last</th>\n",
       "      <th>n_med</th>\n",
       "    </tr>\n",
       "  </thead>\n",
       "  <tbody>\n",
       "    <tr>\n",
       "      <th>0</th>\n",
       "      <td>float64</td>\n",
       "      <td>int64</td>\n",
       "      <td>object</td>\n",
       "      <td>object</td>\n",
       "      <td>int64</td>\n",
       "      <td>int64</td>\n",
       "      <td>int64</td>\n",
       "      <td>int64</td>\n",
       "      <td>float64</td>\n",
       "      <td>float64</td>\n",
       "      <td>float64</td>\n",
       "      <td>float64</td>\n",
       "      <td>float64</td>\n",
       "      <td>float64</td>\n",
       "      <td>int64</td>\n",
       "      <td>int64</td>\n",
       "      <td>int64</td>\n",
       "      <td>int64</td>\n",
       "      <td>int64</td>\n",
       "      <td>int64</td>\n",
       "      <td>int64</td>\n",
       "      <td>int64</td>\n",
       "      <td>int64</td>\n",
       "      <td>int64</td>\n",
       "      <td>int64</td>\n",
       "      <td>int64</td>\n",
       "      <td>int64</td>\n",
       "      <td>int64</td>\n",
       "      <td>int64</td>\n",
       "      <td>int64</td>\n",
       "      <td>int64</td>\n",
       "      <td>int64</td>\n",
       "      <td>int64</td>\n",
       "      <td>int64</td>\n",
       "      <td>int64</td>\n",
       "      <td>int64</td>\n",
       "      <td>int64</td>\n",
       "      <td>int64</td>\n",
       "      <td>int64</td>\n",
       "      <td>int64</td>\n",
       "      <td>int64</td>\n",
       "      <td>int64</td>\n",
       "      <td>int64</td>\n",
       "      <td>int64</td>\n",
       "      <td>int64</td>\n",
       "      <td>int64</td>\n",
       "      <td>int64</td>\n",
       "      <td>int64</td>\n",
       "      <td>int64</td>\n",
       "      <td>int64</td>\n",
       "      <td>int64</td>\n",
       "      <td>int64</td>\n",
       "      <td>float64</td>\n",
       "      <td>float64</td>\n",
       "      <td>float64</td>\n",
       "      <td>float64</td>\n",
       "      <td>float64</td>\n",
       "      <td>float64</td>\n",
       "      <td>float64</td>\n",
       "    </tr>\n",
       "  </tbody>\n",
       "</table>\n",
       "</div>"
      ],
      "text/plain": [
       "       age gender intime_ed outtime_ed outcome_icu_transfer_12h n_ed_30d  \\\n",
       "0  float64  int64    object     object                    int64    int64   \n",
       "\n",
       "  n_hosp_365d n_icu_30d ed_los_hours triage_temperature triage_acuity  \\\n",
       "0       int64     int64      float64            float64       float64   \n",
       "\n",
       "  triage_resprate triage_o2sat triage_dbp chiefcom_chest_pain  \\\n",
       "0         float64      float64    float64               int64   \n",
       "\n",
       "  chiefcom_abdominal_pain chiefcom_headache chiefcom_shortness_of_breath  \\\n",
       "0                   int64             int64                        int64   \n",
       "\n",
       "  chiefcom_back_pain chiefcom_cough chiefcom_nausea_vomiting  \\\n",
       "0              int64          int64                    int64   \n",
       "\n",
       "  chiefcom_fever_chills chiefcom_syncope chiefcom_dizziness cci_MI cci_PVD  \\\n",
       "0                 int64            int64              int64  int64   int64   \n",
       "\n",
       "  cci_Stroke cci_Dementia cci_Pulmonary cci_Rheumatic cci_PUD cci_Liver1  \\\n",
       "0      int64        int64         int64         int64   int64      int64   \n",
       "\n",
       "  cci_DM2 cci_Paralysis cci_HIV cci_Liver2 eci_Arrhythmia eci_Valvular  \\\n",
       "0   int64         int64   int64      int64          int64        int64   \n",
       "\n",
       "  eci_PHTN eci_Tumor1 eci_NeuroOther eci_Hypothyroid eci_Lymphoma  \\\n",
       "0    int64      int64          int64           int64        int64   \n",
       "\n",
       "  eci_Coagulopathy eci_Obesity eci_WeightLoss eci_BloodLoss eci_Anemia  \\\n",
       "0            int64       int64          int64         int64      int64   \n",
       "\n",
       "  eci_Alcohol eci_Drugs eci_Psychoses eci_Depression ed_temperature_last  \\\n",
       "0       int64     int64         int64          int64             float64   \n",
       "\n",
       "  ed_heartrate_last ed_resprate_last ed_o2sat_last ed_sbp_last ed_pain_last  \\\n",
       "0           float64          float64       float64     float64      float64   \n",
       "\n",
       "     n_med  \n",
       "0  float64  "
      ]
     },
     "execution_count": 72,
     "metadata": {},
     "output_type": "execute_result"
    }
   ],
   "source": [
    "X_train.dtypes.to_frame().T"
   ]
  },
  {
   "cell_type": "markdown",
   "id": "103691ac",
   "metadata": {},
   "source": [
    "### General processing of dataset"
   ]
  },
  {
   "cell_type": "markdown",
   "id": "6f228124",
   "metadata": {},
   "source": [
    "- Recoding gender & Extracting hour from the timestamp"
   ]
  },
  {
   "cell_type": "code",
   "execution_count": 159,
   "id": "5f015673",
   "metadata": {},
   "outputs": [],
   "source": [
    "X_train_1 = X_train.copy()\n",
    "X_test_1 = X_test.copy()"
   ]
  },
  {
   "cell_type": "code",
   "execution_count": 160,
   "id": "3b915edd",
   "metadata": {},
   "outputs": [],
   "source": [
    "encoder = LabelEncoder()\n",
    "X_train_1['gender'] = encoder.fit_transform(X_train_1['gender'])\n",
    "X_test_1['gender'] = encoder.transform(X_test_1['gender'])\n",
    "\n",
    "#Formatting the timestamp\n",
    "X_train_1['intime_ed'] = pd.to_datetime(X_train_1['intime_ed'], format='%Y-%m-%d %H:%M:%S')\n",
    "X_test_1['intime_ed'] = pd.to_datetime(X_test_1['intime_ed'], format='%Y-%m-%d %H:%M:%S')\n",
    "\n",
    "X_train_1['intime_ed'] = pd.to_datetime(X_train_1['intime_ed']).dt.hour\n",
    "X_test_1['intime_ed'] = pd.to_datetime(X_test_1['intime_ed']).dt.hour\n",
    "\n",
    "X_train_1['outtime_ed'] = pd.to_datetime(X_train_1['outtime_ed']).dt.hour\n",
    "X_test_1['outtime_ed'] = pd.to_datetime(X_test_1['outtime_ed']).dt.hour\n"
   ]
  },
  {
   "cell_type": "code",
   "execution_count": 161,
   "id": "e90bce86",
   "metadata": {},
   "outputs": [],
   "source": [
    "X_train_2 = X_train.copy()\n",
    "X_test_2 = X_test.copy()\n",
    "X_train_3 = X_train_1.copy()\n",
    "X_test_3 = X_test_1.copy()"
   ]
  },
  {
   "cell_type": "markdown",
   "id": "455eab51",
   "metadata": {},
   "source": [
    "- Extracting Weekday & Extracting and bining hour from the timestamp"
   ]
  },
  {
   "cell_type": "code",
   "execution_count": 162,
   "id": "710ff5ee",
   "metadata": {},
   "outputs": [],
   "source": [
    "#Formatting the timestamp\n",
    "X_train_2['intime_ed'] = pd.to_datetime(X_train_2['intime_ed'], format='%Y-%m-%d %H:%M:%S')\n",
    "X_test_2['intime_ed'] = pd.to_datetime(X_test_2['intime_ed'], format='%Y-%m-%d %H:%M:%S')\n",
    "\n",
    "X_train_2['outtime_ed'] = pd.to_datetime(X_train_2['outtime_ed'], format='%Y-%m-%d %H:%M:%S')\n",
    "X_test_2['outtime_ed'] = pd.to_datetime(X_test_2['outtime_ed'], format='%Y-%m-%d %H:%M:%S')\n",
    "\n",
    "\n",
    "\n",
    "# Extracting the day of the week (Monday=0, Sunday=6)\n",
    "X_train_2['day_of_week_in'] = X_train_2['intime_ed'].dt.dayofweek\n",
    "X_test_2['day_of_week_in'] = X_test_2['intime_ed'].dt.dayofweek\n",
    "\n",
    "X_train_2['day_of_week_out'] = X_train_2['outtime_ed'].dt.dayofweek\n",
    "X_test_2['day_of_week_out'] = X_test_2['outtime_ed'].dt.dayofweek\n",
    "\n",
    "# map the numeric representation to the day names.\n",
    "day_names = ['Monday', 'Tuesday', 'Wednesday', 'Thursday', 'Friday', 'Saturday', 'Sunday']\n",
    "X_train_2['day_of_week_in'] = X_train_2['day_of_week_in'].map(lambda x: day_names[x])\n",
    "X_test_2['day_of_week_in'] = X_test_2['day_of_week_in'].map(lambda x: day_names[x])\n",
    "\n",
    "X_train_2['day_of_week_out'] = X_train_2['day_of_week_out'].map(lambda x: day_names[x])\n",
    "X_test_2['day_of_week_out'] = X_test_2['day_of_week_out'].map(lambda x: day_names[x])\n",
    "\n",
    "#Extracting the hour of the day (in 24-hour format)\n",
    "X_train_2['hour_of_day_in'] = X_train_2['intime_ed'].dt.hour\n",
    "X_test_2['hour_of_day_in'] = X_test_2['intime_ed'].dt.hour\n",
    "\n",
    "X_train_2['hour_of_day_out'] = X_train_2['outtime_ed'].dt.hour\n",
    "X_test_2['hour_of_day_out'] = X_test_2['outtime_ed'].dt.hour\n"
   ]
  },
  {
   "cell_type": "markdown",
   "id": "f2ba60bc",
   "metadata": {},
   "source": [
    "- Binning the hour"
   ]
  },
  {
   "cell_type": "code",
   "execution_count": 163,
   "id": "13f1ee0e",
   "metadata": {},
   "outputs": [],
   "source": [
    "# Define a function to map hours to shifts\n",
    "def get_shift(hour):\n",
    "    if 0 <= hour < 8:\n",
    "        return 'Shift 1 (00:00 hr to 08:00 hr)'\n",
    "    elif 8 <= hour < 16:\n",
    "        return 'Shift 2 (08:00 hr to 16:00 hr)'\n",
    "    else:\n",
    "        return 'Shift 3 (16:00 hr to 24:00 hr)'\n",
    "\n",
    "# Apply the function to create the 'shift' column\n",
    "X_train_2['shift_in'] = X_train_2['hour_of_day_in'].apply(get_shift)\n",
    "X_test_2['shift_in'] = X_test_2['hour_of_day_in'].apply(get_shift)\n",
    "\n",
    "X_train_2['shift_out'] = X_train_2['hour_of_day_out'].apply(get_shift)\n",
    "X_test_2['shift_out'] = X_test_2['hour_of_day_out'].apply(get_shift)\n"
   ]
  },
  {
   "cell_type": "markdown",
   "id": "cac134cd",
   "metadata": {},
   "source": [
    "- Create \"age\" bins using bin_width interval of 5 years"
   ]
  },
  {
   "cell_type": "code",
   "execution_count": 164,
   "id": "c8e03b62",
   "metadata": {},
   "outputs": [
    {
     "data": {
      "text/plain": [
       "[53.0, 58.0)    30993\n",
       "[58.0, 63.0)    29844\n",
       "[23.0, 28.0)    28487\n",
       "[48.0, 53.0)    27796\n",
       "[63.0, 68.0)    27605\n",
       "[28.0, 33.0)    25620\n",
       "[18.0, 23.0)    25401\n",
       "[68.0, 73.0)    24830\n",
       "[33.0, 38.0)    22415\n",
       "[43.0, 48.0)    22274\n",
       "[38.0, 43.0)    20558\n",
       "[73.0, 78.0)    20144\n",
       "[78.0, 83.0)    17106\n",
       "[83.0, 88.0)    14912\n",
       "[88.0, 93.0)    12502\n",
       "[93.0, 98.0)     3428\n",
       "[98.0, inf)       266\n",
       "Name: age_binned, dtype: int64"
      ]
     },
     "execution_count": 164,
     "metadata": {},
     "output_type": "execute_result"
    }
   ],
   "source": [
    "# Define the minimum and maximum age values and the bin interval\n",
    "min_age = int(X_train_2['age'].min())\n",
    "max_age = int(X_train_2['age'].max())\n",
    "bin_interval = 5\n",
    "\n",
    "# Create bin edges using fixed-width binning with a 5-year interval\n",
    "bin_edges = list(range(min_age, max_age, bin_interval)) + [float('inf')]\n",
    "\n",
    "# Apply the binning to the 'age' column for train dataset\n",
    "X_train_2['age_binned'] = pd.cut(X_train_2['age'], bins=bin_edges, right=False)\n",
    "\n",
    "## Apply the binning to the 'age' column for test dataset\n",
    "X_test_2['age_binned'] = pd.cut(X_test_2['age'], bins=bin_edges, right=False)\n",
    "\n",
    "X_train_2['age_binned'].value_counts()"
   ]
  },
  {
   "cell_type": "markdown",
   "id": "a2f80d7f",
   "metadata": {},
   "source": [
    "- Using one-hot encoding for categorical variables"
   ]
  },
  {
   "cell_type": "code",
   "execution_count": 165,
   "id": "cd0d36d7",
   "metadata": {},
   "outputs": [],
   "source": [
    "# Assign a list to capture all categorical variables\n",
    "# more categorical variables can be added to this list\n",
    "cat_features = ['age_binned','gender','day_of_week_in','day_of_week_out','shift_in','shift_out']\n",
    "\n",
    "enc = OneHotEncoder(drop='first') # first col dropped\n",
    "enc.fit(X_train_2[cat_features])\n",
    "\n",
    "# One-hot encoding for categorical variable in the train set\n",
    "feature_enc_train = pd.DataFrame(enc.transform(X_train_2[cat_features]).toarray())\n",
    "# Assign column header for the encoded field\n",
    "feature_enc_train.columns = enc.get_feature_names_out(cat_features)\n",
    "# drop original columns\n",
    "X_train_2 = X_train_2.drop(columns = cat_features)\n",
    "# join dfs together\n",
    "X_train_2 = pd.concat([X_train_2.reset_index(drop=True), feature_enc_train], axis='columns')\n",
    "\n",
    "# One-hot encoding for categorical variable in the test set\n",
    "feature_enc_test = pd.DataFrame(enc.transform(X_test_2[cat_features]).toarray())\n",
    "feature_enc_test.columns = enc.get_feature_names_out(cat_features)\n",
    "# drop original columns\n",
    "X_test_2 = X_test_2.drop(columns = cat_features)\n",
    "# join dfs together\n",
    "X_test_2 = pd.concat([X_test_2.reset_index(drop=True), feature_enc_test], axis='columns')\n"
   ]
  },
  {
   "cell_type": "code",
   "execution_count": 166,
   "id": "9bdbea82",
   "metadata": {},
   "outputs": [],
   "source": [
    "X_train_2.drop(['intime_ed','outtime_ed','hour_of_day_in','hour_of_day_out','age'],axis = 'columns',inplace = True)\n",
    "X_test_2.drop(['intime_ed','outtime_ed','hour_of_day_in','hour_of_day_out','age'],axis = 'columns',inplace = True)"
   ]
  },
  {
   "cell_type": "markdown",
   "id": "0a647deb",
   "metadata": {},
   "source": [
    "### 4. Feature Scaling of Numerical Variables"
   ]
  },
  {
   "cell_type": "code",
   "execution_count": 20,
   "id": "2ef4aa15",
   "metadata": {},
   "outputs": [],
   "source": [
    "# X_train_3 is only scaled"
   ]
  },
  {
   "cell_type": "code",
   "execution_count": 167,
   "id": "a277896b",
   "metadata": {},
   "outputs": [],
   "source": [
    "# List the numerical variables which require scaling\n",
    "num_features = ['n_ed_30d', \n",
    "       'n_hosp_365d', 'n_icu_30d','ed_los_hours',\n",
    "       'triage_temperature', 'triage_resprate',\n",
    "       'triage_o2sat', 'triage_dbp','triage_acuity',\n",
    "        'ed_temperature_last','ed_heartrate_last', 'ed_resprate_last', 'ed_o2sat_last', 'ed_sbp_last',\n",
    "       'ed_pain_last', 'n_med']\n",
    "\n",
    "# instantiate MinMaxScaler to normalise the numeric fields\n",
    "minmax = MinMaxScaler()\n",
    "minmax.fit(X_train_3[num_features])\n",
    "\n",
    "# Feature scaling for train set\n",
    "feature_scaling_train = pd.DataFrame(minmax.transform(X_train_3[num_features]))\n",
    "feature_scaling_train.columns = num_features\n",
    "X_train_3 = X_train_3.drop(columns = num_features) # drop original columns\n",
    "X_train_3 = pd.concat([X_train_3.reset_index(drop=True), feature_scaling_train], axis='columns')\n",
    "\n",
    "\n",
    "\n",
    "# Feature scaling for test set\n",
    "feature_scaling_test = pd.DataFrame(minmax.transform(X_test_3[num_features]))\n",
    "feature_scaling_test.columns = num_features\n",
    "X_test_3 = X_test_3.drop(columns = num_features) # drop original columns\n",
    "X_test_3 = pd.concat([X_test_3.reset_index(drop=True), feature_scaling_test], axis='columns')\n"
   ]
  },
  {
   "cell_type": "code",
   "execution_count": null,
   "id": "8efa91a5",
   "metadata": {},
   "outputs": [],
   "source": []
  },
  {
   "cell_type": "code",
   "execution_count": null,
   "id": "1820b89e",
   "metadata": {},
   "outputs": [],
   "source": []
  },
  {
   "cell_type": "code",
   "execution_count": null,
   "id": "9ec2d967",
   "metadata": {},
   "outputs": [],
   "source": []
  },
  {
   "cell_type": "code",
   "execution_count": 22,
   "id": "d336bb40",
   "metadata": {},
   "outputs": [],
   "source": [
    "# X_train_4 is only scaled and binned"
   ]
  },
  {
   "cell_type": "code",
   "execution_count": 168,
   "id": "c3316233",
   "metadata": {},
   "outputs": [],
   "source": [
    "X_train_4 = X_train_2.copy()\n",
    "X_test_4 = X_test_2.copy()\n",
    "\n",
    "minmax.fit(X_train_4[num_features])\n",
    "\n",
    "# Feature scaling for train set\n",
    "feature_scaling_train = pd.DataFrame(minmax.transform(X_train_4[num_features]))\n",
    "feature_scaling_train.columns = num_features\n",
    "X_train_4 = X_train_4.drop(columns = num_features) # drop original columns\n",
    "X_train_4 = pd.concat([X_train_4.reset_index(drop = True), feature_scaling_train], axis = 'columns') # join dfs together\n",
    "\n",
    "# Feature scaling for test set\n",
    "feature_scaling_test = pd.DataFrame(minmax.transform(X_test_4[num_features]))\n",
    "feature_scaling_test.columns = num_features\n",
    "X_test_4 = X_test_4.drop(columns = num_features) # drop original columns\n",
    "X_test_4 = pd.concat([X_test_4.reset_index(drop = True),feature_scaling_test], axis = 'columns') # join dfs together"
   ]
  },
  {
   "cell_type": "code",
   "execution_count": 83,
   "id": "46daa177",
   "metadata": {},
   "outputs": [
    {
     "data": {
      "text/plain": [
       "age                             0\n",
       "gender                          0\n",
       "intime_ed                       0\n",
       "outtime_ed                      0\n",
       "outcome_icu_transfer_12h        0\n",
       "n_ed_30d                        0\n",
       "n_hosp_365d                     0\n",
       "n_icu_30d                       0\n",
       "ed_los_hours                    0\n",
       "triage_temperature              0\n",
       "triage_acuity                   0\n",
       "triage_resprate                 0\n",
       "triage_o2sat                    0\n",
       "triage_dbp                      0\n",
       "chiefcom_chest_pain             0\n",
       "chiefcom_abdominal_pain         0\n",
       "chiefcom_headache               0\n",
       "chiefcom_shortness_of_breath    0\n",
       "chiefcom_back_pain              0\n",
       "chiefcom_cough                  0\n",
       "chiefcom_nausea_vomiting        0\n",
       "chiefcom_fever_chills           0\n",
       "chiefcom_syncope                0\n",
       "chiefcom_dizziness              0\n",
       "cci_MI                          0\n",
       "cci_PVD                         0\n",
       "cci_Stroke                      0\n",
       "cci_Dementia                    0\n",
       "cci_Pulmonary                   0\n",
       "cci_Rheumatic                   0\n",
       "cci_PUD                         0\n",
       "cci_Liver1                      0\n",
       "cci_DM2                         0\n",
       "cci_Paralysis                   0\n",
       "cci_HIV                         0\n",
       "cci_Liver2                      0\n",
       "eci_Arrhythmia                  0\n",
       "eci_Valvular                    0\n",
       "eci_PHTN                        0\n",
       "eci_Tumor1                      0\n",
       "eci_NeuroOther                  0\n",
       "eci_Hypothyroid                 0\n",
       "eci_Lymphoma                    0\n",
       "eci_Coagulopathy                0\n",
       "eci_Obesity                     0\n",
       "eci_WeightLoss                  0\n",
       "eci_BloodLoss                   0\n",
       "eci_Anemia                      0\n",
       "eci_Alcohol                     0\n",
       "eci_Drugs                       0\n",
       "eci_Psychoses                   0\n",
       "eci_Depression                  0\n",
       "ed_temperature_last             0\n",
       "ed_heartrate_last               0\n",
       "ed_resprate_last                0\n",
       "ed_o2sat_last                   0\n",
       "ed_sbp_last                     0\n",
       "ed_pain_last                    0\n",
       "n_med                           0\n",
       "dtype: int64"
      ]
     },
     "execution_count": 83,
     "metadata": {},
     "output_type": "execute_result"
    }
   ],
   "source": [
    "\n",
    "\n",
    "X_train.isnull().sum()"
   ]
  },
  {
   "cell_type": "markdown",
   "id": "e55a6281",
   "metadata": {},
   "source": [
    "(1) X_train_1 Using Decision Tree to acquire initial feature importance"
   ]
  },
  {
   "cell_type": "code",
   "execution_count": 84,
   "id": "178bee9f",
   "metadata": {},
   "outputs": [],
   "source": [
    "# Create Decision Tree classifer object\n",
    "clf = DecisionTreeClassifier()\n",
    "\n",
    "# Train Decision Tree Classifer\n",
    "clf = clf.fit(X_train_1,y_train)\n",
    "\n",
    "# #Predict the response for test dataset\n",
    "# y_pred = clf.predict(X_test_1)\n"
   ]
  },
  {
   "cell_type": "code",
   "execution_count": null,
   "id": "ee3c7c50",
   "metadata": {},
   "outputs": [],
   "source": [
    "# # Model Accuracy, how often is the classifier correct?\n",
    "# print(\"Accuracy:\",metrics.accuracy_score(y_test, y_pred))\n"
   ]
  },
  {
   "cell_type": "code",
   "execution_count": 85,
   "id": "b21ebf34",
   "metadata": {},
   "outputs": [
    {
     "data": {
      "text/html": [
       "<div>\n",
       "<style scoped>\n",
       "    .dataframe tbody tr th:only-of-type {\n",
       "        vertical-align: middle;\n",
       "    }\n",
       "\n",
       "    .dataframe tbody tr th {\n",
       "        vertical-align: top;\n",
       "    }\n",
       "\n",
       "    .dataframe thead th {\n",
       "        text-align: right;\n",
       "    }\n",
       "</style>\n",
       "<table border=\"1\" class=\"dataframe\">\n",
       "  <thead>\n",
       "    <tr style=\"text-align: right;\">\n",
       "      <th></th>\n",
       "      <th>Feature</th>\n",
       "      <th>Importances</th>\n",
       "    </tr>\n",
       "  </thead>\n",
       "  <tbody>\n",
       "    <tr>\n",
       "      <th>8</th>\n",
       "      <td>ed_los_hours</td>\n",
       "      <td>0.086197</td>\n",
       "    </tr>\n",
       "    <tr>\n",
       "      <th>56</th>\n",
       "      <td>ed_sbp_last</td>\n",
       "      <td>0.076274</td>\n",
       "    </tr>\n",
       "    <tr>\n",
       "      <th>0</th>\n",
       "      <td>age</td>\n",
       "      <td>0.073155</td>\n",
       "    </tr>\n",
       "    <tr>\n",
       "      <th>13</th>\n",
       "      <td>triage_dbp</td>\n",
       "      <td>0.067476</td>\n",
       "    </tr>\n",
       "    <tr>\n",
       "      <th>53</th>\n",
       "      <td>ed_heartrate_last</td>\n",
       "      <td>0.064228</td>\n",
       "    </tr>\n",
       "    <tr>\n",
       "      <th>9</th>\n",
       "      <td>triage_temperature</td>\n",
       "      <td>0.062789</td>\n",
       "    </tr>\n",
       "    <tr>\n",
       "      <th>52</th>\n",
       "      <td>ed_temperature_last</td>\n",
       "      <td>0.059024</td>\n",
       "    </tr>\n",
       "    <tr>\n",
       "      <th>5</th>\n",
       "      <td>n_ed_30d</td>\n",
       "      <td>0.050979</td>\n",
       "    </tr>\n",
       "    <tr>\n",
       "      <th>2</th>\n",
       "      <td>intime_ed</td>\n",
       "      <td>0.043393</td>\n",
       "    </tr>\n",
       "    <tr>\n",
       "      <th>3</th>\n",
       "      <td>outtime_ed</td>\n",
       "      <td>0.042586</td>\n",
       "    </tr>\n",
       "    <tr>\n",
       "      <th>58</th>\n",
       "      <td>n_med</td>\n",
       "      <td>0.034976</td>\n",
       "    </tr>\n",
       "    <tr>\n",
       "      <th>12</th>\n",
       "      <td>triage_o2sat</td>\n",
       "      <td>0.033435</td>\n",
       "    </tr>\n",
       "    <tr>\n",
       "      <th>11</th>\n",
       "      <td>triage_resprate</td>\n",
       "      <td>0.032261</td>\n",
       "    </tr>\n",
       "    <tr>\n",
       "      <th>55</th>\n",
       "      <td>ed_o2sat_last</td>\n",
       "      <td>0.031841</td>\n",
       "    </tr>\n",
       "    <tr>\n",
       "      <th>54</th>\n",
       "      <td>ed_resprate_last</td>\n",
       "      <td>0.028542</td>\n",
       "    </tr>\n",
       "    <tr>\n",
       "      <th>57</th>\n",
       "      <td>ed_pain_last</td>\n",
       "      <td>0.027948</td>\n",
       "    </tr>\n",
       "    <tr>\n",
       "      <th>6</th>\n",
       "      <td>n_hosp_365d</td>\n",
       "      <td>0.025225</td>\n",
       "    </tr>\n",
       "    <tr>\n",
       "      <th>10</th>\n",
       "      <td>triage_acuity</td>\n",
       "      <td>0.018750</td>\n",
       "    </tr>\n",
       "    <tr>\n",
       "      <th>1</th>\n",
       "      <td>gender</td>\n",
       "      <td>0.011564</td>\n",
       "    </tr>\n",
       "    <tr>\n",
       "      <th>15</th>\n",
       "      <td>chiefcom_abdominal_pain</td>\n",
       "      <td>0.007353</td>\n",
       "    </tr>\n",
       "    <tr>\n",
       "      <th>14</th>\n",
       "      <td>chiefcom_chest_pain</td>\n",
       "      <td>0.006055</td>\n",
       "    </tr>\n",
       "    <tr>\n",
       "      <th>48</th>\n",
       "      <td>eci_Alcohol</td>\n",
       "      <td>0.005634</td>\n",
       "    </tr>\n",
       "    <tr>\n",
       "      <th>16</th>\n",
       "      <td>chiefcom_headache</td>\n",
       "      <td>0.005341</td>\n",
       "    </tr>\n",
       "    <tr>\n",
       "      <th>28</th>\n",
       "      <td>cci_Pulmonary</td>\n",
       "      <td>0.004935</td>\n",
       "    </tr>\n",
       "    <tr>\n",
       "      <th>20</th>\n",
       "      <td>chiefcom_nausea_vomiting</td>\n",
       "      <td>0.004711</td>\n",
       "    </tr>\n",
       "    <tr>\n",
       "      <th>36</th>\n",
       "      <td>eci_Arrhythmia</td>\n",
       "      <td>0.004694</td>\n",
       "    </tr>\n",
       "    <tr>\n",
       "      <th>50</th>\n",
       "      <td>eci_Psychoses</td>\n",
       "      <td>0.004631</td>\n",
       "    </tr>\n",
       "    <tr>\n",
       "      <th>51</th>\n",
       "      <td>eci_Depression</td>\n",
       "      <td>0.004604</td>\n",
       "    </tr>\n",
       "    <tr>\n",
       "      <th>44</th>\n",
       "      <td>eci_Obesity</td>\n",
       "      <td>0.004559</td>\n",
       "    </tr>\n",
       "    <tr>\n",
       "      <th>18</th>\n",
       "      <td>chiefcom_back_pain</td>\n",
       "      <td>0.004190</td>\n",
       "    </tr>\n",
       "    <tr>\n",
       "      <th>31</th>\n",
       "      <td>cci_Liver1</td>\n",
       "      <td>0.004187</td>\n",
       "    </tr>\n",
       "    <tr>\n",
       "      <th>40</th>\n",
       "      <td>eci_NeuroOther</td>\n",
       "      <td>0.004124</td>\n",
       "    </tr>\n",
       "    <tr>\n",
       "      <th>47</th>\n",
       "      <td>eci_Anemia</td>\n",
       "      <td>0.003903</td>\n",
       "    </tr>\n",
       "    <tr>\n",
       "      <th>32</th>\n",
       "      <td>cci_DM2</td>\n",
       "      <td>0.003796</td>\n",
       "    </tr>\n",
       "    <tr>\n",
       "      <th>23</th>\n",
       "      <td>chiefcom_dizziness</td>\n",
       "      <td>0.003655</td>\n",
       "    </tr>\n",
       "    <tr>\n",
       "      <th>43</th>\n",
       "      <td>eci_Coagulopathy</td>\n",
       "      <td>0.003316</td>\n",
       "    </tr>\n",
       "    <tr>\n",
       "      <th>39</th>\n",
       "      <td>eci_Tumor1</td>\n",
       "      <td>0.003302</td>\n",
       "    </tr>\n",
       "    <tr>\n",
       "      <th>26</th>\n",
       "      <td>cci_Stroke</td>\n",
       "      <td>0.003192</td>\n",
       "    </tr>\n",
       "    <tr>\n",
       "      <th>25</th>\n",
       "      <td>cci_PVD</td>\n",
       "      <td>0.003174</td>\n",
       "    </tr>\n",
       "    <tr>\n",
       "      <th>41</th>\n",
       "      <td>eci_Hypothyroid</td>\n",
       "      <td>0.003069</td>\n",
       "    </tr>\n",
       "    <tr>\n",
       "      <th>49</th>\n",
       "      <td>eci_Drugs</td>\n",
       "      <td>0.002904</td>\n",
       "    </tr>\n",
       "    <tr>\n",
       "      <th>45</th>\n",
       "      <td>eci_WeightLoss</td>\n",
       "      <td>0.002886</td>\n",
       "    </tr>\n",
       "    <tr>\n",
       "      <th>37</th>\n",
       "      <td>eci_Valvular</td>\n",
       "      <td>0.002780</td>\n",
       "    </tr>\n",
       "    <tr>\n",
       "      <th>24</th>\n",
       "      <td>cci_MI</td>\n",
       "      <td>0.002747</td>\n",
       "    </tr>\n",
       "    <tr>\n",
       "      <th>22</th>\n",
       "      <td>chiefcom_syncope</td>\n",
       "      <td>0.002680</td>\n",
       "    </tr>\n",
       "    <tr>\n",
       "      <th>21</th>\n",
       "      <td>chiefcom_fever_chills</td>\n",
       "      <td>0.002465</td>\n",
       "    </tr>\n",
       "    <tr>\n",
       "      <th>29</th>\n",
       "      <td>cci_Rheumatic</td>\n",
       "      <td>0.002172</td>\n",
       "    </tr>\n",
       "    <tr>\n",
       "      <th>38</th>\n",
       "      <td>eci_PHTN</td>\n",
       "      <td>0.002131</td>\n",
       "    </tr>\n",
       "    <tr>\n",
       "      <th>19</th>\n",
       "      <td>chiefcom_cough</td>\n",
       "      <td>0.002025</td>\n",
       "    </tr>\n",
       "    <tr>\n",
       "      <th>7</th>\n",
       "      <td>n_icu_30d</td>\n",
       "      <td>0.001877</td>\n",
       "    </tr>\n",
       "    <tr>\n",
       "      <th>46</th>\n",
       "      <td>eci_BloodLoss</td>\n",
       "      <td>0.001821</td>\n",
       "    </tr>\n",
       "    <tr>\n",
       "      <th>30</th>\n",
       "      <td>cci_PUD</td>\n",
       "      <td>0.001767</td>\n",
       "    </tr>\n",
       "    <tr>\n",
       "      <th>34</th>\n",
       "      <td>cci_HIV</td>\n",
       "      <td>0.001727</td>\n",
       "    </tr>\n",
       "    <tr>\n",
       "      <th>35</th>\n",
       "      <td>cci_Liver2</td>\n",
       "      <td>0.001648</td>\n",
       "    </tr>\n",
       "    <tr>\n",
       "      <th>33</th>\n",
       "      <td>cci_Paralysis</td>\n",
       "      <td>0.001624</td>\n",
       "    </tr>\n",
       "    <tr>\n",
       "      <th>42</th>\n",
       "      <td>eci_Lymphoma</td>\n",
       "      <td>0.001596</td>\n",
       "    </tr>\n",
       "    <tr>\n",
       "      <th>27</th>\n",
       "      <td>cci_Dementia</td>\n",
       "      <td>0.001474</td>\n",
       "    </tr>\n",
       "    <tr>\n",
       "      <th>17</th>\n",
       "      <td>chiefcom_shortness_of_breath</td>\n",
       "      <td>0.000379</td>\n",
       "    </tr>\n",
       "    <tr>\n",
       "      <th>4</th>\n",
       "      <td>outcome_icu_transfer_12h</td>\n",
       "      <td>0.000230</td>\n",
       "    </tr>\n",
       "  </tbody>\n",
       "</table>\n",
       "</div>"
      ],
      "text/plain": [
       "                         Feature  Importances\n",
       "8                   ed_los_hours     0.086197\n",
       "56                   ed_sbp_last     0.076274\n",
       "0                            age     0.073155\n",
       "13                    triage_dbp     0.067476\n",
       "53             ed_heartrate_last     0.064228\n",
       "9             triage_temperature     0.062789\n",
       "52           ed_temperature_last     0.059024\n",
       "5                       n_ed_30d     0.050979\n",
       "2                      intime_ed     0.043393\n",
       "3                     outtime_ed     0.042586\n",
       "58                         n_med     0.034976\n",
       "12                  triage_o2sat     0.033435\n",
       "11               triage_resprate     0.032261\n",
       "55                 ed_o2sat_last     0.031841\n",
       "54              ed_resprate_last     0.028542\n",
       "57                  ed_pain_last     0.027948\n",
       "6                    n_hosp_365d     0.025225\n",
       "10                 triage_acuity     0.018750\n",
       "1                         gender     0.011564\n",
       "15       chiefcom_abdominal_pain     0.007353\n",
       "14           chiefcom_chest_pain     0.006055\n",
       "48                   eci_Alcohol     0.005634\n",
       "16             chiefcom_headache     0.005341\n",
       "28                 cci_Pulmonary     0.004935\n",
       "20      chiefcom_nausea_vomiting     0.004711\n",
       "36                eci_Arrhythmia     0.004694\n",
       "50                 eci_Psychoses     0.004631\n",
       "51                eci_Depression     0.004604\n",
       "44                   eci_Obesity     0.004559\n",
       "18            chiefcom_back_pain     0.004190\n",
       "31                    cci_Liver1     0.004187\n",
       "40                eci_NeuroOther     0.004124\n",
       "47                    eci_Anemia     0.003903\n",
       "32                       cci_DM2     0.003796\n",
       "23            chiefcom_dizziness     0.003655\n",
       "43              eci_Coagulopathy     0.003316\n",
       "39                    eci_Tumor1     0.003302\n",
       "26                    cci_Stroke     0.003192\n",
       "25                       cci_PVD     0.003174\n",
       "41               eci_Hypothyroid     0.003069\n",
       "49                     eci_Drugs     0.002904\n",
       "45                eci_WeightLoss     0.002886\n",
       "37                  eci_Valvular     0.002780\n",
       "24                        cci_MI     0.002747\n",
       "22              chiefcom_syncope     0.002680\n",
       "21         chiefcom_fever_chills     0.002465\n",
       "29                 cci_Rheumatic     0.002172\n",
       "38                      eci_PHTN     0.002131\n",
       "19                chiefcom_cough     0.002025\n",
       "7                      n_icu_30d     0.001877\n",
       "46                 eci_BloodLoss     0.001821\n",
       "30                       cci_PUD     0.001767\n",
       "34                       cci_HIV     0.001727\n",
       "35                    cci_Liver2     0.001648\n",
       "33                 cci_Paralysis     0.001624\n",
       "42                  eci_Lymphoma     0.001596\n",
       "27                  cci_Dementia     0.001474\n",
       "17  chiefcom_shortness_of_breath     0.000379\n",
       "4       outcome_icu_transfer_12h     0.000230"
      ]
     },
     "execution_count": 85,
     "metadata": {},
     "output_type": "execute_result"
    }
   ],
   "source": [
    "FI_1 = clf.feature_importances_\n",
    "df_1 = pd.DataFrame({'Feature':X_train.columns,'Importances':FI_1}).sort_values(by = \"Importances\",ascending = False)\n",
    "df_1"
   ]
  },
  {
   "cell_type": "code",
   "execution_count": 87,
   "id": "c3de4aef",
   "metadata": {},
   "outputs": [
    {
     "data": {
      "image/png": "[encoded data removed]",
      "text/plain": [
       "<Figure size 432x288 with 1 Axes>"
      ]
     },
     "metadata": {
      "needs_background": "light"
     },
     "output_type": "display_data"
    }
   ],
   "source": [
    "plt.bar(df_1['Feature'],df_1['Importances'])\n",
    "plt.xticks(rotation=45,fontsize = 4)\n",
    "plt.show()"
   ]
  },
  {
   "cell_type": "code",
   "execution_count": 88,
   "id": "19150013",
   "metadata": {
    "scrolled": true
   },
   "outputs": [],
   "source": [
    "important_feature_1 = df_1.loc[df_1['Importances']>0.01]['Feature'].values"
   ]
  },
  {
   "cell_type": "code",
   "execution_count": 89,
   "id": "d6833b56",
   "metadata": {},
   "outputs": [
    {
     "name": "stdout",
     "output_type": "stream",
     "text": [
      "class ratio\n",
      "positive : negative = -0.03253025212379469 : 1\n"
     ]
    }
   ],
   "source": [
    "X_train_1 = X_train_1[important_feature_1]\n",
    "X_test_1 = X_test_1[important_feature_1]\n",
    "\n",
    "print('class ratio')\n",
    "ratio = y_train.sum()/(~y_train).sum()\n",
    "print('positive : negative =', ratio, ': 1')"
   ]
  },
  {
   "cell_type": "markdown",
   "id": "9600d91a",
   "metadata": {},
   "source": [
    "(2) X_train_2 Using Decision Tree to obtain initial feature importance"
   ]
  },
  {
   "cell_type": "code",
   "execution_count": 90,
   "id": "fdd5161c",
   "metadata": {},
   "outputs": [],
   "source": [
    "# Train Decision Tree Classifer\n",
    "clf_2 = clf.fit(X_train_2,y_train)\n",
    "\n"
   ]
  },
  {
   "cell_type": "code",
   "execution_count": 91,
   "id": "e9b9836e",
   "metadata": {},
   "outputs": [],
   "source": [
    "FI_2 = clf_2.feature_importances_\n",
    "df_2 = pd.DataFrame({'Feature':X_train_2.columns,'Importances':FI_2}).sort_values(by = \"Importances\",ascending = False)"
   ]
  },
  {
   "cell_type": "code",
   "execution_count": 92,
   "id": "70da7d7e",
   "metadata": {},
   "outputs": [
    {
     "data": {
      "image/png": "[encoded data removed]",
      "text/plain": [
       "<Figure size 432x288 with 1 Axes>"
      ]
     },
     "metadata": {
      "needs_background": "light"
     },
     "output_type": "display_data"
    }
   ],
   "source": [
    "plt.bar(df_2['Feature'],df_2['Importances'])\n",
    "plt.xticks(rotation=45, fontsize = 3)\n",
    "plt.show()"
   ]
  },
  {
   "cell_type": "code",
   "execution_count": 94,
   "id": "0d7403cd",
   "metadata": {},
   "outputs": [
    {
     "name": "stdout",
     "output_type": "stream",
     "text": [
      "class ratio\n",
      "positive : negative = -0.03253025212379469 : 1\n"
     ]
    }
   ],
   "source": [
    "important_feature_2 = df_2.loc[df_2['Importances']>0.01]['Feature'].values\n",
    "\n",
    "X_train_2 = X_train_2[important_feature_2]\n",
    "X_test_2 = X_test_2[important_feature_2]\n",
    "\n",
    "print('class ratio')\n",
    "ratio = y_train.sum()/(~y_train).sum()\n",
    "print('positive : negative =', ratio, ': 1')"
   ]
  },
  {
   "cell_type": "code",
   "execution_count": null,
   "id": "9484fce0",
   "metadata": {},
   "outputs": [],
   "source": []
  },
  {
   "cell_type": "markdown",
   "id": "6d2d5ab4",
   "metadata": {},
   "source": [
    "(3) X_train_3 Using Decision Tree to acquire initial feature importance"
   ]
  },
  {
   "cell_type": "code",
   "execution_count": 95,
   "id": "c526e703",
   "metadata": {},
   "outputs": [],
   "source": [
    "# Train Decision Tree Classifer\n",
    "clf_3 = clf.fit(X_train_3,y_train)\n",
    "\n"
   ]
  },
  {
   "cell_type": "code",
   "execution_count": 96,
   "id": "33994b4b",
   "metadata": {},
   "outputs": [],
   "source": [
    "FI_3 = clf_3.feature_importances_\n",
    "df_3 = pd.DataFrame({'Feature':X_train_3.columns,'Importances':FI_3}).sort_values(by = \"Importances\",ascending = False)\n"
   ]
  },
  {
   "cell_type": "code",
   "execution_count": 151,
   "id": "15ed2196",
   "metadata": {},
   "outputs": [
    {
     "name": "stdout",
     "output_type": "stream",
     "text": [
      "                         Feature  Importances\n",
      "46                  ed_los_hours     0.083205\n",
      "56                   ed_sbp_last     0.076082\n",
      "50                    triage_dbp     0.069343\n",
      "0                            age     0.069306\n",
      "53             ed_heartrate_last     0.065172\n",
      "47            triage_temperature     0.063193\n",
      "52           ed_temperature_last     0.060565\n",
      "43                      n_ed_30d     0.051033\n",
      "2                      intime_ed     0.043499\n",
      "3                     outtime_ed     0.043095\n",
      "58                         n_med     0.033555\n",
      "48               triage_resprate     0.032629\n",
      "49                  triage_o2sat     0.032334\n",
      "55                 ed_o2sat_last     0.030842\n",
      "54              ed_resprate_last     0.030454\n",
      "57                  ed_pain_last     0.027656\n",
      "44                   n_hosp_365d     0.026566\n",
      "51                 triage_acuity     0.018339\n",
      "1                         gender     0.010634\n",
      "6        chiefcom_abdominal_pain     0.007010\n",
      "5            chiefcom_chest_pain     0.006092\n",
      "19                 cci_Pulmonary     0.005651\n",
      "39                   eci_Alcohol     0.005602\n",
      "7              chiefcom_headache     0.005299\n",
      "42                eci_Depression     0.005244\n",
      "31                eci_NeuroOther     0.004943\n",
      "35                   eci_Obesity     0.004856\n",
      "11      chiefcom_nausea_vomiting     0.004575\n",
      "41                 eci_Psychoses     0.004477\n",
      "27                eci_Arrhythmia     0.004368\n",
      "22                    cci_Liver1     0.004115\n",
      "9             chiefcom_back_pain     0.003969\n",
      "32               eci_Hypothyroid     0.003940\n",
      "38                    eci_Anemia     0.003807\n",
      "14            chiefcom_dizziness     0.003679\n",
      "36                eci_WeightLoss     0.003586\n",
      "30                    eci_Tumor1     0.003534\n",
      "40                     eci_Drugs     0.003417\n",
      "23                       cci_DM2     0.003269\n",
      "34              eci_Coagulopathy     0.003232\n",
      "12         chiefcom_fever_chills     0.003139\n",
      "17                    cci_Stroke     0.003096\n",
      "16                       cci_PVD     0.003027\n",
      "15                        cci_MI     0.002595\n",
      "20                 cci_Rheumatic     0.002482\n",
      "13              chiefcom_syncope     0.002448\n",
      "10                chiefcom_cough     0.002432\n",
      "28                  eci_Valvular     0.002406\n",
      "29                      eci_PHTN     0.002124\n",
      "37                 eci_BloodLoss     0.002024\n",
      "25                       cci_HIV     0.001805\n",
      "21                       cci_PUD     0.001609\n",
      "18                  cci_Dementia     0.001518\n",
      "33                  eci_Lymphoma     0.001491\n",
      "24                 cci_Paralysis     0.001474\n",
      "26                    cci_Liver2     0.001465\n",
      "45                     n_icu_30d     0.001456\n",
      "4       outcome_icu_transfer_12h     0.000731\n",
      "8   chiefcom_shortness_of_breath     0.000513\n"
     ]
    }
   ],
   "source": [
    "print(df_3)"
   ]
  },
  {
   "cell_type": "code",
   "execution_count": 97,
   "id": "75345282",
   "metadata": {},
   "outputs": [
    {
     "data": {
      "image/png": "[encoded data removed]",
      "text/plain": [
       "<Figure size 432x288 with 1 Axes>"
      ]
     },
     "metadata": {
      "needs_background": "light"
     },
     "output_type": "display_data"
    }
   ],
   "source": [
    "plt.bar(df_3['Feature'],df_3['Importances'])\n",
    "plt.xticks(rotation=45, fontsize = 3)\n",
    "plt.show()"
   ]
  },
  {
   "cell_type": "code",
   "execution_count": 98,
   "id": "e00b3ed3",
   "metadata": {},
   "outputs": [
    {
     "name": "stdout",
     "output_type": "stream",
     "text": [
      "class ratio\n",
      "positive : negative = -0.03253025212379469 : 1\n"
     ]
    }
   ],
   "source": [
    "important_feature_3 = df_3.loc[df_3['Importances']>0.01]['Feature'].values\n",
    "\n",
    "X_train_3 = X_train_3[important_feature_3]\n",
    "X_test_3 = X_test_3[important_feature_3]\n",
    "\n",
    "print('class ratio')\n",
    "ratio = y_train.sum()/(~y_train).sum()\n",
    "print('positive : negative =', ratio, ': 1')"
   ]
  },
  {
   "cell_type": "code",
   "execution_count": null,
   "id": "ca11b1e6",
   "metadata": {},
   "outputs": [],
   "source": []
  },
  {
   "cell_type": "markdown",
   "id": "8776e087",
   "metadata": {},
   "source": [
    "(4) X_train_4 Using Decision Tree to acquire initial feature importance"
   ]
  },
  {
   "cell_type": "code",
   "execution_count": 169,
   "id": "98fd99a4",
   "metadata": {},
   "outputs": [],
   "source": [
    "# Train Decision Tree Classifer\n",
    "clf_4 = clf.fit(X_train_4,y_train)"
   ]
  },
  {
   "cell_type": "code",
   "execution_count": 173,
   "id": "c6d613fa",
   "metadata": {},
   "outputs": [
    {
     "ename": "ValueError",
     "evalue": "All arrays must be of the same length",
     "output_type": "error",
     "traceback": [
      "\u001b[1;31m---------------------------------------------------------------------------\u001b[0m",
      "\u001b[1;31mValueError\u001b[0m                                Traceback (most recent call last)",
      "Input \u001b[1;32mIn [173]\u001b[0m, in \u001b[0;36m<cell line: 2>\u001b[1;34m()\u001b[0m\n\u001b[0;32m      1\u001b[0m FI_4 \u001b[38;5;241m=\u001b[39m clf_4\u001b[38;5;241m.\u001b[39mfeature_importances_\n\u001b[1;32m----> 2\u001b[0m df_4 \u001b[38;5;241m=\u001b[39m \u001b[43mpd\u001b[49m\u001b[38;5;241;43m.\u001b[39;49m\u001b[43mDataFrame\u001b[49m\u001b[43m(\u001b[49m\u001b[43m{\u001b[49m\u001b[38;5;124;43m'\u001b[39;49m\u001b[38;5;124;43mFeature\u001b[39;49m\u001b[38;5;124;43m'\u001b[39;49m\u001b[43m:\u001b[49m\u001b[43mX_train_4\u001b[49m\u001b[38;5;241;43m.\u001b[39;49m\u001b[43mcolumns\u001b[49m\u001b[43m,\u001b[49m\u001b[38;5;124;43m'\u001b[39;49m\u001b[38;5;124;43mImportances\u001b[39;49m\u001b[38;5;124;43m'\u001b[39;49m\u001b[43m:\u001b[49m\u001b[43mFI_4\u001b[49m\u001b[43m}\u001b[49m\u001b[43m)\u001b[49m\u001b[38;5;241m.\u001b[39msort_values(by \u001b[38;5;241m=\u001b[39m \u001b[38;5;124m\"\u001b[39m\u001b[38;5;124mImportances\u001b[39m\u001b[38;5;124m\"\u001b[39m,ascending \u001b[38;5;241m=\u001b[39m \u001b[38;5;28;01mFalse\u001b[39;00m)\n\u001b[0;32m      3\u001b[0m df_4\n",
      "File \u001b[1;32m~\\anaconda3\\lib\\site-packages\\pandas\\core\\frame.py:636\u001b[0m, in \u001b[0;36mDataFrame.__init__\u001b[1;34m(self, data, index, columns, dtype, copy)\u001b[0m\n\u001b[0;32m    630\u001b[0m     mgr \u001b[38;5;241m=\u001b[39m \u001b[38;5;28mself\u001b[39m\u001b[38;5;241m.\u001b[39m_init_mgr(\n\u001b[0;32m    631\u001b[0m         data, axes\u001b[38;5;241m=\u001b[39m{\u001b[38;5;124m\"\u001b[39m\u001b[38;5;124mindex\u001b[39m\u001b[38;5;124m\"\u001b[39m: index, \u001b[38;5;124m\"\u001b[39m\u001b[38;5;124mcolumns\u001b[39m\u001b[38;5;124m\"\u001b[39m: columns}, dtype\u001b[38;5;241m=\u001b[39mdtype, copy\u001b[38;5;241m=\u001b[39mcopy\n\u001b[0;32m    632\u001b[0m     )\n\u001b[0;32m    634\u001b[0m \u001b[38;5;28;01melif\u001b[39;00m \u001b[38;5;28misinstance\u001b[39m(data, \u001b[38;5;28mdict\u001b[39m):\n\u001b[0;32m    635\u001b[0m     \u001b[38;5;66;03m# GH#38939 de facto copy defaults to False only in non-dict cases\u001b[39;00m\n\u001b[1;32m--> 636\u001b[0m     mgr \u001b[38;5;241m=\u001b[39m \u001b[43mdict_to_mgr\u001b[49m\u001b[43m(\u001b[49m\u001b[43mdata\u001b[49m\u001b[43m,\u001b[49m\u001b[43m \u001b[49m\u001b[43mindex\u001b[49m\u001b[43m,\u001b[49m\u001b[43m \u001b[49m\u001b[43mcolumns\u001b[49m\u001b[43m,\u001b[49m\u001b[43m \u001b[49m\u001b[43mdtype\u001b[49m\u001b[38;5;241;43m=\u001b[39;49m\u001b[43mdtype\u001b[49m\u001b[43m,\u001b[49m\u001b[43m \u001b[49m\u001b[43mcopy\u001b[49m\u001b[38;5;241;43m=\u001b[39;49m\u001b[43mcopy\u001b[49m\u001b[43m,\u001b[49m\u001b[43m \u001b[49m\u001b[43mtyp\u001b[49m\u001b[38;5;241;43m=\u001b[39;49m\u001b[43mmanager\u001b[49m\u001b[43m)\u001b[49m\n\u001b[0;32m    637\u001b[0m \u001b[38;5;28;01melif\u001b[39;00m \u001b[38;5;28misinstance\u001b[39m(data, ma\u001b[38;5;241m.\u001b[39mMaskedArray):\n\u001b[0;32m    638\u001b[0m     \u001b[38;5;28;01mimport\u001b[39;00m \u001b[38;5;21;01mnumpy\u001b[39;00m\u001b[38;5;21;01m.\u001b[39;00m\u001b[38;5;21;01mma\u001b[39;00m\u001b[38;5;21;01m.\u001b[39;00m\u001b[38;5;21;01mmrecords\u001b[39;00m \u001b[38;5;28;01mas\u001b[39;00m \u001b[38;5;21;01mmrecords\u001b[39;00m\n",
      "File \u001b[1;32m~\\anaconda3\\lib\\site-packages\\pandas\\core\\internals\\construction.py:502\u001b[0m, in \u001b[0;36mdict_to_mgr\u001b[1;34m(data, index, columns, dtype, typ, copy)\u001b[0m\n\u001b[0;32m    494\u001b[0m     arrays \u001b[38;5;241m=\u001b[39m [\n\u001b[0;32m    495\u001b[0m         x\n\u001b[0;32m    496\u001b[0m         \u001b[38;5;28;01mif\u001b[39;00m \u001b[38;5;129;01mnot\u001b[39;00m \u001b[38;5;28mhasattr\u001b[39m(x, \u001b[38;5;124m\"\u001b[39m\u001b[38;5;124mdtype\u001b[39m\u001b[38;5;124m\"\u001b[39m) \u001b[38;5;129;01mor\u001b[39;00m \u001b[38;5;129;01mnot\u001b[39;00m \u001b[38;5;28misinstance\u001b[39m(x\u001b[38;5;241m.\u001b[39mdtype, ExtensionDtype)\n\u001b[0;32m    497\u001b[0m         \u001b[38;5;28;01melse\u001b[39;00m x\u001b[38;5;241m.\u001b[39mcopy()\n\u001b[0;32m    498\u001b[0m         \u001b[38;5;28;01mfor\u001b[39;00m x \u001b[38;5;129;01min\u001b[39;00m arrays\n\u001b[0;32m    499\u001b[0m     ]\n\u001b[0;32m    500\u001b[0m     \u001b[38;5;66;03m# TODO: can we get rid of the dt64tz special case above?\u001b[39;00m\n\u001b[1;32m--> 502\u001b[0m \u001b[38;5;28;01mreturn\u001b[39;00m \u001b[43marrays_to_mgr\u001b[49m\u001b[43m(\u001b[49m\u001b[43marrays\u001b[49m\u001b[43m,\u001b[49m\u001b[43m \u001b[49m\u001b[43mcolumns\u001b[49m\u001b[43m,\u001b[49m\u001b[43m \u001b[49m\u001b[43mindex\u001b[49m\u001b[43m,\u001b[49m\u001b[43m \u001b[49m\u001b[43mdtype\u001b[49m\u001b[38;5;241;43m=\u001b[39;49m\u001b[43mdtype\u001b[49m\u001b[43m,\u001b[49m\u001b[43m \u001b[49m\u001b[43mtyp\u001b[49m\u001b[38;5;241;43m=\u001b[39;49m\u001b[43mtyp\u001b[49m\u001b[43m,\u001b[49m\u001b[43m \u001b[49m\u001b[43mconsolidate\u001b[49m\u001b[38;5;241;43m=\u001b[39;49m\u001b[43mcopy\u001b[49m\u001b[43m)\u001b[49m\n",
      "File \u001b[1;32m~\\anaconda3\\lib\\site-packages\\pandas\\core\\internals\\construction.py:120\u001b[0m, in \u001b[0;36marrays_to_mgr\u001b[1;34m(arrays, columns, index, dtype, verify_integrity, typ, consolidate)\u001b[0m\n\u001b[0;32m    117\u001b[0m \u001b[38;5;28;01mif\u001b[39;00m verify_integrity:\n\u001b[0;32m    118\u001b[0m     \u001b[38;5;66;03m# figure out the index, if necessary\u001b[39;00m\n\u001b[0;32m    119\u001b[0m     \u001b[38;5;28;01mif\u001b[39;00m index \u001b[38;5;129;01mis\u001b[39;00m \u001b[38;5;28;01mNone\u001b[39;00m:\n\u001b[1;32m--> 120\u001b[0m         index \u001b[38;5;241m=\u001b[39m \u001b[43m_extract_index\u001b[49m\u001b[43m(\u001b[49m\u001b[43marrays\u001b[49m\u001b[43m)\u001b[49m\n\u001b[0;32m    121\u001b[0m     \u001b[38;5;28;01melse\u001b[39;00m:\n\u001b[0;32m    122\u001b[0m         index \u001b[38;5;241m=\u001b[39m ensure_index(index)\n",
      "File \u001b[1;32m~\\anaconda3\\lib\\site-packages\\pandas\\core\\internals\\construction.py:674\u001b[0m, in \u001b[0;36m_extract_index\u001b[1;34m(data)\u001b[0m\n\u001b[0;32m    672\u001b[0m lengths \u001b[38;5;241m=\u001b[39m \u001b[38;5;28mlist\u001b[39m(\u001b[38;5;28mset\u001b[39m(raw_lengths))\n\u001b[0;32m    673\u001b[0m \u001b[38;5;28;01mif\u001b[39;00m \u001b[38;5;28mlen\u001b[39m(lengths) \u001b[38;5;241m>\u001b[39m \u001b[38;5;241m1\u001b[39m:\n\u001b[1;32m--> 674\u001b[0m     \u001b[38;5;28;01mraise\u001b[39;00m \u001b[38;5;167;01mValueError\u001b[39;00m(\u001b[38;5;124m\"\u001b[39m\u001b[38;5;124mAll arrays must be of the same length\u001b[39m\u001b[38;5;124m\"\u001b[39m)\n\u001b[0;32m    676\u001b[0m \u001b[38;5;28;01mif\u001b[39;00m have_dicts:\n\u001b[0;32m    677\u001b[0m     \u001b[38;5;28;01mraise\u001b[39;00m \u001b[38;5;167;01mValueError\u001b[39;00m(\n\u001b[0;32m    678\u001b[0m         \u001b[38;5;124m\"\u001b[39m\u001b[38;5;124mMixing dicts with non-Series may lead to ambiguous ordering.\u001b[39m\u001b[38;5;124m\"\u001b[39m\n\u001b[0;32m    679\u001b[0m     )\n",
      "\u001b[1;31mValueError\u001b[0m: All arrays must be of the same length"
     ]
    }
   ],
   "source": [
    "FI_4 = clf_4.feature_importances_\n",
    "df_4 = pd.DataFrame({'Feature':X_train_4.columns,'Importances':FI_4}).sort_values(by = \"Importances\",ascending = False)\n",
    "df_4"
   ]
  },
  {
   "cell_type": "code",
   "execution_count": 174,
   "id": "f54cd244",
   "metadata": {},
   "outputs": [
    {
     "data": {
      "image/png": "[encoded data removed]",
      "text/plain": [
       "<Figure size 432x288 with 1 Axes>"
      ]
     },
     "metadata": {
      "needs_background": "light"
     },
     "output_type": "display_data"
    }
   ],
   "source": [
    "\n",
    "plt.bar(df_4['Feature'],df_4['Importances'])\n",
    "plt.xticks(rotation=45, fontsize = 3)\n",
    "plt.show()"
   ]
  },
  {
   "cell_type": "code",
   "execution_count": 172,
   "id": "344ccc42",
   "metadata": {},
   "outputs": [
    {
     "name": "stdout",
     "output_type": "stream",
     "text": [
      "class ratio\n",
      "positive : negative = -0.03253025212379469 : 1\n"
     ]
    }
   ],
   "source": [
    "important_feature_4 = df_4.loc[df_4['Importances']>0.01]['Feature'].values\n",
    "\n",
    "X_train_4 = X_train_4[important_feature_4]\n",
    "X_test_4 = X_test_4[important_feature_4]\n",
    "\n",
    "print('class ratio')\n",
    "ratio = y_train.sum()/(~y_train).sum()\n",
    "print('positive : negative =', ratio, ': 1')"
   ]
  },
  {
   "cell_type": "code",
   "execution_count": 133,
   "id": "f5138ead",
   "metadata": {},
   "outputs": [],
   "source": [
    "#producing scaled dataset\n",
    "\n",
    "X_train_4.reset_index(drop=True, inplace=True)\n",
    "y_train.reset_index(drop=True, inplace=True)\n",
    "\n",
    "X_test_4.reset_index(drop=True, inplace=True)\n",
    "y_test.reset_index(drop=True, inplace=True)\n",
    "\n",
    "train_impute_scaled = pd.concat([X_train_4,y_train], axis=1)\n",
    "test_impute_scaled = pd.concat([X_test_4, y_test], axis=1)\n",
    "\n",
    "train_impute_scaled.to_csv((os.path.join(path, 'train_impute_scaled.csv')),index = False)\n",
    "test_impute_scaled.to_csv((os.path.join(path, 'test_impute_scaled.csv')),index = False)"
   ]
  },
  {
   "cell_type": "code",
   "execution_count": 143,
   "id": "67f8e28a",
   "metadata": {},
   "outputs": [
    {
     "data": {
      "text/plain": [
       "16"
      ]
     },
     "execution_count": 143,
     "metadata": {},
     "output_type": "execute_result"
    }
   ],
   "source": [
    "len(X_train_4.columns)"
   ]
  },
  {
   "cell_type": "code",
   "execution_count": 103,
   "id": "b4c98806",
   "metadata": {},
   "outputs": [],
   "source": [
    "# Containers for all results\n",
    "result_list = []\n",
    "result_list_1 = []\n",
    "result_list_2 = []\n",
    "result_list_3 = []\n",
    "result_list_4 = []"
   ]
  },
  {
   "cell_type": "code",
   "execution_count": null,
   "id": "3f82d41d",
   "metadata": {},
   "outputs": [],
   "source": []
  },
  {
   "cell_type": "markdown",
   "id": "da39bdec",
   "metadata": {},
   "source": [
    "(1) LR for X_train_1"
   ]
  },
  {
   "cell_type": "code",
   "execution_count": 104,
   "id": "ee14a280",
   "metadata": {},
   "outputs": [
    {
     "name": "stdout",
     "output_type": "stream",
     "text": [
      "Logistic Regression:\n"
     ]
    },
    {
     "name": "stderr",
     "output_type": "stream",
     "text": [
      "C:\\Users\\User\\anaconda3\\lib\\site-packages\\sklearn\\linear_model\\_logistic.py:814: ConvergenceWarning: lbfgs failed to converge (status=1):\n",
      "STOP: TOTAL NO. of ITERATIONS REACHED LIMIT.\n",
      "\n",
      "Increase the number of iterations (max_iter) or scale the data as shown in:\n",
      "    https://scikit-learn.org/stable/modules/preprocessing.html\n",
      "Please also refer to the documentation for alternative solver options:\n",
      "    https://scikit-learn.org/stable/modules/linear_model.html#logistic-regression\n",
      "  n_iter_i = _check_optimize_result(\n"
     ]
    },
    {
     "name": "stdout",
     "output_type": "stream",
     "text": [
      "Training time: 4.136115074157715 seconds\n",
      "AUC: 0.6754220811284453\n",
      "AUPRC: 0.14021702734294134\n",
      "Sensitivity: 0.5847774379884472\n",
      "Specificity: 0.6572046277901133\n",
      "Score thresold: 0.03162111100611848\n",
      "2.5 97.5\n"
     ]
    },
    {
     "data": {
      "image/png": "[encoded data removed]",
      "text/plain": [
       "<Figure size 432x288 with 1 Axes>"
      ]
     },
     "metadata": {
      "needs_background": "light"
     },
     "output_type": "display_data"
    },
    {
     "data": {
      "image/png": "[encoded data removed]",
      "text/plain": [
       "<Figure size 432x288 with 1 Axes>"
      ]
     },
     "metadata": {
      "needs_background": "light"
     },
     "output_type": "display_data"
    }
   ],
   "source": [
    "# LR for X_train_1\n",
    "\n",
    "\n",
    "print(\"Logistic Regression:\")\n",
    "from sklearn.linear_model import LogisticRegression\n",
    "logreg=LogisticRegression()\n",
    "start = time.time()\n",
    "logreg.fit(X_train_1,y_train)\n",
    "runtime = time.time()-start\n",
    "print('Training time:', runtime, 'seconds')\n",
    "probs = logreg.predict_proba(X_test_1)\n",
    "result = PlotROCCurve(probs[:,1],y_test, ci=confidence_interval, random_seed=random_seed)\n",
    "\n",
    "results = [\"LR\"]\n",
    "results.extend(result)\n",
    "results.append(runtime)\n",
    "result_list_1.append(results)\n",
    "\n"
   ]
  },
  {
   "cell_type": "markdown",
   "id": "3deb9182",
   "metadata": {},
   "source": [
    "(2) LR for X_train_2"
   ]
  },
  {
   "cell_type": "code",
   "execution_count": 105,
   "id": "12569dbd",
   "metadata": {},
   "outputs": [
    {
     "name": "stdout",
     "output_type": "stream",
     "text": [
      "Logistic Regression:\n"
     ]
    },
    {
     "name": "stderr",
     "output_type": "stream",
     "text": [
      "C:\\Users\\User\\anaconda3\\lib\\site-packages\\sklearn\\linear_model\\_logistic.py:814: ConvergenceWarning: lbfgs failed to converge (status=1):\n",
      "STOP: TOTAL NO. of ITERATIONS REACHED LIMIT.\n",
      "\n",
      "Increase the number of iterations (max_iter) or scale the data as shown in:\n",
      "    https://scikit-learn.org/stable/modules/preprocessing.html\n",
      "Please also refer to the documentation for alternative solver options:\n",
      "    https://scikit-learn.org/stable/modules/linear_model.html#logistic-regression\n",
      "  n_iter_i = _check_optimize_result(\n"
     ]
    },
    {
     "name": "stdout",
     "output_type": "stream",
     "text": [
      "Training time: 3.7546005249023438 seconds\n",
      "AUC: 0.6756624055408891\n",
      "AUPRC: 0.14112871673144572\n",
      "Sensitivity: 0.5834182806659871\n",
      "Specificity: 0.6648358069416851\n",
      "Score thresold: 0.030846457323787095\n",
      "2.5 97.5\n"
     ]
    },
    {
     "data": {
      "image/png": "[encoded data removed]",
      "text/plain": [
       "<Figure size 432x288 with 1 Axes>"
      ]
     },
     "metadata": {
      "needs_background": "light"
     },
     "output_type": "display_data"
    },
    {
     "data": {
      "image/png": "[encoded data removed]",
      "text/plain": [
       "<Figure size 432x288 with 1 Axes>"
      ]
     },
     "metadata": {
      "needs_background": "light"
     },
     "output_type": "display_data"
    }
   ],
   "source": [
    "# (2) LR for X_train_2\n",
    "\n",
    "print(\"Logistic Regression:\")\n",
    "from sklearn.linear_model import LogisticRegression\n",
    "logreg=LogisticRegression()\n",
    "start = time.time()\n",
    "logreg.fit(X_train_2,y_train)\n",
    "runtime = time.time()-start\n",
    "print('Training time:', runtime, 'seconds')\n",
    "probs = logreg.predict_proba(X_test_2)\n",
    "result = PlotROCCurve(probs[:,1],y_test, ci=confidence_interval, random_seed=random_seed)\n",
    "\n",
    "results = [\"LR\"]\n",
    "results.extend(result)\n",
    "results.append(runtime)\n",
    "result_list_2.append(results)\n",
    "\n"
   ]
  },
  {
   "cell_type": "markdown",
   "id": "ac976125",
   "metadata": {},
   "source": [
    "(3) LR for X_train_3"
   ]
  },
  {
   "cell_type": "code",
   "execution_count": 106,
   "id": "80ca957e",
   "metadata": {},
   "outputs": [
    {
     "name": "stdout",
     "output_type": "stream",
     "text": [
      "Logistic Regression:\n"
     ]
    },
    {
     "name": "stderr",
     "output_type": "stream",
     "text": [
      "C:\\Users\\User\\anaconda3\\lib\\site-packages\\sklearn\\linear_model\\_logistic.py:814: ConvergenceWarning: lbfgs failed to converge (status=1):\n",
      "STOP: TOTAL NO. of ITERATIONS REACHED LIMIT.\n",
      "\n",
      "Increase the number of iterations (max_iter) or scale the data as shown in:\n",
      "    https://scikit-learn.org/stable/modules/preprocessing.html\n",
      "Please also refer to the documentation for alternative solver options:\n",
      "    https://scikit-learn.org/stable/modules/linear_model.html#logistic-regression\n",
      "  n_iter_i = _check_optimize_result(\n"
     ]
    },
    {
     "name": "stdout",
     "output_type": "stream",
     "text": [
      "Training time: 3.9841113090515137 seconds\n",
      "AUC: 0.6503144212794448\n",
      "AUPRC: 0.12422370682823176\n",
      "Sensitivity: 0.5392456676860347\n",
      "Specificity: 0.6712749795489072\n",
      "Score thresold: 0.033951111445005205\n",
      "2.5 97.5\n"
     ]
    },
    {
     "data": {
      "image/png": "[encoded data removed]",
      "text/plain": [
       "<Figure size 432x288 with 1 Axes>"
      ]
     },
     "metadata": {
      "needs_background": "light"
     },
     "output_type": "display_data"
    },
    {
     "data": {
      "image/png": "[encoded data removed]",
      "text/plain": [
       "<Figure size 432x288 with 1 Axes>"
      ]
     },
     "metadata": {
      "needs_background": "light"
     },
     "output_type": "display_data"
    }
   ],
   "source": [
    "# (3) LR for X_train_3\n",
    "\n",
    "print(\"Logistic Regression:\")\n",
    "from sklearn.linear_model import LogisticRegression\n",
    "logreg=LogisticRegression()\n",
    "start = time.time()\n",
    "logreg.fit(X_train_3,y_train)\n",
    "runtime = time.time()-start\n",
    "print('Training time:', runtime, 'seconds')\n",
    "probs = logreg.predict_proba(X_test_3)\n",
    "result = PlotROCCurve(probs[:,1],y_test, ci=confidence_interval, random_seed=random_seed)\n",
    "\n",
    "results = [\"LR\"]\n",
    "results.extend(result)\n",
    "results.append(runtime)\n",
    "result_list_3.append(results)\n",
    "\n"
   ]
  },
  {
   "cell_type": "code",
   "execution_count": null,
   "id": "8734d791",
   "metadata": {},
   "outputs": [],
   "source": []
  },
  {
   "cell_type": "markdown",
   "id": "34259942",
   "metadata": {},
   "source": [
    "(4) LR for X_train_4"
   ]
  },
  {
   "cell_type": "code",
   "execution_count": 107,
   "id": "35d3c7d1",
   "metadata": {},
   "outputs": [
    {
     "name": "stdout",
     "output_type": "stream",
     "text": [
      "Logistic Regression:\n"
     ]
    },
    {
     "name": "stderr",
     "output_type": "stream",
     "text": [
      "C:\\Users\\User\\anaconda3\\lib\\site-packages\\sklearn\\linear_model\\_logistic.py:814: ConvergenceWarning: lbfgs failed to converge (status=1):\n",
      "STOP: TOTAL NO. of ITERATIONS REACHED LIMIT.\n",
      "\n",
      "Increase the number of iterations (max_iter) or scale the data as shown in:\n",
      "    https://scikit-learn.org/stable/modules/preprocessing.html\n",
      "Please also refer to the documentation for alternative solver options:\n",
      "    https://scikit-learn.org/stable/modules/linear_model.html#logistic-regression\n",
      "  n_iter_i = _check_optimize_result(\n"
     ]
    },
    {
     "name": "stdout",
     "output_type": "stream",
     "text": [
      "Training time: 3.5021870136260986 seconds\n",
      "AUC: 0.6735976165269528\n",
      "AUPRC: 0.1412325448507521\n",
      "Sensitivity: 0.6027862725110431\n",
      "Specificity: 0.637407970082973\n",
      "Score thresold: 0.030719202406051117\n",
      "2.5 97.5\n"
     ]
    },
    {
     "data": {
      "image/png": "[encoded data removed]",
      "text/plain": [
       "<Figure size 432x288 with 1 Axes>"
      ]
     },
     "metadata": {
      "needs_background": "light"
     },
     "output_type": "display_data"
    },
    {
     "data": {
      "image/png": "[encoded data removed]",
      "text/plain": [
       "<Figure size 432x288 with 1 Axes>"
      ]
     },
     "metadata": {
      "needs_background": "light"
     },
     "output_type": "display_data"
    }
   ],
   "source": [
    "# (4) LR for X_train_4\n",
    "\n",
    "print(\"Logistic Regression:\")\n",
    "from sklearn.linear_model import LogisticRegression\n",
    "logreg=LogisticRegression()\n",
    "start = time.time()\n",
    "logreg.fit(X_train_4,y_train)\n",
    "runtime = time.time()-start\n",
    "print('Training time:', runtime, 'seconds')\n",
    "probs = logreg.predict_proba(X_test_4)\n",
    "result = PlotROCCurve(probs[:,1],y_test, ci=confidence_interval, random_seed=random_seed)\n",
    "\n",
    "results = [\"LR\"]\n",
    "results.extend(result)\n",
    "results.append(runtime)\n",
    "result_list_4.append(results)\n",
    "\n"
   ]
  },
  {
   "cell_type": "markdown",
   "id": "54352a9e",
   "metadata": {},
   "source": [
    "- RF for X_train_1"
   ]
  },
  {
   "cell_type": "code",
   "execution_count": 108,
   "id": "ba9acb58",
   "metadata": {},
   "outputs": [
    {
     "name": "stdout",
     "output_type": "stream",
     "text": [
      "RandomForest:\n",
      "Training time: 61.562493324279785 seconds\n",
      "AUC: 0.6966294959296557\n",
      "AUPRC: 0.14147884286732598\n",
      "Sensitivity: 0.6493374108053007\n",
      "Specificity: 0.6286432160804021\n",
      "Score thresold: 0.04\n",
      "2.5 97.5\n"
     ]
    },
    {
     "data": {
      "image/png": "[encoded data removed]",
      "text/plain": [
       "<Figure size 432x288 with 1 Axes>"
      ]
     },
     "metadata": {
      "needs_background": "light"
     },
     "output_type": "display_data"
    },
    {
     "data": {
      "image/png": "[encoded data removed]",
      "text/plain": [
       "<Figure size 432x288 with 1 Axes>"
      ]
     },
     "metadata": {
      "needs_background": "light"
     },
     "output_type": "display_data"
    },
    {
     "name": "stdout",
     "output_type": "stream",
     "text": [
      "[0.09312658 0.08078422 0.08058135 0.08202573 0.07348854 0.07443062\n",
      " 0.06455645 0.04663039 0.05467972 0.05297497 0.0419451  0.03718195\n",
      " 0.03813055 0.03765872 0.03558298 0.03239584 0.04589366 0.01648269\n",
      " 0.01144998]\n"
     ]
    }
   ],
   "source": [
    "print(\"RandomForest:\")\n",
    "from sklearn.ensemble import RandomForestClassifier\n",
    "rf= RandomForestClassifier()\n",
    "start = time.time()\n",
    "rf.fit(X_train_1,y_train)\n",
    "runtime = time.time()-start\n",
    "print('Training time:', runtime, 'seconds')\n",
    "probs = rf.predict_proba(X_test_1)\n",
    "result = PlotROCCurve(probs[:,1],y_test, ci=confidence_interval, random_seed=random_seed)\n",
    "importances = rf.feature_importances_\n",
    "print(importances)\n",
    "results = [\"RF\"]\n",
    "results.extend(result)\n",
    "results.append(runtime)\n",
    "result_list_1.append(results)\n",
    "\n"
   ]
  },
  {
   "cell_type": "markdown",
   "id": "201ebff1",
   "metadata": {},
   "source": [
    "- RF for X_train_2"
   ]
  },
  {
   "cell_type": "code",
   "execution_count": 109,
   "id": "94add23b",
   "metadata": {},
   "outputs": [
    {
     "name": "stdout",
     "output_type": "stream",
     "text": [
      "RandomForest:\n",
      "Training time: 57.8193416595459 seconds\n",
      "AUC: 0.6881749798705498\n",
      "AUPRC: 0.1338209746457697\n",
      "Sensitivity: 0.6248725790010193\n",
      "Specificity: 0.6358770597171906\n",
      "Score thresold: 0.04\n",
      "2.5 97.5\n"
     ]
    },
    {
     "data": {
      "image/png": "[encoded data removed]",
      "text/plain": [
       "<Figure size 432x288 with 1 Axes>"
      ]
     },
     "metadata": {
      "needs_background": "light"
     },
     "output_type": "display_data"
    },
    {
     "data": {
      "image/png": "[encoded data removed]",
      "text/plain": [
       "<Figure size 432x288 with 1 Axes>"
      ]
     },
     "metadata": {
      "needs_background": "light"
     },
     "output_type": "display_data"
    },
    {
     "name": "stdout",
     "output_type": "stream",
     "text": [
      "[0.12368785 0.1034619  0.10500843 0.09534966 0.09186701 0.07925355\n",
      " 0.04790714 0.04736397 0.05020827 0.04571895 0.04707686 0.04325241\n",
      " 0.04928596 0.03887048 0.01932171 0.01236585]\n"
     ]
    }
   ],
   "source": [
    "print(\"RandomForest:\")\n",
    "from sklearn.ensemble import RandomForestClassifier\n",
    "rf= RandomForestClassifier()\n",
    "start = time.time()\n",
    "rf.fit(X_train_2,y_train)\n",
    "runtime = time.time()-start\n",
    "print('Training time:', runtime, 'seconds')\n",
    "probs = rf.predict_proba(X_test_2)\n",
    "result = PlotROCCurve(probs[:,1],y_test, ci=confidence_interval, random_seed=random_seed)\n",
    "importances = rf.feature_importances_\n",
    "print(importances)\n",
    "results = [\"RF\"]\n",
    "results.extend(result)\n",
    "results.append(runtime)\n",
    "result_list_2.append(results)\n",
    "\n",
    "\n"
   ]
  },
  {
   "cell_type": "markdown",
   "id": "a5b8fe18",
   "metadata": {},
   "source": [
    "- RF for X_train_3"
   ]
  },
  {
   "cell_type": "code",
   "execution_count": 110,
   "id": "a5f2854f",
   "metadata": {},
   "outputs": [
    {
     "name": "stdout",
     "output_type": "stream",
     "text": [
      "RandomForest:\n",
      "Training time: 58.13425946235657 seconds\n",
      "AUC: 0.6976412179666557\n",
      "AUPRC: 0.1422402385205933\n",
      "Sensitivity: 0.6486578321440707\n",
      "Specificity: 0.6289587472244946\n",
      "Score thresold: 0.04\n",
      "2.5 97.5\n"
     ]
    },
    {
     "data": {
      "image/png": "[encoded data removed]",
      "text/plain": [
       "<Figure size 432x288 with 1 Axes>"
      ]
     },
     "metadata": {
      "needs_background": "light"
     },
     "output_type": "display_data"
    },
    {
     "data": {
      "image/png": "[encoded data removed]",
      "text/plain": [
       "<Figure size 432x288 with 1 Axes>"
      ]
     },
     "metadata": {
      "needs_background": "light"
     },
     "output_type": "display_data"
    },
    {
     "name": "stdout",
     "output_type": "stream",
     "text": [
      "[0.09420929 0.08074546 0.08119786 0.08019956 0.07383109 0.07558657\n",
      " 0.06397606 0.04604456 0.05443211 0.0532667  0.04278693 0.03792267\n",
      " 0.03753809 0.03802639 0.03556042 0.03133369 0.04532241 0.01638203\n",
      " 0.01163813]\n"
     ]
    }
   ],
   "source": [
    "print(\"RandomForest:\")\n",
    "from sklearn.ensemble import RandomForestClassifier\n",
    "rf= RandomForestClassifier()\n",
    "start = time.time()\n",
    "rf.fit(X_train_3,y_train)\n",
    "runtime = time.time()-start\n",
    "print('Training time:', runtime, 'seconds')\n",
    "probs = rf.predict_proba(X_test_3)\n",
    "result = PlotROCCurve(probs[:,1],y_test, ci=confidence_interval, random_seed=random_seed)\n",
    "importances = rf.feature_importances_\n",
    "print(importances)\n",
    "results = [\"RF\"]\n",
    "results.extend(result)\n",
    "results.append(runtime)\n",
    "result_list_3.append(results)\n"
   ]
  },
  {
   "cell_type": "markdown",
   "id": "962bde2b",
   "metadata": {},
   "source": [
    "- RF for X_train_4"
   ]
  },
  {
   "cell_type": "code",
   "execution_count": 111,
   "id": "002bb477",
   "metadata": {},
   "outputs": [
    {
     "name": "stdout",
     "output_type": "stream",
     "text": [
      "RandomForest:\n",
      "Training time: 59.507938623428345 seconds\n",
      "AUC: 0.6824491881528719\n",
      "AUPRC: 0.13297985324147432\n",
      "Sensitivity: 0.6224940536867143\n",
      "Specificity: 0.6374780881149935\n",
      "Score thresold: 0.04\n",
      "2.5 97.5\n"
     ]
    },
    {
     "data": {
      "image/png": "[encoded data removed]",
      "text/plain": [
       "<Figure size 432x288 with 1 Axes>"
      ]
     },
     "metadata": {
      "needs_background": "light"
     },
     "output_type": "display_data"
    },
    {
     "data": {
      "image/png": "[encoded data removed]",
      "text/plain": [
       "<Figure size 432x288 with 1 Axes>"
      ]
     },
     "metadata": {
      "needs_background": "light"
     },
     "output_type": "display_data"
    },
    {
     "name": "stdout",
     "output_type": "stream",
     "text": [
      "[0.12310718 0.10467744 0.10373668 0.0918653  0.09488631 0.07884435\n",
      " 0.04794546 0.05014349 0.04595339 0.04678226 0.04649498 0.04326426\n",
      " 0.04961868 0.03839875 0.02030039 0.01398107]\n"
     ]
    }
   ],
   "source": [
    "print(\"RandomForest:\")\n",
    "from sklearn.ensemble import RandomForestClassifier\n",
    "rf= RandomForestClassifier()\n",
    "start = time.time()\n",
    "rf.fit(X_train_4,y_train)\n",
    "runtime = time.time()-start\n",
    "print('Training time:', runtime, 'seconds')\n",
    "probs = rf.predict_proba(X_test_4)\n",
    "result = PlotROCCurve(probs[:,1],y_test, ci=confidence_interval, random_seed=random_seed)\n",
    "importances = rf.feature_importances_\n",
    "print(importances)\n",
    "results = [\"RF\"]\n",
    "results.extend(result)\n",
    "results.append(runtime)\n",
    "result_list_4.append(results)\n"
   ]
  },
  {
   "cell_type": "markdown",
   "id": "fb4d26a0",
   "metadata": {},
   "source": [
    "- GB for X_train_1"
   ]
  },
  {
   "cell_type": "code",
   "execution_count": 112,
   "id": "8b8d3caa",
   "metadata": {},
   "outputs": [
    {
     "name": "stdout",
     "output_type": "stream",
     "text": [
      "GradientBoosting:\n",
      "Training time: 59.50723958015442 seconds\n",
      "AUC: 0.7398585452688375\n",
      "AUPRC: 0.1568461519188912\n",
      "Sensitivity: 0.6605504587155964\n",
      "Specificity: 0.671239920532897\n",
      "Score thresold: 0.03199822487532004\n",
      "2.5 97.5\n"
     ]
    },
    {
     "data": {
      "image/png": "[encoded data removed]",
      "text/plain": [
       "<Figure size 432x288 with 1 Axes>"
      ]
     },
     "metadata": {
      "needs_background": "light"
     },
     "output_type": "display_data"
    },
    {
     "data": {
      "image/png": "[encoded data removed]",
      "text/plain": [
       "<Figure size 432x288 with 1 Axes>"
      ]
     },
     "metadata": {
      "needs_background": "light"
     },
     "output_type": "display_data"
    }
   ],
   "source": [
    "# GB for X_train_1\n",
    "print(\"GradientBoosting:\")\n",
    "from sklearn.ensemble import GradientBoostingClassifier\n",
    "gb = GradientBoostingClassifier()\n",
    "start = time.time()\n",
    "gb.fit(X_train_1, y_train)\n",
    "runtime = time.time()-start\n",
    "print('Training time:', runtime, 'seconds')\n",
    "probs = gb.predict_proba(X_test_1)\n",
    "result = PlotROCCurve(probs[:,1],y_test, ci=confidence_interval, random_seed=random_seed)\n",
    "\n",
    "results = [\"GB\"]\n",
    "results.extend(result)\n",
    "results.append(runtime)\n",
    "result_list_1.append(results)\n"
   ]
  },
  {
   "cell_type": "markdown",
   "id": "8251a23c",
   "metadata": {},
   "source": [
    "- GB for X_train_2"
   ]
  },
  {
   "cell_type": "code",
   "execution_count": 113,
   "id": "2f5f0635",
   "metadata": {},
   "outputs": [
    {
     "name": "stdout",
     "output_type": "stream",
     "text": [
      "GradientBoosting:\n",
      "Training time: 48.28288722038269 seconds\n",
      "AUC: 0.734789396333301\n",
      "AUPRC: 0.15518686004417798\n",
      "Sensitivity: 0.6775399252463473\n",
      "Specificity: 0.6467570410190487\n",
      "Score thresold: 0.030890628280226772\n",
      "2.5 97.5\n"
     ]
    },
    {
     "data": {
      "image/png": "[encoded data removed]",
      "text/plain": [
       "<Figure size 432x288 with 1 Axes>"
      ]
     },
     "metadata": {
      "needs_background": "light"
     },
     "output_type": "display_data"
    },
    {
     "data": {
      "image/png": "[encoded data removed]",
      "text/plain": [
       "<Figure size 432x288 with 1 Axes>"
      ]
     },
     "metadata": {
      "needs_background": "light"
     },
     "output_type": "display_data"
    }
   ],
   "source": [
    "#- GB for X_train_2\n",
    "print(\"GradientBoosting:\")\n",
    "from sklearn.ensemble import GradientBoostingClassifier\n",
    "gb = GradientBoostingClassifier()\n",
    "start = time.time()\n",
    "gb.fit(X_train_2, y_train)\n",
    "runtime = time.time()-start\n",
    "print('Training time:', runtime, 'seconds')\n",
    "probs = gb.predict_proba(X_test_2)\n",
    "result = PlotROCCurve(probs[:,1],y_test, ci=confidence_interval, random_seed=random_seed)\n",
    "\n",
    "results = [\"GB\"]\n",
    "results.extend(result)\n",
    "results.append(runtime)\n",
    "result_list_2.append(results)\n"
   ]
  },
  {
   "cell_type": "markdown",
   "id": "a86c5b99",
   "metadata": {},
   "source": [
    "- GB for X_train_3"
   ]
  },
  {
   "cell_type": "code",
   "execution_count": 114,
   "id": "3c28b006",
   "metadata": {},
   "outputs": [
    {
     "name": "stdout",
     "output_type": "stream",
     "text": [
      "GradientBoosting:\n",
      "Training time: 59.082053661346436 seconds\n",
      "AUC: 0.7398584023166825\n",
      "AUPRC: 0.15684616370159987\n",
      "Sensitivity: 0.6605504587155964\n",
      "Specificity: 0.671239920532897\n",
      "Score thresold: 0.03199822487532004\n",
      "2.5 97.5\n"
     ]
    },
    {
     "data": {
      "image/png": "[encoded data removed]",
      "text/plain": [
       "<Figure size 432x288 with 1 Axes>"
      ]
     },
     "metadata": {
      "needs_background": "light"
     },
     "output_type": "display_data"
    },
    {
     "data": {
      "image/png": "[encoded data removed]",
      "text/plain": [
       "<Figure size 432x288 with 1 Axes>"
      ]
     },
     "metadata": {
      "needs_background": "light"
     },
     "output_type": "display_data"
    }
   ],
   "source": [
    "#- GB for X_train_3\n",
    "print(\"GradientBoosting:\")\n",
    "from sklearn.ensemble import GradientBoostingClassifier\n",
    "gb = GradientBoostingClassifier()\n",
    "start = time.time()\n",
    "gb.fit(X_train_3, y_train)\n",
    "runtime = time.time()-start\n",
    "print('Training time:', runtime, 'seconds')\n",
    "probs = gb.predict_proba(X_test_3)\n",
    "result = PlotROCCurve(probs[:,1],y_test, ci=confidence_interval, random_seed=random_seed)\n",
    "\n",
    "results = [\"GB\"]\n",
    "results.extend(result)\n",
    "results.append(runtime)\n",
    "result_list_3.append(results)\n"
   ]
  },
  {
   "cell_type": "markdown",
   "id": "aa8259b9",
   "metadata": {},
   "source": [
    "- GB for X_train_4 "
   ]
  },
  {
   "cell_type": "code",
   "execution_count": 115,
   "id": "afd85913",
   "metadata": {},
   "outputs": [
    {
     "name": "stdout",
     "output_type": "stream",
     "text": [
      "GradientBoosting:\n",
      "Training time: 48.80731821060181 seconds\n",
      "AUC: 0.7347894876638444\n",
      "AUPRC: 0.15516214789552302\n",
      "Sensitivity: 0.6775399252463473\n",
      "Specificity: 0.6467570410190487\n",
      "Score thresold: 0.030890628280226772\n",
      "2.5 97.5\n"
     ]
    },
    {
     "data": {
      "image/png": "[encoded data removed]",
      "text/plain": [
       "<Figure size 432x288 with 1 Axes>"
      ]
     },
     "metadata": {
      "needs_background": "light"
     },
     "output_type": "display_data"
    },
    {
     "data": {
      "image/png": "[encoded data removed]",
      "text/plain": [
       "<Figure size 432x288 with 1 Axes>"
      ]
     },
     "metadata": {
      "needs_background": "light"
     },
     "output_type": "display_data"
    }
   ],
   "source": [
    "#- GB for X_train_4\n",
    "print(\"GradientBoosting:\")\n",
    "from sklearn.ensemble import GradientBoostingClassifier\n",
    "gb = GradientBoostingClassifier()\n",
    "start = time.time()\n",
    "gb.fit(X_train_4, y_train)\n",
    "runtime = time.time()-start\n",
    "print('Training time:', runtime, 'seconds')\n",
    "probs = gb.predict_proba(X_test_4)\n",
    "result = PlotROCCurve(probs[:,1],y_test, ci=confidence_interval, random_seed=random_seed)\n",
    "\n",
    "results = [\"GB\"]\n",
    "results.extend(result)\n",
    "results.append(runtime)\n",
    "result_list_4.append(results)\n"
   ]
  },
  {
   "cell_type": "code",
   "execution_count": null,
   "id": "e801a2a7",
   "metadata": {},
   "outputs": [],
   "source": [
    "# MLP - X_train_1"
   ]
  },
  {
   "cell_type": "code",
   "execution_count": 142,
   "id": "7cb388b6",
   "metadata": {},
   "outputs": [
    {
     "data": {
      "text/plain": [
       "16"
      ]
     },
     "execution_count": 142,
     "metadata": {},
     "output_type": "execute_result"
    }
   ],
   "source": [
    "len(X_train_4.columns)"
   ]
  },
  {
   "cell_type": "code",
   "execution_count": 116,
   "id": "8900bfee",
   "metadata": {},
   "outputs": [],
   "source": [
    "class MLP(tf.keras.Model):\n",
    "    def __init__(self):\n",
    "        super(MLP, self).__init__()\n",
    "        self.dense_1 = Dense(128, activation='relu')\n",
    "        self.dense_2 = Dense(64, activation='relu')\n",
    "        self.classifier = Dense(1, activation='sigmoid')\n",
    "\n",
    "    def call(self, x):\n",
    "        x = self.dense_1(x)\n",
    "        x = self.dense_2(x)\n",
    "        return self.classifier(x)"
   ]
  },
  {
   "cell_type": "code",
   "execution_count": 117,
   "id": "0d5fc412",
   "metadata": {},
   "outputs": [
    {
     "name": "stdout",
     "output_type": "stream",
     "text": [
      "Epoch 1/20\n",
      "1771/1771 [==============================] - 3s 1ms/step - loss: 0.1479 - accuracy: 0.9660 - auc: 0.6282 - true_positives: 443.0000 - true_negatives: 341697.0000 - precision: 0.4352 - recall: 0.0372\n",
      "Epoch 2/20\n",
      "1771/1771 [==============================] - 2s 1ms/step - loss: 0.1362 - accuracy: 0.9667 - auc: 0.6821 - true_positives: 499.0000 - true_negatives: 341871.0000 - precision: 0.5544 - recall: 0.0419\n",
      "Epoch 3/20\n",
      "1771/1771 [==============================] - 2s 1ms/step - loss: 0.1340 - accuracy: 0.9667 - auc: 0.7044 - true_positives: 458.0000 - true_negatives: 341920.0000 - precision: 0.5654 - recall: 0.0385\n",
      "Epoch 4/20\n",
      "1771/1771 [==============================] - 2s 1ms/step - loss: 0.1332 - accuracy: 0.9667 - auc: 0.7109 - true_positives: 432.0000 - true_negatives: 341941.0000 - precision: 0.5662 - recall: 0.0363\n",
      "Epoch 5/20\n",
      "1771/1771 [==============================] - 2s 1ms/step - loss: 0.1324 - accuracy: 0.9667 - auc: 0.7192 - true_positives: 443.0000 - true_negatives: 341937.0000 - precision: 0.5694 - recall: 0.0372\n",
      "Epoch 6/20\n",
      "1771/1771 [==============================] - 2s 1ms/step - loss: 0.1319 - accuracy: 0.9667 - auc: 0.7240 - true_positives: 428.0000 - true_negatives: 341945.0000 - precision: 0.5669 - recall: 0.0359\n",
      "Epoch 7/20\n",
      "1771/1771 [==============================] - 2s 1ms/step - loss: 0.1317 - accuracy: 0.9667 - auc: 0.7268 - true_positives: 429.0000 - true_negatives: 341943.0000 - precision: 0.5660 - recall: 0.0360\n",
      "Epoch 8/20\n",
      "1771/1771 [==============================] - 3s 1ms/step - loss: 0.1314 - accuracy: 0.9666 - auc: 0.7300 - true_positives: 425.0000 - true_negatives: 341942.0000 - precision: 0.5629 - recall: 0.0357\n",
      "Epoch 9/20\n",
      "1771/1771 [==============================] - 2s 1ms/step - loss: 0.1313 - accuracy: 0.9667 - auc: 0.7305 - true_positives: 448.0000 - true_negatives: 341941.0000 - precision: 0.5751 - recall: 0.0376\n",
      "Epoch 10/20\n",
      "1771/1771 [==============================] - 2s 1ms/step - loss: 0.1312 - accuracy: 0.9667 - auc: 0.7328 - true_positives: 484.0000 - true_negatives: 341886.0000 - precision: 0.5563 - recall: 0.0406\n",
      "Epoch 11/20\n",
      "1771/1771 [==============================] - 2s 1ms/step - loss: 0.1310 - accuracy: 0.9667 - auc: 0.7338 - true_positives: 428.0000 - true_negatives: 341970.0000 - precision: 0.5863 - recall: 0.0359\n",
      "Epoch 12/20\n",
      "1771/1771 [==============================] - 3s 1ms/step - loss: 0.1309 - accuracy: 0.9667 - auc: 0.7351 - true_positives: 456.0000 - true_negatives: 341931.0000 - precision: 0.5721 - recall: 0.0383\n",
      "Epoch 13/20\n",
      "1771/1771 [==============================] - 2s 1ms/step - loss: 0.1309 - accuracy: 0.9667 - auc: 0.7348 - true_positives: 459.0000 - true_negatives: 341929.0000 - precision: 0.5723 - recall: 0.0385\n",
      "Epoch 14/20\n",
      "1771/1771 [==============================] - 2s 1ms/step - loss: 0.1308 - accuracy: 0.9668 - auc: 0.7370 - true_positives: 473.0000 - true_negatives: 341938.0000 - precision: 0.5861 - recall: 0.0397\n",
      "Epoch 15/20\n",
      "1771/1771 [==============================] - 2s 1ms/step - loss: 0.1307 - accuracy: 0.9668 - auc: 0.7370 - true_positives: 485.0000 - true_negatives: 341927.0000 - precision: 0.5843 - recall: 0.0407\n",
      "Epoch 16/20\n",
      "1771/1771 [==============================] - 2s 1ms/step - loss: 0.1305 - accuracy: 0.9667 - auc: 0.7383 - true_positives: 441.0000 - true_negatives: 341954.0000 - precision: 0.5810 - recall: 0.0370\n",
      "Epoch 17/20\n",
      "1771/1771 [==============================] - 2s 1ms/step - loss: 0.1306 - accuracy: 0.9668 - auc: 0.7367 - true_positives: 512.0000 - true_negatives: 341897.0000 - precision: 0.5772 - recall: 0.0430\n",
      "Epoch 18/20\n",
      "1771/1771 [==============================] - 2s 1ms/step - loss: 0.1305 - accuracy: 0.9668 - auc: 0.7386 - true_positives: 486.0000 - true_negatives: 341924.0000 - precision: 0.5827 - recall: 0.0408\n",
      "Epoch 19/20\n",
      "1771/1771 [==============================] - 2s 1ms/step - loss: 0.1305 - accuracy: 0.9668 - auc: 0.7381 - true_positives: 518.0000 - true_negatives: 341899.0000 - precision: 0.5814 - recall: 0.0435\n",
      "Epoch 20/20\n",
      "1771/1771 [==============================] - 2s 1ms/step - loss: 0.1306 - accuracy: 0.9667 - auc: 0.7372 - true_positives: 490.0000 - true_negatives: 341914.0000 - precision: 0.5778 - recall: 0.0411\n",
      "Training time: 50.48538780212402 seconds\n",
      "INFO:tensorflow:Assets written to: 72h_ed_revisit_mlp\\assets\n"
     ]
    },
    {
     "name": "stderr",
     "output_type": "stream",
     "text": [
      "INFO:tensorflow:Assets written to: 72h_ed_revisit_mlp\\assets\n"
     ]
    }
   ],
   "source": [
    "# skip this cell if not retraining\n",
    "mlp = MLP()\n",
    "mlp.compile(loss='binary_crossentropy', \n",
    "              optimizer=optimizers.Adam(learning_rate=0.001), \n",
    "              metrics=['accuracy', 'AUC',  #{'auprc': metrics.AUC(name='auprc', curve='PR')},\n",
    "                       'TruePositives', 'TrueNegatives', 'Precision', 'Recall'])\n",
    "start = time.time()\n",
    "mlp.fit(X_train_1.astype(np.float32), y_train, batch_size=200, epochs=20)\n",
    "runtime = time.time() - start\n",
    "print('Training time:', runtime, 'seconds')\n",
    "mlp.save('72h_ed_revisit_mlp')"
   ]
  },
  {
   "cell_type": "code",
   "execution_count": 118,
   "id": "10894dae",
   "metadata": {
    "scrolled": true
   },
   "outputs": [
    {
     "name": "stdout",
     "output_type": "stream",
     "text": [
      "MLP:\n",
      "2767/2767 [==============================] - 2s 688us/step\n",
      "AUC: 0.737538328550194\n",
      "AUPRC: 0.15585827729453985\n",
      "Sensitivity: 0.6479782534828407\n",
      "Specificity: 0.6851232908729695\n",
      "Score thresold: 0.030869305\n",
      "2.5 97.5\n"
     ]
    },
    {
     "data": {
      "image/png": "[encoded data removed]",
      "text/plain": [
       "<Figure size 432x288 with 1 Axes>"
      ]
     },
     "metadata": {
      "needs_background": "light"
     },
     "output_type": "display_data"
    },
    {
     "data": {
      "image/png": "[encoded data removed]",
      "text/plain": [
       "<Figure size 432x288 with 1 Axes>"
      ]
     },
     "metadata": {
      "needs_background": "light"
     },
     "output_type": "display_data"
    }
   ],
   "source": [
    "print(\"MLP:\")\n",
    "#mlp = load_model('72h_ed_revisit_mlp')\n",
    "probs = mlp.predict(X_test_1.astype(np.float32))\n",
    "result = PlotROCCurve(probs,y_test, ci=confidence_interval, random_seed=random_seed)\n",
    "results = [\"MLP\"]\n",
    "results.extend(result)\n",
    "results.append(runtime)\n",
    "result_list_1.append(results)\n"
   ]
  },
  {
   "cell_type": "code",
   "execution_count": null,
   "id": "5635670a",
   "metadata": {},
   "outputs": [],
   "source": []
  },
  {
   "cell_type": "code",
   "execution_count": null,
   "id": "5b68a49c",
   "metadata": {},
   "outputs": [],
   "source": [
    "# For X_train_2"
   ]
  },
  {
   "cell_type": "code",
   "execution_count": 119,
   "id": "6f34ebe9",
   "metadata": {},
   "outputs": [
    {
     "name": "stdout",
     "output_type": "stream",
     "text": [
      "Epoch 1/20\n",
      "1771/1771 [==============================] - 3s 1ms/step - loss: 0.1544 - accuracy: 0.9662 - auc: 0.6108 - true_positives: 525.0000 - true_negatives: 341668.0000 - precision: 0.4650 - recall: 0.0441\n",
      "Epoch 2/20\n",
      "1771/1771 [==============================] - 2s 1ms/step - loss: 0.1401 - accuracy: 0.9666 - auc: 0.6532 - true_positives: 546.0000 - true_negatives: 341811.0000 - precision: 0.5422 - recall: 0.0458\n",
      "Epoch 3/20\n",
      "1771/1771 [==============================] - 2s 1ms/step - loss: 0.1369 - accuracy: 0.9666 - auc: 0.6784 - true_positives: 518.0000 - true_negatives: 341831.0000 - precision: 0.5401 - recall: 0.0435\n",
      "Epoch 4/20\n",
      "1771/1771 [==============================] - 2s 1ms/step - loss: 0.1349 - accuracy: 0.9667 - auc: 0.6958 - true_positives: 492.0000 - true_negatives: 341879.0000 - precision: 0.5559 - recall: 0.0413\n",
      "Epoch 5/20\n",
      "1771/1771 [==============================] - 2s 1ms/step - loss: 0.1340 - accuracy: 0.9666 - auc: 0.7029 - true_positives: 468.0000 - true_negatives: 341891.0000 - precision: 0.5512 - recall: 0.0393\n",
      "Epoch 6/20\n",
      "1771/1771 [==============================] - 2s 1ms/step - loss: 0.1333 - accuracy: 0.9667 - auc: 0.7108 - true_positives: 488.0000 - true_negatives: 341911.0000 - precision: 0.5748 - recall: 0.0410\n",
      "Epoch 7/20\n",
      "1771/1771 [==============================] - 2s 1ms/step - loss: 0.1328 - accuracy: 0.9667 - auc: 0.7146 - true_positives: 488.0000 - true_negatives: 341883.0000 - precision: 0.5564 - recall: 0.0410\n",
      "Epoch 8/20\n",
      "1771/1771 [==============================] - 2s 1ms/step - loss: 0.1326 - accuracy: 0.9667 - auc: 0.7162 - true_positives: 499.0000 - true_negatives: 341889.0000 - precision: 0.5658 - recall: 0.0419\n",
      "Epoch 9/20\n",
      "1771/1771 [==============================] - 2s 1ms/step - loss: 0.1323 - accuracy: 0.9667 - auc: 0.7190 - true_positives: 513.0000 - true_negatives: 341870.0000 - precision: 0.5607 - recall: 0.0431\n",
      "Epoch 10/20\n",
      "1771/1771 [==============================] - 2s 1ms/step - loss: 0.1320 - accuracy: 0.9667 - auc: 0.7219 - true_positives: 508.0000 - true_negatives: 341871.0000 - precision: 0.5589 - recall: 0.0427\n",
      "Epoch 11/20\n",
      "1771/1771 [==============================] - 2s 1ms/step - loss: 0.1320 - accuracy: 0.9667 - auc: 0.7241 - true_positives: 474.0000 - true_negatives: 341928.0000 - precision: 0.5795 - recall: 0.0398\n",
      "Epoch 12/20\n",
      "1771/1771 [==============================] - 2s 1ms/step - loss: 0.1320 - accuracy: 0.9667 - auc: 0.7222 - true_positives: 479.0000 - true_negatives: 341920.0000 - precision: 0.5764 - recall: 0.0402\n",
      "Epoch 13/20\n",
      "1771/1771 [==============================] - 2s 1ms/step - loss: 0.1317 - accuracy: 0.9667 - auc: 0.7254 - true_positives: 475.0000 - true_negatives: 341896.0000 - precision: 0.5582 - recall: 0.0399\n",
      "Epoch 14/20\n",
      "1771/1771 [==============================] - 3s 1ms/step - loss: 0.1317 - accuracy: 0.9668 - auc: 0.7275 - true_positives: 482.0000 - true_negatives: 341925.0000 - precision: 0.5814 - recall: 0.0405\n",
      "Epoch 15/20\n",
      "1771/1771 [==============================] - 2s 1ms/step - loss: 0.1317 - accuracy: 0.9667 - auc: 0.7263 - true_positives: 488.0000 - true_negatives: 341908.0000 - precision: 0.5728 - recall: 0.0410\n",
      "Epoch 16/20\n",
      "1771/1771 [==============================] - 2s 1ms/step - loss: 0.1316 - accuracy: 0.9668 - auc: 0.7268 - true_positives: 522.0000 - true_negatives: 341897.0000 - precision: 0.5819 - recall: 0.0438\n",
      "Epoch 17/20\n",
      "1771/1771 [==============================] - 2s 1ms/step - loss: 0.1315 - accuracy: 0.9668 - auc: 0.7276 - true_positives: 509.0000 - true_negatives: 341913.0000 - precision: 0.5864 - recall: 0.0427\n",
      "Epoch 18/20\n",
      "1771/1771 [==============================] - 2s 1ms/step - loss: 0.1316 - accuracy: 0.9668 - auc: 0.7273 - true_positives: 501.0000 - true_negatives: 341916.0000 - precision: 0.5846 - recall: 0.0421\n",
      "Epoch 19/20\n",
      "1771/1771 [==============================] - 3s 1ms/step - loss: 0.1314 - accuracy: 0.9667 - auc: 0.7279 - true_positives: 509.0000 - true_negatives: 341894.0000 - precision: 0.5738 - recall: 0.0427\n",
      "Epoch 20/20\n",
      "1771/1771 [==============================] - 3s 1ms/step - loss: 0.1314 - accuracy: 0.9668 - auc: 0.7293 - true_positives: 514.0000 - true_negatives: 341917.0000 - precision: 0.5915 - recall: 0.0432\n",
      "Training time: 48.81923794746399 seconds\n",
      "INFO:tensorflow:Assets written to: 72h_ed_revisit_mlp\\assets\n"
     ]
    },
    {
     "name": "stderr",
     "output_type": "stream",
     "text": [
      "INFO:tensorflow:Assets written to: 72h_ed_revisit_mlp\\assets\n"
     ]
    }
   ],
   "source": [
    "# skip this cell if not retraining\n",
    "mlp = MLP()\n",
    "mlp.compile(loss='binary_crossentropy', \n",
    "              optimizer=optimizers.Adam(learning_rate=0.001), \n",
    "              metrics=['accuracy', 'AUC',  #{'auprc': metrics.AUC(name='auprc', curve='PR')},\n",
    "                       'TruePositives', 'TrueNegatives', 'Precision', 'Recall'])\n",
    "start = time.time()\n",
    "mlp.fit(X_train_2.astype(np.float32), y_train, batch_size=200, epochs=20)\n",
    "runtime = time.time() - start\n",
    "print('Training time:', runtime, 'seconds')\n",
    "mlp.save('72h_ed_revisit_mlp')"
   ]
  },
  {
   "cell_type": "code",
   "execution_count": 120,
   "id": "6a334717",
   "metadata": {
    "scrolled": true
   },
   "outputs": [
    {
     "name": "stdout",
     "output_type": "stream",
     "text": [
      "MLP:\n",
      "2767/2767 [==============================] - 2s 702us/step\n",
      "AUC: 0.73176605157134\n",
      "AUPRC: 0.15648813840839437\n",
      "Sensitivity: 0.6605504587155964\n",
      "Specificity: 0.6625452845623466\n",
      "Score thresold: 0.03401548\n",
      "2.5 97.5\n"
     ]
    },
    {
     "data": {
      "image/png": "[encoded data removed]",
      "text/plain": [
       "<Figure size 432x288 with 1 Axes>"
      ]
     },
     "metadata": {
      "needs_background": "light"
     },
     "output_type": "display_data"
    },
    {
     "data": {
      "image/png": "[encoded data removed]",
      "text/plain": [
       "<Figure size 432x288 with 1 Axes>"
      ]
     },
     "metadata": {
      "needs_background": "light"
     },
     "output_type": "display_data"
    }
   ],
   "source": [
    "print(\"MLP:\")\n",
    "#mlp = load_model('72h_ed_revisit_mlp')\n",
    "probs = mlp.predict(X_test_2.astype(np.float32))\n",
    "result = PlotROCCurve(probs,y_test, ci=confidence_interval, random_seed=random_seed)\n",
    "results = [\"MLP\"]\n",
    "results.extend(result)\n",
    "results.append(runtime)\n",
    "result_list_2.append(results)\n"
   ]
  },
  {
   "cell_type": "code",
   "execution_count": null,
   "id": "21c1c4fb",
   "metadata": {},
   "outputs": [],
   "source": []
  },
  {
   "cell_type": "code",
   "execution_count": null,
   "id": "a92b0050",
   "metadata": {},
   "outputs": [],
   "source": [
    "# MLP - X_train_3"
   ]
  },
  {
   "cell_type": "code",
   "execution_count": 121,
   "id": "e467bc23",
   "metadata": {},
   "outputs": [
    {
     "name": "stdout",
     "output_type": "stream",
     "text": [
      "Epoch 1/20\n",
      "1771/1771 [==============================] - 3s 1ms/step - loss: 0.1578 - accuracy: 0.9646 - auc: 0.6321 - true_positives: 146.0000 - true_negatives: 341495.0000 - precision: 0.1582 - recall: 0.0123\n",
      "Epoch 2/20\n",
      "1771/1771 [==============================] - 2s 1ms/step - loss: 0.1366 - accuracy: 0.9667 - auc: 0.6795 - true_positives: 480.0000 - true_negatives: 341893.0000 - precision: 0.5588 - recall: 0.0403\n",
      "Epoch 3/20\n",
      "1771/1771 [==============================] - 2s 1ms/step - loss: 0.1356 - accuracy: 0.9667 - auc: 0.6884 - true_positives: 500.0000 - true_negatives: 341896.0000 - precision: 0.5708 - recall: 0.0420\n",
      "Epoch 4/20\n",
      "1771/1771 [==============================] - 2s 1ms/step - loss: 0.1346 - accuracy: 0.9668 - auc: 0.6951 - true_positives: 493.0000 - true_negatives: 341916.0000 - precision: 0.5807 - recall: 0.0414\n",
      "Epoch 5/20\n",
      "1771/1771 [==============================] - 2s 1ms/step - loss: 0.1339 - accuracy: 0.9666 - auc: 0.7012 - true_positives: 481.0000 - true_negatives: 341877.0000 - precision: 0.5491 - recall: 0.0404\n",
      "Epoch 6/20\n",
      "1771/1771 [==============================] - 2s 1ms/step - loss: 0.1335 - accuracy: 0.9667 - auc: 0.7070 - true_positives: 504.0000 - true_negatives: 341891.0000 - precision: 0.5695 - recall: 0.0423\n",
      "Epoch 7/20\n",
      "1771/1771 [==============================] - 2s 1ms/step - loss: 0.1331 - accuracy: 0.9667 - auc: 0.7110 - true_positives: 476.0000 - true_negatives: 341904.0000 - precision: 0.5640 - recall: 0.0400\n",
      "Epoch 8/20\n",
      "1771/1771 [==============================] - 2s 1ms/step - loss: 0.1329 - accuracy: 0.9666 - auc: 0.7111 - true_positives: 484.0000 - true_negatives: 341880.0000 - precision: 0.5525 - recall: 0.0406\n",
      "Epoch 9/20\n",
      "1771/1771 [==============================] - 2s 1ms/step - loss: 0.1326 - accuracy: 0.9667 - auc: 0.7157 - true_positives: 484.0000 - true_negatives: 341914.0000 - precision: 0.5748 - recall: 0.0406\n",
      "Epoch 10/20\n",
      "1771/1771 [==============================] - 2s 1ms/step - loss: 0.1325 - accuracy: 0.9667 - auc: 0.7168 - true_positives: 515.0000 - true_negatives: 341877.0000 - precision: 0.5659 - recall: 0.0432\n",
      "Epoch 11/20\n",
      "1771/1771 [==============================] - 2s 1ms/step - loss: 0.1323 - accuracy: 0.9667 - auc: 0.7186 - true_positives: 535.0000 - true_negatives: 341844.0000 - precision: 0.5556 - recall: 0.0449\n",
      "Epoch 12/20\n",
      "1771/1771 [==============================] - 2s 1ms/step - loss: 0.1321 - accuracy: 0.9667 - auc: 0.7218 - true_positives: 499.0000 - true_negatives: 341881.0000 - precision: 0.5607 - recall: 0.0419\n",
      "Epoch 13/20\n",
      "1771/1771 [==============================] - 2s 1ms/step - loss: 0.1321 - accuracy: 0.9667 - auc: 0.7212 - true_positives: 520.0000 - true_negatives: 341862.0000 - precision: 0.5591 - recall: 0.0437\n",
      "Epoch 14/20\n",
      "1771/1771 [==============================] - 2s 1ms/step - loss: 0.1320 - accuracy: 0.9667 - auc: 0.7203 - true_positives: 534.0000 - true_negatives: 341858.0000 - precision: 0.5633 - recall: 0.0448\n",
      "Epoch 15/20\n",
      "1771/1771 [==============================] - 3s 1ms/step - loss: 0.1318 - accuracy: 0.9668 - auc: 0.7240 - true_positives: 517.0000 - true_negatives: 341899.0000 - precision: 0.5809 - recall: 0.0434\n",
      "Epoch 16/20\n",
      "1771/1771 [==============================] - 2s 1ms/step - loss: 0.1318 - accuracy: 0.9668 - auc: 0.7238 - true_positives: 532.0000 - true_negatives: 341886.0000 - precision: 0.5795 - recall: 0.0447\n",
      "Epoch 17/20\n",
      "1771/1771 [==============================] - 2s 1ms/step - loss: 0.1317 - accuracy: 0.9667 - auc: 0.7254 - true_positives: 496.0000 - true_negatives: 341877.0000 - precision: 0.5567 - recall: 0.0416\n",
      "Epoch 18/20\n",
      "1771/1771 [==============================] - 2s 1ms/step - loss: 0.1317 - accuracy: 0.9668 - auc: 0.7257 - true_positives: 521.0000 - true_negatives: 341902.0000 - precision: 0.5847 - recall: 0.0437\n",
      "Epoch 19/20\n",
      "1771/1771 [==============================] - 2s 1ms/step - loss: 0.1314 - accuracy: 0.9667 - auc: 0.7279 - true_positives: 537.0000 - true_negatives: 341867.0000 - precision: 0.5701 - recall: 0.0451\n",
      "Epoch 20/20\n",
      "1771/1771 [==============================] - 2s 1ms/step - loss: 0.1315 - accuracy: 0.9668 - auc: 0.7270 - true_positives: 529.0000 - true_negatives: 341893.0000 - precision: 0.5826 - recall: 0.0444\n",
      "Training time: 47.819934368133545 seconds\n",
      "INFO:tensorflow:Assets written to: 72h_ed_revisit_mlp\\assets\n"
     ]
    },
    {
     "name": "stderr",
     "output_type": "stream",
     "text": [
      "INFO:tensorflow:Assets written to: 72h_ed_revisit_mlp\\assets\n"
     ]
    }
   ],
   "source": [
    "# skip this cell if not retraining\n",
    "mlp = MLP()\n",
    "mlp.compile(loss='binary_crossentropy', \n",
    "              optimizer=optimizers.Adam(learning_rate=0.001), \n",
    "              metrics=['accuracy', 'AUC',  #{'auprc': metrics.AUC(name='auprc', curve='PR')},\n",
    "                       'TruePositives', 'TrueNegatives', 'Precision', 'Recall'])\n",
    "start = time.time()\n",
    "mlp.fit(X_train_3.astype(np.float32), y_train, batch_size=200, epochs=20)\n",
    "runtime = time.time() - start\n",
    "print('Training time:', runtime, 'seconds')\n",
    "mlp.save('72h_ed_revisit_mlp')"
   ]
  },
  {
   "cell_type": "code",
   "execution_count": 122,
   "id": "a09af0cc",
   "metadata": {
    "scrolled": true
   },
   "outputs": [
    {
     "name": "stdout",
     "output_type": "stream",
     "text": [
      "MLP:\n",
      "2767/2767 [==============================] - 2s 748us/step\n",
      "AUC: 0.7274459064081917\n",
      "AUPRC: 0.15345728542571116\n",
      "Sensitivity: 0.6506965681277608\n",
      "Specificity: 0.669007829846909\n",
      "Score thresold: 0.029851807\n",
      "2.5 97.5\n"
     ]
    },
    {
     "data": {
      "image/png": "[encoded data removed]",
      "text/plain": [
       "<Figure size 432x288 with 1 Axes>"
      ]
     },
     "metadata": {
      "needs_background": "light"
     },
     "output_type": "display_data"
    },
    {
     "data": {
      "image/png": "[encoded data removed]",
      "text/plain": [
       "<Figure size 432x288 with 1 Axes>"
      ]
     },
     "metadata": {
      "needs_background": "light"
     },
     "output_type": "display_data"
    }
   ],
   "source": [
    "print(\"MLP:\")\n",
    "#mlp = load_model('72h_ed_revisit_mlp')\n",
    "probs = mlp.predict(X_test_3.astype(np.float32))\n",
    "result = PlotROCCurve(probs,y_test, ci=confidence_interval, random_seed=random_seed)\n",
    "results = [\"MLP\"]\n",
    "results.extend(result)\n",
    "results.append(runtime)\n",
    "result_list_3.append(results)\n"
   ]
  },
  {
   "cell_type": "code",
   "execution_count": null,
   "id": "f37e6fdd",
   "metadata": {},
   "outputs": [],
   "source": []
  },
  {
   "cell_type": "code",
   "execution_count": null,
   "id": "a0e90532",
   "metadata": {},
   "outputs": [],
   "source": [
    "# MLP -X_train_4"
   ]
  },
  {
   "cell_type": "code",
   "execution_count": 123,
   "id": "993391fc",
   "metadata": {},
   "outputs": [
    {
     "name": "stdout",
     "output_type": "stream",
     "text": [
      "Epoch 1/20\n",
      "1771/1771 [==============================] - 3s 1ms/step - loss: 0.1395 - accuracy: 0.9666 - auc: 0.6499 - true_positives: 435.0000 - true_negatives: 341915.0000 - precision: 0.5492 - recall: 0.0365\n",
      "Epoch 2/20\n",
      "1771/1771 [==============================] - 2s 1ms/step - loss: 0.1357 - accuracy: 0.9666 - auc: 0.6672 - true_positives: 517.0000 - true_negatives: 341849.0000 - precision: 0.5500 - recall: 0.0434\n",
      "Epoch 3/20\n",
      "1771/1771 [==============================] - 2s 1ms/step - loss: 0.1353 - accuracy: 0.9667 - auc: 0.6744 - true_positives: 504.0000 - true_negatives: 341889.0000 - precision: 0.5682 - recall: 0.0423\n",
      "Epoch 4/20\n",
      "1771/1771 [==============================] - 2s 1ms/step - loss: 0.1349 - accuracy: 0.9668 - auc: 0.6794 - true_positives: 528.0000 - true_negatives: 341877.0000 - precision: 0.5720 - recall: 0.0443\n",
      "Epoch 5/20\n",
      "1771/1771 [==============================] - 3s 1ms/step - loss: 0.1341 - accuracy: 0.9667 - auc: 0.6914 - true_positives: 511.0000 - true_negatives: 341868.0000 - precision: 0.5585 - recall: 0.0429\n",
      "Epoch 6/20\n",
      "1771/1771 [==============================] - 2s 1ms/step - loss: 0.1333 - accuracy: 0.9667 - auc: 0.7034 - true_positives: 496.0000 - true_negatives: 341896.0000 - precision: 0.5688 - recall: 0.0416\n",
      "Epoch 7/20\n",
      "1771/1771 [==============================] - 2s 1ms/step - loss: 0.1329 - accuracy: 0.9667 - auc: 0.7109 - true_positives: 491.0000 - true_negatives: 341893.0000 - precision: 0.5644 - recall: 0.0412\n",
      "Epoch 8/20\n",
      "1771/1771 [==============================] - 2s 1ms/step - loss: 0.1324 - accuracy: 0.9667 - auc: 0.7165 - true_positives: 499.0000 - true_negatives: 341904.0000 - precision: 0.5755 - recall: 0.0419\n",
      "Epoch 9/20\n",
      "1771/1771 [==============================] - 2s 1ms/step - loss: 0.1320 - accuracy: 0.9667 - auc: 0.7221 - true_positives: 493.0000 - true_negatives: 341900.0000 - precision: 0.5699 - recall: 0.0414\n",
      "Epoch 10/20\n",
      "1771/1771 [==============================] - 2s 1ms/step - loss: 0.1317 - accuracy: 0.9667 - auc: 0.7256 - true_positives: 488.0000 - true_negatives: 341907.0000 - precision: 0.5721 - recall: 0.0410\n",
      "Epoch 11/20\n",
      "1771/1771 [==============================] - 3s 2ms/step - loss: 0.1314 - accuracy: 0.9667 - auc: 0.7284 - true_positives: 462.0000 - true_negatives: 341939.0000 - precision: 0.5811 - recall: 0.0388\n",
      "Epoch 12/20\n",
      "1771/1771 [==============================] - 2s 1ms/step - loss: 0.1313 - accuracy: 0.9668 - auc: 0.7295 - true_positives: 499.0000 - true_negatives: 341909.0000 - precision: 0.5789 - recall: 0.0419\n",
      "Epoch 13/20\n",
      "1771/1771 [==============================] - 3s 1ms/step - loss: 0.1313 - accuracy: 0.9668 - auc: 0.7294 - true_positives: 479.0000 - true_negatives: 341944.0000 - precision: 0.5936 - recall: 0.0402\n",
      "Epoch 14/20\n",
      "1771/1771 [==============================] - 2s 1ms/step - loss: 0.1312 - accuracy: 0.9668 - auc: 0.7309 - true_positives: 487.0000 - true_negatives: 341924.0000 - precision: 0.5832 - recall: 0.0409\n",
      "Epoch 15/20\n",
      "1771/1771 [==============================] - 2s 1ms/step - loss: 0.1311 - accuracy: 0.9667 - auc: 0.7328 - true_positives: 458.0000 - true_negatives: 341932.0000 - precision: 0.5739 - recall: 0.0385\n",
      "Epoch 16/20\n",
      "1771/1771 [==============================] - 3s 2ms/step - loss: 0.1309 - accuracy: 0.9668 - auc: 0.7349 - true_positives: 459.0000 - true_negatives: 341951.0000 - precision: 0.5885 - recall: 0.0385\n",
      "Epoch 17/20\n",
      "1771/1771 [==============================] - 2s 1ms/step - loss: 0.1310 - accuracy: 0.9668 - auc: 0.7336 - true_positives: 480.0000 - true_negatives: 341932.0000 - precision: 0.5854 - recall: 0.0403\n",
      "Epoch 18/20\n",
      "1771/1771 [==============================] - 2s 1ms/step - loss: 0.1309 - accuracy: 0.9667 - auc: 0.7334 - true_positives: 472.0000 - true_negatives: 341929.0000 - precision: 0.5791 - recall: 0.0396\n",
      "Epoch 19/20\n",
      "1771/1771 [==============================] - 2s 1ms/step - loss: 0.1308 - accuracy: 0.9667 - auc: 0.7351 - true_positives: 439.0000 - true_negatives: 341960.0000 - precision: 0.5846 - recall: 0.0369\n",
      "Epoch 20/20\n",
      "1771/1771 [==============================] - 3s 2ms/step - loss: 0.1307 - accuracy: 0.9668 - auc: 0.7358 - true_positives: 494.0000 - true_negatives: 341918.0000 - precision: 0.5825 - recall: 0.0415\n",
      "Training time: 52.018619537353516 seconds\n",
      "INFO:tensorflow:Assets written to: 72h_ed_revisit_mlp\\assets\n"
     ]
    },
    {
     "name": "stderr",
     "output_type": "stream",
     "text": [
      "INFO:tensorflow:Assets written to: 72h_ed_revisit_mlp\\assets\n"
     ]
    }
   ],
   "source": [
    "# skip this cell if not retraining\n",
    "mlp = MLP()\n",
    "mlp.compile(loss='binary_crossentropy', \n",
    "              optimizer=optimizers.Adam(learning_rate=0.001), \n",
    "              metrics=['accuracy', 'AUC',  #{'auprc': metrics.AUC(name='auprc', curve='PR')},\n",
    "                       'TruePositives', 'TrueNegatives', 'Precision', 'Recall'])\n",
    "start = time.time()\n",
    "mlp.fit(X_train_4.astype(np.float32), y_train, batch_size=200, epochs=20)\n",
    "runtime = time.time() - start\n",
    "print('Training time:', runtime, 'seconds')\n",
    "mlp.save('72h_ed_revisit_mlp')"
   ]
  },
  {
   "cell_type": "code",
   "execution_count": 124,
   "id": "1ef91aad",
   "metadata": {
    "scrolled": true
   },
   "outputs": [
    {
     "name": "stdout",
     "output_type": "stream",
     "text": [
      "MLP:\n",
      "2767/2767 [==============================] - 2s 692us/step\n",
      "AUC: 0.734180721940944\n",
      "AUPRC: 0.15827354076865313\n",
      "Sensitivity: 0.6574923547400612\n",
      "Specificity: 0.666799111838261\n",
      "Score thresold: 0.035562947\n",
      "2.5 97.5\n"
     ]
    },
    {
     "data": {
      "image/png": "[encoded data removed]",
      "text/plain": [
       "<Figure size 432x288 with 1 Axes>"
      ]
     },
     "metadata": {
      "needs_background": "light"
     },
     "output_type": "display_data"
    },
    {
     "data": {
      "image/png": "[encoded data removed]",
      "text/plain": [
       "<Figure size 432x288 with 1 Axes>"
      ]
     },
     "metadata": {
      "needs_background": "light"
     },
     "output_type": "display_data"
    }
   ],
   "source": [
    "print(\"MLP:\")\n",
    "#mlp = load_model('72h_ed_revisit_mlp')\n",
    "probs = mlp.predict(X_test_4.astype(np.float32))\n",
    "result = PlotROCCurve(probs,y_test, ci=confidence_interval, random_seed=random_seed)\n",
    "results = [\"MLP\"]\n",
    "results.extend(result)\n",
    "results.append(runtime)\n",
    "result_list_4.append(results)\n"
   ]
  },
  {
   "cell_type": "code",
   "execution_count": null,
   "id": "99887c9d",
   "metadata": {},
   "outputs": [],
   "source": []
  },
  {
   "cell_type": "code",
   "execution_count": null,
   "id": "f9416677",
   "metadata": {},
   "outputs": [],
   "source": [
    "#XGB - X_train_1"
   ]
  },
  {
   "cell_type": "code",
   "execution_count": 125,
   "id": "adf141d0",
   "metadata": {},
   "outputs": [
    {
     "name": "stdout",
     "output_type": "stream",
     "text": [
      "XGBoosting:\n",
      "Training time: 13.883540391921997 seconds\n",
      "AUC: 0.7352955382924944\n",
      "AUPRC: 0.15194103000437145\n",
      "Sensitivity: 0.6693849813115869\n",
      "Specificity: 0.6587121654785555\n",
      "Score thresold: 0.030015355\n",
      "2.5 97.5\n"
     ]
    },
    {
     "data": {
      "image/png": "[encoded data removed]",
      "text/plain": [
       "<Figure size 432x288 with 1 Axes>"
      ]
     },
     "metadata": {
      "needs_background": "light"
     },
     "output_type": "display_data"
    },
    {
     "data": {
      "image/png": "[encoded data removed]",
      "text/plain": [
       "<Figure size 432x288 with 1 Axes>"
      ]
     },
     "metadata": {
      "needs_background": "light"
     },
     "output_type": "display_data"
    }
   ],
   "source": [
    "import xgboost as xgb\n",
    "print(\"XGBoosting:\")\n",
    "xgb = xgb.XGBClassifier()\n",
    "start = time.time()\n",
    "xgb.fit(X_train_1, y_train)\n",
    "runtime = time.time()-start\n",
    "print('Training time:', runtime, 'seconds')\n",
    "probs = xgb.predict_proba(X_test_1)\n",
    "result = PlotROCCurve(probs[:,1],y_test, ci=confidence_interval, random_seed=random_seed)\n",
    "\n",
    "results = [\"XGB\"]\n",
    "results.extend(result)\n",
    "results.append(runtime)\n",
    "result_list_1.append(results)"
   ]
  },
  {
   "cell_type": "code",
   "execution_count": null,
   "id": "0eeef9be",
   "metadata": {},
   "outputs": [],
   "source": []
  },
  {
   "cell_type": "code",
   "execution_count": null,
   "id": "e6a92f3b",
   "metadata": {},
   "outputs": [],
   "source": [
    "#XGB - X_train_2"
   ]
  },
  {
   "cell_type": "code",
   "execution_count": 126,
   "id": "9624b254",
   "metadata": {},
   "outputs": [
    {
     "name": "stdout",
     "output_type": "stream",
     "text": [
      "XGBoosting:\n",
      "Training time: 7.244752407073975 seconds\n",
      "AUC: 0.7271754389455118\n",
      "AUPRC: 0.14846934441392468\n",
      "Sensitivity: 0.6296296296296297\n",
      "Specificity: 0.6890265279887811\n",
      "Score thresold: 0.03190737\n",
      "2.5 97.5\n"
     ]
    },
    {
     "data": {
      "image/png": "[encoded data removed]",
      "text/plain": [
       "<Figure size 432x288 with 1 Axes>"
      ]
     },
     "metadata": {
      "needs_background": "light"
     },
     "output_type": "display_data"
    },
    {
     "data": {
      "image/png": "[encoded data removed]",
      "text/plain": [
       "<Figure size 432x288 with 1 Axes>"
      ]
     },
     "metadata": {
      "needs_background": "light"
     },
     "output_type": "display_data"
    }
   ],
   "source": [
    "print(\"XGBoosting:\")\n",
    "start = time.time()\n",
    "xgb.fit(X_train_2, y_train)\n",
    "runtime = time.time()-start\n",
    "print('Training time:', runtime, 'seconds')\n",
    "probs = xgb.predict_proba(X_test_2)\n",
    "result = PlotROCCurve(probs[:,1],y_test, ci=confidence_interval, random_seed=random_seed)\n",
    "\n",
    "results = [\"XGB\"]\n",
    "results.extend(result)\n",
    "results.append(runtime)\n",
    "result_list_2.append(results)"
   ]
  },
  {
   "cell_type": "code",
   "execution_count": null,
   "id": "188aa8cb",
   "metadata": {},
   "outputs": [],
   "source": [
    "#XGB - X_train_3"
   ]
  },
  {
   "cell_type": "code",
   "execution_count": 127,
   "id": "0147b6f4",
   "metadata": {},
   "outputs": [
    {
     "name": "stdout",
     "output_type": "stream",
     "text": [
      "XGBoosting:\n",
      "Training time: 8.799871444702148 seconds\n",
      "AUC: 0.7352952722426505\n",
      "AUPRC: 0.15199546624389887\n",
      "Sensitivity: 0.6693849813115869\n",
      "Specificity: 0.6587121654785555\n",
      "Score thresold: 0.030015355\n",
      "2.5 97.5\n"
     ]
    },
    {
     "data": {
      "image/png": "[encoded data removed]",
      "text/plain": [
       "<Figure size 432x288 with 1 Axes>"
      ]
     },
     "metadata": {
      "needs_background": "light"
     },
     "output_type": "display_data"
    },
    {
     "data": {
      "image/png": "[encoded data removed]",
      "text/plain": [
       "<Figure size 432x288 with 1 Axes>"
      ]
     },
     "metadata": {
      "needs_background": "light"
     },
     "output_type": "display_data"
    }
   ],
   "source": [
    "print(\"XGBoosting:\")\n",
    "start = time.time()\n",
    "xgb.fit(X_train_3, y_train)\n",
    "runtime = time.time()-start\n",
    "print('Training time:', runtime, 'seconds')\n",
    "probs = xgb.predict_proba(X_test_3)\n",
    "result = PlotROCCurve(probs[:,1],y_test, ci=confidence_interval, random_seed=random_seed)\n",
    "\n",
    "results = [\"XGB\"]\n",
    "results.extend(result)\n",
    "results.append(runtime)\n",
    "result_list_3.append(results)"
   ]
  },
  {
   "cell_type": "code",
   "execution_count": null,
   "id": "35b93f58",
   "metadata": {},
   "outputs": [],
   "source": [
    "#XGB - X_train_4"
   ]
  },
  {
   "cell_type": "code",
   "execution_count": 128,
   "id": "8e1023ab",
   "metadata": {},
   "outputs": [
    {
     "name": "stdout",
     "output_type": "stream",
     "text": [
      "XGBoosting:\n",
      "Training time: 8.303920030593872 seconds\n",
      "AUC: 0.7271769478849255\n",
      "AUPRC: 0.14843899905053717\n",
      "Sensitivity: 0.6296296296296297\n",
      "Specificity: 0.6890265279887811\n",
      "Score thresold: 0.03190737\n",
      "2.5 97.5\n"
     ]
    },
    {
     "data": {
      "image/png": "[encoded data removed]",
      "text/plain": [
       "<Figure size 432x288 with 1 Axes>"
      ]
     },
     "metadata": {
      "needs_background": "light"
     },
     "output_type": "display_data"
    },
    {
     "data": {
      "image/png": "[encoded data removed]",
      "text/plain": [
       "<Figure size 432x288 with 1 Axes>"
      ]
     },
     "metadata": {
      "needs_background": "light"
     },
     "output_type": "display_data"
    }
   ],
   "source": [
    "print(\"XGBoosting:\")\n",
    "start = time.time()\n",
    "xgb.fit(X_train_4, y_train)\n",
    "runtime = time.time()-start\n",
    "print('Training time:', runtime, 'seconds')\n",
    "probs = xgb.predict_proba(X_test_4)\n",
    "result = PlotROCCurve(probs[:,1],y_test, ci=confidence_interval, random_seed=random_seed)\n",
    "\n",
    "results = [\"XGB\"]\n",
    "results.extend(result)\n",
    "results.append(runtime)\n",
    "result_list_4.append(results)"
   ]
  },
  {
   "cell_type": "markdown",
   "id": "2bca9400",
   "metadata": {},
   "source": [
    "### 4. Performance output"
   ]
  },
  {
   "cell_type": "code",
   "execution_count": null,
   "id": "fd6f8527",
   "metadata": {},
   "outputs": [],
   "source": [
    "# X_train_1"
   ]
  },
  {
   "cell_type": "code",
   "execution_count": 129,
   "id": "39f7c324",
   "metadata": {},
   "outputs": [
    {
     "data": {
      "text/html": [
       "<div>\n",
       "<style scoped>\n",
       "    .dataframe tbody tr th:only-of-type {\n",
       "        vertical-align: middle;\n",
       "    }\n",
       "\n",
       "    .dataframe tbody tr th {\n",
       "        vertical-align: top;\n",
       "    }\n",
       "\n",
       "    .dataframe thead th {\n",
       "        text-align: right;\n",
       "    }\n",
       "</style>\n",
       "<table border=\"1\" class=\"dataframe\">\n",
       "  <thead>\n",
       "    <tr style=\"text-align: right;\">\n",
       "      <th></th>\n",
       "      <th>Model</th>\n",
       "      <th>Threshold</th>\n",
       "      <th>AUROC</th>\n",
       "      <th>AUPRC</th>\n",
       "      <th>Sensitivity</th>\n",
       "      <th>Specificity</th>\n",
       "      <th>Runtime</th>\n",
       "    </tr>\n",
       "  </thead>\n",
       "  <tbody>\n",
       "    <tr>\n",
       "      <th>0</th>\n",
       "      <td>LR</td>\n",
       "      <td>0.032</td>\n",
       "      <td>0.675 (0.662-0.683)</td>\n",
       "      <td>0.14 (0.125-0.148)</td>\n",
       "      <td>0.585 (0.564-0.61)</td>\n",
       "      <td>0.657 (0.627-0.67)</td>\n",
       "      <td>4.136</td>\n",
       "    </tr>\n",
       "    <tr>\n",
       "      <th>1</th>\n",
       "      <td>RF</td>\n",
       "      <td>0.040</td>\n",
       "      <td>0.697 (0.689-0.703)</td>\n",
       "      <td>0.141 (0.126-0.151)</td>\n",
       "      <td>0.649 (0.635-0.662)</td>\n",
       "      <td>0.629 (0.626-0.631)</td>\n",
       "      <td>61.562</td>\n",
       "    </tr>\n",
       "    <tr>\n",
       "      <th>2</th>\n",
       "      <td>GB</td>\n",
       "      <td>0.032</td>\n",
       "      <td>0.74 (0.734-0.745)</td>\n",
       "      <td>0.157 (0.142-0.165)</td>\n",
       "      <td>0.661 (0.629-0.681)</td>\n",
       "      <td>0.671 (0.651-0.7)</td>\n",
       "      <td>59.507</td>\n",
       "    </tr>\n",
       "    <tr>\n",
       "      <th>3</th>\n",
       "      <td>MLP</td>\n",
       "      <td>0.031</td>\n",
       "      <td>0.738 (0.729-0.743)</td>\n",
       "      <td>0.156 (0.138-0.163)</td>\n",
       "      <td>0.648 (0.622-0.691)</td>\n",
       "      <td>0.685 (0.638-0.706)</td>\n",
       "      <td>50.485</td>\n",
       "    </tr>\n",
       "    <tr>\n",
       "      <th>4</th>\n",
       "      <td>XGB</td>\n",
       "      <td>0.030</td>\n",
       "      <td>0.735 (0.729-0.74)</td>\n",
       "      <td>0.152 (0.136-0.162)</td>\n",
       "      <td>0.669 (0.62-0.677)</td>\n",
       "      <td>0.659 (0.652-0.711)</td>\n",
       "      <td>13.884</td>\n",
       "    </tr>\n",
       "  </tbody>\n",
       "</table>\n",
       "</div>"
      ],
      "text/plain": [
       "  Model  Threshold                AUROC                AUPRC  \\\n",
       "0    LR      0.032  0.675 (0.662-0.683)   0.14 (0.125-0.148)   \n",
       "1    RF      0.040  0.697 (0.689-0.703)  0.141 (0.126-0.151)   \n",
       "2    GB      0.032   0.74 (0.734-0.745)  0.157 (0.142-0.165)   \n",
       "3   MLP      0.031  0.738 (0.729-0.743)  0.156 (0.138-0.163)   \n",
       "4   XGB      0.030   0.735 (0.729-0.74)  0.152 (0.136-0.162)   \n",
       "\n",
       "           Sensitivity          Specificity  Runtime  \n",
       "0   0.585 (0.564-0.61)   0.657 (0.627-0.67)    4.136  \n",
       "1  0.649 (0.635-0.662)  0.629 (0.626-0.631)   61.562  \n",
       "2  0.661 (0.629-0.681)    0.671 (0.651-0.7)   59.507  \n",
       "3  0.648 (0.622-0.691)  0.685 (0.638-0.706)   50.485  \n",
       "4   0.669 (0.62-0.677)  0.659 (0.652-0.711)   13.884  "
      ]
     },
     "execution_count": 129,
     "metadata": {},
     "output_type": "execute_result"
    }
   ],
   "source": [
    "#result_df = pd.read_csv(os.path.join(path, 'result_72h_ed_revivist_disposition.csv'))\n",
    "result_df = pd.DataFrame(result_list_1, columns=['Model', 'auroc', 'ap', 'sensitivity', 'specificity', 'threshold', 'lower_auroc', 'upper_auroc', 'std_auroc', 'lower_ap', 'upper_ap', 'std_ap', 'lower_sensitivity', 'upper_sensitivity', 'std_sensitivity', 'lower_specificity', 'upper_specificity', 'std_specificity', 'runtime'])\n",
    "# result_df.to_csv(os.path.join(path, 'result_72h_ed_revivist_disposition.csv'), index=False)\n",
    "result_df = result_df.round(3)\n",
    "formatted_result_df = pd.DataFrame()\n",
    "formatted_result_df[['Model', 'Threshold']] = result_df[['Model', 'threshold']]\n",
    "formatted_result_df['AUROC'] = result_df['auroc'].astype(str) + ' (' + result_df['lower_auroc'].astype(str) + \\\n",
    "                               '-' + result_df['upper_auroc'].astype(str) + ')'\n",
    "formatted_result_df['AUPRC'] = result_df['ap'].astype(str) + ' (' + result_df['lower_ap'].astype(str) + \\\n",
    "                               '-' + result_df['upper_ap'].astype(str) + ')'\n",
    "formatted_result_df['Sensitivity'] = result_df['sensitivity'].astype(str) + ' (' + result_df['lower_sensitivity'].astype(str) + \\\n",
    "                                     '-' + result_df['upper_sensitivity'].astype(str) + ')'\n",
    "formatted_result_df['Specificity'] = result_df['specificity'].astype(str) + ' (' + result_df['lower_specificity'].astype(str) + \\\n",
    "                                     '-' + result_df['upper_specificity'].astype(str) + ')'\n",
    "formatted_result_df[['Runtime']] = result_df[['runtime']]\n",
    "# formatted_result_df.to_csv(os.path.join(path, 'task3.csv'), index=False)\n",
    "formatted_result_df"
   ]
  },
  {
   "cell_type": "code",
   "execution_count": null,
   "id": "2ce0df45",
   "metadata": {},
   "outputs": [],
   "source": [
    "# X_train_2"
   ]
  },
  {
   "cell_type": "code",
   "execution_count": 130,
   "id": "b8ddfb77",
   "metadata": {},
   "outputs": [
    {
     "data": {
      "text/html": [
       "<div>\n",
       "<style scoped>\n",
       "    .dataframe tbody tr th:only-of-type {\n",
       "        vertical-align: middle;\n",
       "    }\n",
       "\n",
       "    .dataframe tbody tr th {\n",
       "        vertical-align: top;\n",
       "    }\n",
       "\n",
       "    .dataframe thead th {\n",
       "        text-align: right;\n",
       "    }\n",
       "</style>\n",
       "<table border=\"1\" class=\"dataframe\">\n",
       "  <thead>\n",
       "    <tr style=\"text-align: right;\">\n",
       "      <th></th>\n",
       "      <th>Model</th>\n",
       "      <th>Threshold</th>\n",
       "      <th>AUROC</th>\n",
       "      <th>AUPRC</th>\n",
       "      <th>Sensitivity</th>\n",
       "      <th>Specificity</th>\n",
       "      <th>Runtime</th>\n",
       "    </tr>\n",
       "  </thead>\n",
       "  <tbody>\n",
       "    <tr>\n",
       "      <th>0</th>\n",
       "      <td>LR</td>\n",
       "      <td>0.031</td>\n",
       "      <td>0.676 (0.662-0.685)</td>\n",
       "      <td>0.141 (0.127-0.149)</td>\n",
       "      <td>0.583 (0.575-0.652)</td>\n",
       "      <td>0.665 (0.591-0.674)</td>\n",
       "      <td>3.755</td>\n",
       "    </tr>\n",
       "    <tr>\n",
       "      <th>1</th>\n",
       "      <td>RF</td>\n",
       "      <td>0.040</td>\n",
       "      <td>0.688 (0.678-0.692)</td>\n",
       "      <td>0.134 (0.121-0.14)</td>\n",
       "      <td>0.625 (0.577-0.64)</td>\n",
       "      <td>0.636 (0.633-0.682)</td>\n",
       "      <td>57.819</td>\n",
       "    </tr>\n",
       "    <tr>\n",
       "      <th>2</th>\n",
       "      <td>GB</td>\n",
       "      <td>0.031</td>\n",
       "      <td>0.735 (0.728-0.74)</td>\n",
       "      <td>0.155 (0.14-0.166)</td>\n",
       "      <td>0.678 (0.638-0.696)</td>\n",
       "      <td>0.647 (0.633-0.689)</td>\n",
       "      <td>48.283</td>\n",
       "    </tr>\n",
       "    <tr>\n",
       "      <th>3</th>\n",
       "      <td>MLP</td>\n",
       "      <td>0.034</td>\n",
       "      <td>0.732 (0.724-0.739)</td>\n",
       "      <td>0.156 (0.141-0.164)</td>\n",
       "      <td>0.661 (0.64-0.679)</td>\n",
       "      <td>0.663 (0.648-0.679)</td>\n",
       "      <td>48.819</td>\n",
       "    </tr>\n",
       "    <tr>\n",
       "      <th>4</th>\n",
       "      <td>XGB</td>\n",
       "      <td>0.032</td>\n",
       "      <td>0.727 (0.72-0.734)</td>\n",
       "      <td>0.148 (0.136-0.158)</td>\n",
       "      <td>0.63 (0.604-0.674)</td>\n",
       "      <td>0.689 (0.639-0.723)</td>\n",
       "      <td>7.245</td>\n",
       "    </tr>\n",
       "  </tbody>\n",
       "</table>\n",
       "</div>"
      ],
      "text/plain": [
       "  Model  Threshold                AUROC                AUPRC  \\\n",
       "0    LR      0.031  0.676 (0.662-0.685)  0.141 (0.127-0.149)   \n",
       "1    RF      0.040  0.688 (0.678-0.692)   0.134 (0.121-0.14)   \n",
       "2    GB      0.031   0.735 (0.728-0.74)   0.155 (0.14-0.166)   \n",
       "3   MLP      0.034  0.732 (0.724-0.739)  0.156 (0.141-0.164)   \n",
       "4   XGB      0.032   0.727 (0.72-0.734)  0.148 (0.136-0.158)   \n",
       "\n",
       "           Sensitivity          Specificity  Runtime  \n",
       "0  0.583 (0.575-0.652)  0.665 (0.591-0.674)    3.755  \n",
       "1   0.625 (0.577-0.64)  0.636 (0.633-0.682)   57.819  \n",
       "2  0.678 (0.638-0.696)  0.647 (0.633-0.689)   48.283  \n",
       "3   0.661 (0.64-0.679)  0.663 (0.648-0.679)   48.819  \n",
       "4   0.63 (0.604-0.674)  0.689 (0.639-0.723)    7.245  "
      ]
     },
     "execution_count": 130,
     "metadata": {},
     "output_type": "execute_result"
    }
   ],
   "source": [
    "#result_df = pd.read_csv(os.path.join(path, 'result_72h_ed_revivist_disposition.csv'))\n",
    "result_df = pd.DataFrame(result_list_2, columns=['Model', 'auroc', 'ap', 'sensitivity', 'specificity', 'threshold', 'lower_auroc', 'upper_auroc', 'std_auroc', 'lower_ap', 'upper_ap', 'std_ap', 'lower_sensitivity', 'upper_sensitivity', 'std_sensitivity', 'lower_specificity', 'upper_specificity', 'std_specificity', 'runtime'])\n",
    "# result_df.to_csv(os.path.join(path, 'result_72h_ed_revivist_disposition.csv'), index=False)\n",
    "result_df = result_df.round(3)\n",
    "formatted_result_df = pd.DataFrame()\n",
    "formatted_result_df[['Model', 'Threshold']] = result_df[['Model', 'threshold']]\n",
    "formatted_result_df['AUROC'] = result_df['auroc'].astype(str) + ' (' + result_df['lower_auroc'].astype(str) + \\\n",
    "                               '-' + result_df['upper_auroc'].astype(str) + ')'\n",
    "formatted_result_df['AUPRC'] = result_df['ap'].astype(str) + ' (' + result_df['lower_ap'].astype(str) + \\\n",
    "                               '-' + result_df['upper_ap'].astype(str) + ')'\n",
    "formatted_result_df['Sensitivity'] = result_df['sensitivity'].astype(str) + ' (' + result_df['lower_sensitivity'].astype(str) + \\\n",
    "                                     '-' + result_df['upper_sensitivity'].astype(str) + ')'\n",
    "formatted_result_df['Specificity'] = result_df['specificity'].astype(str) + ' (' + result_df['lower_specificity'].astype(str) + \\\n",
    "                                     '-' + result_df['upper_specificity'].astype(str) + ')'\n",
    "formatted_result_df[['Runtime']] = result_df[['runtime']]\n",
    "# formatted_result_df.to_csv(os.path.join(path, 'task3.csv'), index=False)\n",
    "formatted_result_df"
   ]
  },
  {
   "cell_type": "code",
   "execution_count": null,
   "id": "31c477a7",
   "metadata": {},
   "outputs": [],
   "source": [
    "# X_train_3"
   ]
  },
  {
   "cell_type": "code",
   "execution_count": 131,
   "id": "a1e9151a",
   "metadata": {},
   "outputs": [
    {
     "data": {
      "text/html": [
       "<div>\n",
       "<style scoped>\n",
       "    .dataframe tbody tr th:only-of-type {\n",
       "        vertical-align: middle;\n",
       "    }\n",
       "\n",
       "    .dataframe tbody tr th {\n",
       "        vertical-align: top;\n",
       "    }\n",
       "\n",
       "    .dataframe thead th {\n",
       "        text-align: right;\n",
       "    }\n",
       "</style>\n",
       "<table border=\"1\" class=\"dataframe\">\n",
       "  <thead>\n",
       "    <tr style=\"text-align: right;\">\n",
       "      <th></th>\n",
       "      <th>Model</th>\n",
       "      <th>Threshold</th>\n",
       "      <th>AUROC</th>\n",
       "      <th>AUPRC</th>\n",
       "      <th>Sensitivity</th>\n",
       "      <th>Specificity</th>\n",
       "      <th>Runtime</th>\n",
       "    </tr>\n",
       "  </thead>\n",
       "  <tbody>\n",
       "    <tr>\n",
       "      <th>0</th>\n",
       "      <td>LR</td>\n",
       "      <td>0.034</td>\n",
       "      <td>0.65 (0.635-0.659)</td>\n",
       "      <td>0.124 (0.109-0.133)</td>\n",
       "      <td>0.539 (0.516-0.599)</td>\n",
       "      <td>0.671 (0.601-0.688)</td>\n",
       "      <td>3.984</td>\n",
       "    </tr>\n",
       "    <tr>\n",
       "      <th>1</th>\n",
       "      <td>RF</td>\n",
       "      <td>0.040</td>\n",
       "      <td>0.698 (0.688-0.703)</td>\n",
       "      <td>0.142 (0.128-0.149)</td>\n",
       "      <td>0.649 (0.628-0.658)</td>\n",
       "      <td>0.629 (0.627-0.632)</td>\n",
       "      <td>58.134</td>\n",
       "    </tr>\n",
       "    <tr>\n",
       "      <th>2</th>\n",
       "      <td>GB</td>\n",
       "      <td>0.032</td>\n",
       "      <td>0.74 (0.734-0.745)</td>\n",
       "      <td>0.157 (0.142-0.165)</td>\n",
       "      <td>0.661 (0.629-0.681)</td>\n",
       "      <td>0.671 (0.651-0.7)</td>\n",
       "      <td>59.082</td>\n",
       "    </tr>\n",
       "    <tr>\n",
       "      <th>3</th>\n",
       "      <td>MLP</td>\n",
       "      <td>0.030</td>\n",
       "      <td>0.727 (0.718-0.732)</td>\n",
       "      <td>0.153 (0.138-0.161)</td>\n",
       "      <td>0.651 (0.631-0.658)</td>\n",
       "      <td>0.669 (0.659-0.685)</td>\n",
       "      <td>47.820</td>\n",
       "    </tr>\n",
       "    <tr>\n",
       "      <th>4</th>\n",
       "      <td>XGB</td>\n",
       "      <td>0.030</td>\n",
       "      <td>0.735 (0.729-0.74)</td>\n",
       "      <td>0.152 (0.136-0.162)</td>\n",
       "      <td>0.669 (0.62-0.677)</td>\n",
       "      <td>0.659 (0.652-0.711)</td>\n",
       "      <td>8.800</td>\n",
       "    </tr>\n",
       "  </tbody>\n",
       "</table>\n",
       "</div>"
      ],
      "text/plain": [
       "  Model  Threshold                AUROC                AUPRC  \\\n",
       "0    LR      0.034   0.65 (0.635-0.659)  0.124 (0.109-0.133)   \n",
       "1    RF      0.040  0.698 (0.688-0.703)  0.142 (0.128-0.149)   \n",
       "2    GB      0.032   0.74 (0.734-0.745)  0.157 (0.142-0.165)   \n",
       "3   MLP      0.030  0.727 (0.718-0.732)  0.153 (0.138-0.161)   \n",
       "4   XGB      0.030   0.735 (0.729-0.74)  0.152 (0.136-0.162)   \n",
       "\n",
       "           Sensitivity          Specificity  Runtime  \n",
       "0  0.539 (0.516-0.599)  0.671 (0.601-0.688)    3.984  \n",
       "1  0.649 (0.628-0.658)  0.629 (0.627-0.632)   58.134  \n",
       "2  0.661 (0.629-0.681)    0.671 (0.651-0.7)   59.082  \n",
       "3  0.651 (0.631-0.658)  0.669 (0.659-0.685)   47.820  \n",
       "4   0.669 (0.62-0.677)  0.659 (0.652-0.711)    8.800  "
      ]
     },
     "execution_count": 131,
     "metadata": {},
     "output_type": "execute_result"
    }
   ],
   "source": [
    "#result_df = pd.read_csv(os.path.join(path, 'result_72h_ed_revivist_disposition.csv'))\n",
    "result_df = pd.DataFrame(result_list_3, columns=['Model', 'auroc', 'ap', 'sensitivity', 'specificity', 'threshold', 'lower_auroc', 'upper_auroc', 'std_auroc', 'lower_ap', 'upper_ap', 'std_ap', 'lower_sensitivity', 'upper_sensitivity', 'std_sensitivity', 'lower_specificity', 'upper_specificity', 'std_specificity', 'runtime'])\n",
    "# result_df.to_csv(os.path.join(path, 'result_72h_ed_revivist_disposition.csv'), index=False)\n",
    "result_df = result_df.round(3)\n",
    "formatted_result_df = pd.DataFrame()\n",
    "formatted_result_df[['Model', 'Threshold']] = result_df[['Model', 'threshold']]\n",
    "formatted_result_df['AUROC'] = result_df['auroc'].astype(str) + ' (' + result_df['lower_auroc'].astype(str) + \\\n",
    "                               '-' + result_df['upper_auroc'].astype(str) + ')'\n",
    "formatted_result_df['AUPRC'] = result_df['ap'].astype(str) + ' (' + result_df['lower_ap'].astype(str) + \\\n",
    "                               '-' + result_df['upper_ap'].astype(str) + ')'\n",
    "formatted_result_df['Sensitivity'] = result_df['sensitivity'].astype(str) + ' (' + result_df['lower_sensitivity'].astype(str) + \\\n",
    "                                     '-' + result_df['upper_sensitivity'].astype(str) + ')'\n",
    "formatted_result_df['Specificity'] = result_df['specificity'].astype(str) + ' (' + result_df['lower_specificity'].astype(str) + \\\n",
    "                                     '-' + result_df['upper_specificity'].astype(str) + ')'\n",
    "formatted_result_df[['Runtime']] = result_df[['runtime']]\n",
    "# formatted_result_df.to_csv(os.path.join(path, 'task3.csv'), index=False)\n",
    "formatted_result_df"
   ]
  },
  {
   "cell_type": "code",
   "execution_count": null,
   "id": "d927174d",
   "metadata": {},
   "outputs": [],
   "source": [
    "# X_train_4"
   ]
  },
  {
   "cell_type": "code",
   "execution_count": 132,
   "id": "b06be88d",
   "metadata": {},
   "outputs": [
    {
     "data": {
      "text/html": [
       "<div>\n",
       "<style scoped>\n",
       "    .dataframe tbody tr th:only-of-type {\n",
       "        vertical-align: middle;\n",
       "    }\n",
       "\n",
       "    .dataframe tbody tr th {\n",
       "        vertical-align: top;\n",
       "    }\n",
       "\n",
       "    .dataframe thead th {\n",
       "        text-align: right;\n",
       "    }\n",
       "</style>\n",
       "<table border=\"1\" class=\"dataframe\">\n",
       "  <thead>\n",
       "    <tr style=\"text-align: right;\">\n",
       "      <th></th>\n",
       "      <th>Model</th>\n",
       "      <th>Threshold</th>\n",
       "      <th>AUROC</th>\n",
       "      <th>AUPRC</th>\n",
       "      <th>Sensitivity</th>\n",
       "      <th>Specificity</th>\n",
       "      <th>Runtime</th>\n",
       "    </tr>\n",
       "  </thead>\n",
       "  <tbody>\n",
       "    <tr>\n",
       "      <th>0</th>\n",
       "      <td>LR</td>\n",
       "      <td>0.031</td>\n",
       "      <td>0.674 (0.659-0.682)</td>\n",
       "      <td>0.141 (0.127-0.149)</td>\n",
       "      <td>0.603 (0.577-0.622)</td>\n",
       "      <td>0.637 (0.623-0.656)</td>\n",
       "      <td>3.502</td>\n",
       "    </tr>\n",
       "    <tr>\n",
       "      <th>1</th>\n",
       "      <td>RF</td>\n",
       "      <td>0.040</td>\n",
       "      <td>0.682 (0.675-0.688)</td>\n",
       "      <td>0.133 (0.119-0.141)</td>\n",
       "      <td>0.622 (0.608-0.629)</td>\n",
       "      <td>0.637 (0.635-0.641)</td>\n",
       "      <td>59.508</td>\n",
       "    </tr>\n",
       "    <tr>\n",
       "      <th>2</th>\n",
       "      <td>GB</td>\n",
       "      <td>0.031</td>\n",
       "      <td>0.735 (0.728-0.74)</td>\n",
       "      <td>0.155 (0.14-0.166)</td>\n",
       "      <td>0.678 (0.638-0.696)</td>\n",
       "      <td>0.647 (0.633-0.689)</td>\n",
       "      <td>48.807</td>\n",
       "    </tr>\n",
       "    <tr>\n",
       "      <th>3</th>\n",
       "      <td>MLP</td>\n",
       "      <td>0.036</td>\n",
       "      <td>0.734 (0.726-0.739)</td>\n",
       "      <td>0.158 (0.143-0.167)</td>\n",
       "      <td>0.657 (0.634-0.665)</td>\n",
       "      <td>0.667 (0.665-0.695)</td>\n",
       "      <td>52.019</td>\n",
       "    </tr>\n",
       "    <tr>\n",
       "      <th>4</th>\n",
       "      <td>XGB</td>\n",
       "      <td>0.032</td>\n",
       "      <td>0.727 (0.72-0.734)</td>\n",
       "      <td>0.148 (0.136-0.158)</td>\n",
       "      <td>0.63 (0.604-0.674)</td>\n",
       "      <td>0.689 (0.639-0.723)</td>\n",
       "      <td>8.304</td>\n",
       "    </tr>\n",
       "  </tbody>\n",
       "</table>\n",
       "</div>"
      ],
      "text/plain": [
       "  Model  Threshold                AUROC                AUPRC  \\\n",
       "0    LR      0.031  0.674 (0.659-0.682)  0.141 (0.127-0.149)   \n",
       "1    RF      0.040  0.682 (0.675-0.688)  0.133 (0.119-0.141)   \n",
       "2    GB      0.031   0.735 (0.728-0.74)   0.155 (0.14-0.166)   \n",
       "3   MLP      0.036  0.734 (0.726-0.739)  0.158 (0.143-0.167)   \n",
       "4   XGB      0.032   0.727 (0.72-0.734)  0.148 (0.136-0.158)   \n",
       "\n",
       "           Sensitivity          Specificity  Runtime  \n",
       "0  0.603 (0.577-0.622)  0.637 (0.623-0.656)    3.502  \n",
       "1  0.622 (0.608-0.629)  0.637 (0.635-0.641)   59.508  \n",
       "2  0.678 (0.638-0.696)  0.647 (0.633-0.689)   48.807  \n",
       "3  0.657 (0.634-0.665)  0.667 (0.665-0.695)   52.019  \n",
       "4   0.63 (0.604-0.674)  0.689 (0.639-0.723)    8.304  "
      ]
     },
     "execution_count": 132,
     "metadata": {},
     "output_type": "execute_result"
    }
   ],
   "source": [
    "#result_df = pd.read_csv(os.path.join(path, 'result_72h_ed_revivist_disposition.csv'))\n",
    "result_df = pd.DataFrame(result_list_4, columns=['Model', 'auroc', 'ap', 'sensitivity', 'specificity', 'threshold', 'lower_auroc', 'upper_auroc', 'std_auroc', 'lower_ap', 'upper_ap', 'std_ap', 'lower_sensitivity', 'upper_sensitivity', 'std_sensitivity', 'lower_specificity', 'upper_specificity', 'std_specificity', 'runtime'])\n",
    "# result_df.to_csv(os.path.join(path, 'result_72h_ed_revivist_disposition.csv'), index=False)\n",
    "result_df = result_df.round(3)\n",
    "formatted_result_df = pd.DataFrame()\n",
    "formatted_result_df[['Model', 'Threshold']] = result_df[['Model', 'threshold']]\n",
    "formatted_result_df['AUROC'] = result_df['auroc'].astype(str) + ' (' + result_df['lower_auroc'].astype(str) + \\\n",
    "                               '-' + result_df['upper_auroc'].astype(str) + ')'\n",
    "formatted_result_df['AUPRC'] = result_df['ap'].astype(str) + ' (' + result_df['lower_ap'].astype(str) + \\\n",
    "                               '-' + result_df['upper_ap'].astype(str) + ')'\n",
    "formatted_result_df['Sensitivity'] = result_df['sensitivity'].astype(str) + ' (' + result_df['lower_sensitivity'].astype(str) + \\\n",
    "                                     '-' + result_df['upper_sensitivity'].astype(str) + ')'\n",
    "formatted_result_df['Specificity'] = result_df['specificity'].astype(str) + ' (' + result_df['lower_specificity'].astype(str) + \\\n",
    "                                     '-' + result_df['upper_specificity'].astype(str) + ')'\n",
    "formatted_result_df[['Runtime']] = result_df[['runtime']]\n",
    "# formatted_result_df.to_csv(os.path.join(path, 'task3.csv'), index=False)\n",
    "formatted_result_df"
   ]
  },
  {
   "cell_type": "code",
   "execution_count": null,
   "id": "e562248b",
   "metadata": {},
   "outputs": [],
   "source": []
  },
  {
   "cell_type": "code",
   "execution_count": null,
   "id": "ec6ee1b0",
   "metadata": {},
   "outputs": [],
   "source": []
  },
  {
   "cell_type": "code",
   "execution_count": null,
   "id": "d1db1890",
   "metadata": {},
   "outputs": [],
   "source": [
    "importance_df = pd.DataFrame(zip(variable, importances), columns=['Variable','Importance'])\n",
    "# importance_df.to_csv(os.path.join(path, 'importances_72h_ed_revisit_disposition.csv'))\n",
    "importance_df.sort_values(by='Importance', axis=0,ascending=False)"
   ]
  },
  {
   "cell_type": "markdown",
   "id": "72453973-f362-444b-8bf8-b27ef6fb2105",
   "metadata": {},
   "source": [
    "### Tuning parameter GB"
   ]
  },
  {
   "cell_type": "code",
   "execution_count": null,
   "id": "30d38b41-cf7e-421b-a7f7-b4d3307e43f1",
   "metadata": {},
   "outputs": [],
   "source": [
    "from ydata_profiling import ProfileReport\n",
    "import os\n",
    "import tensorflow as tf\n",
    "import pandas as pd\n",
    "import numpy as np\n",
    "import pickle\n",
    "from pprint import pprint\n",
    "from matplotlib import pyplot as plt\n",
    "from sklearn.preprocessing import LabelEncoder\n",
    "from tensorflow.keras import optimizers, metrics\n",
    "from tensorflow.keras.layers import Dense, LSTM\n",
    "from tensorflow.keras.layers import concatenate\n",
    "from tensorflow.keras.models import load_model\n",
    "from helpers6 import PlotROCCurve, get_lstm_data_gen\n",
    "# Load libraries\n",
    "import pandas as pd\n",
    "from sklearn.tree import DecisionTreeClassifier # Import Decision Tree Classifier\n",
    "from sklearn.model_selection import train_test_split # Import train_test_split function\n",
    "from sklearn import metrics #Import scikit-learn metrics module for accuracy calculation\n",
    "\n",
    "from sklearn.preprocessing import LabelEncoder, OneHotEncoder\n",
    "from sklearn.preprocessing import MinMaxScaler, RobustScaler\n",
    "from sklearn.model_selection import GridSearchCV, RandomizedSearchCV\n",
    "from sklearn.metrics import make_scorer, roc_auc_score,confusion_matrix, recall_score, f1_score, precision_score, average_precision_score\n",
    "from sklearn.linear_model import LogisticRegression\n",
    "from sklearn.ensemble import GradientBoostingClassifier, RandomForestClassifier"
   ]
  },
  {
   "cell_type": "markdown",
   "id": "c99bfaec-2963-48ec-9708-7940b3b55d66",
   "metadata": {},
   "source": [
    "- Importing the training and test datasets"
   ]
  },
  {
   "cell_type": "code",
   "execution_count": null,
   "id": "2022a571-631e-43b4-9588-62de6d5000fd",
   "metadata": {},
   "outputs": [],
   "source": [
    "output_path = '/Users/chenyiman/Documents/July23term/healthcareanalytics/Project/TASK3_DROP'\n",
    "path = output_path\n",
    "train = pd.read_csv((os.path.join(path, 'train_drop_v3.csv')))\n",
    "test = pd.read_csv((os.path.join(path, 'test_drop_v3.csv')))"
   ]
  },
  {
   "cell_type": "code",
   "execution_count": null,
   "id": "27d0c2b6-f01b-4cbf-a760-599668de5449",
   "metadata": {},
   "outputs": [],
   "source": [
    "pd.set_option('display.max_columns', 150) \n",
    "pd.set_option('display.max_rows', 100) \n",
    "train.head()"
   ]
  },
  {
   "cell_type": "code",
   "execution_count": null,
   "id": "f4b5660c-254a-49c3-bd81-e758522adc94",
   "metadata": {},
   "outputs": [],
   "source": [
    "train = train[(train['outcome_inhospital_mortality'] == 0) & (train['ed_death'] == 0)]\n",
    "test = test[(test['outcome_inhospital_mortality'] == 0) & (test['ed_death'] == 0)]\n"
   ]
  },
  {
   "cell_type": "markdown",
   "id": "99649ef7-91ac-4ef7-8b04-c61641eacd62",
   "metadata": {},
   "source": [
    "- Dropping features of high correlation"
   ]
  },
  {
   "cell_type": "code",
   "execution_count": null,
   "id": "be14e735-4fb4-4911-92ad-f1d0b515184d",
   "metadata": {},
   "outputs": [],
   "source": [
    "variable = [\"age\", \"gender\", \"intime_ed\", \"outtime_ed\", \n",
    "            #\"outcome_hospitalization\", \n",
    "            \"outcome_icu_transfer_12h\", \n",
    "            #\"outcome_critical\",\n",
    "            \n",
    "            \n",
    "            \"n_ed_30d\", \n",
    "            #\"n_ed_90d\", \"n_ed_365d\", \"n_hosp_30d\", \"n_hosp_90d\", \n",
    "            \"n_hosp_365d\", \"n_icu_30d\", \n",
    "            #\"n_icu_90d\", \"n_icu_365d\", \n",
    "            \"ed_los_hours\",\n",
    "            \"triage_temperature\",\n",
    "            #\"triage_pain\", \n",
    "            \"triage_acuity\", \n",
    "            #\"triage_heartrate\",\n",
    "            \"triage_resprate\",\"triage_o2sat\",\n",
    "            #\"triage_sbp\",'triage_MAP',\n",
    "            \"triage_dbp\",\n",
    "            \n",
    "            \"chiefcom_chest_pain\", \"chiefcom_abdominal_pain\", \"chiefcom_headache\", \n",
    "            \"chiefcom_shortness_of_breath\", \"chiefcom_back_pain\", \"chiefcom_cough\", \n",
    "            \"chiefcom_nausea_vomiting\", \"chiefcom_fever_chills\", \"chiefcom_syncope\",\n",
    "            \"chiefcom_dizziness\",\n",
    "            \n",
    "            \"cci_MI\", \n",
    "            #\"cci_CHF\", \n",
    "            \"cci_PVD\", \n",
    "            \"cci_Stroke\", \"cci_Dementia\", \"cci_Pulmonary\", \n",
    "            \"cci_Rheumatic\", \"cci_PUD\", \"cci_Liver1\", \n",
    "            #\"cci_DM1\", \n",
    "            \"cci_DM2\", \n",
    "            \"cci_Paralysis\",\n",
    "            #\"cci_Renal\", \"cci_Cancer1\",  \"cci_Cancer2\", \n",
    "            \"cci_HIV\",\"cci_Liver2\",\n",
    "            \n",
    "            \"eci_Arrhythmia\", \"eci_Valvular\", \"eci_PHTN\", \n",
    "            #\"eci_HTN1\", \"eci_HTN2\",  \n",
    "            #\"eci_CHF\",\n",
    "           #\"eci_PVD\", \"eci_Pulmonary\",\n",
    "            #\"eci_Paralysis\",\n",
    "            #\"eci_DM1\",\n",
    "            #\"eci_DM2\",\n",
    "            #\"eci_Renal\",\n",
    "            #\"eci_Liver\",\"eci_PUD\",\n",
    "            #\"eci_HIV\",\n",
    "            #\"eci_Tumor2\",\n",
    "            \"eci_Tumor1\",\n",
    "            \"eci_NeuroOther\", \"eci_Hypothyroid\", \"eci_Lymphoma\", \"eci_Coagulopathy\", \n",
    "            #\"eci_Rheumatic\",\n",
    "            \"eci_Obesity\", \"eci_WeightLoss\", \n",
    "            #\"eci_FluidsLytes\",\n",
    "            \"eci_BloodLoss\", \n",
    "            \"eci_Anemia\", \"eci_Alcohol\", \"eci_Drugs\", \"eci_Psychoses\", \"eci_Depression\",\n",
    "            \n",
    "            \"ed_temperature_last\", \"ed_heartrate_last\", \"ed_resprate_last\", \n",
    "            \"ed_o2sat_last\", \"ed_sbp_last\", \n",
    "            #\"ed_dbp_last\", \n",
    "            \"ed_pain_last\",\"n_med\"\n",
    "            #\"n_medrecon\",\n",
    "           \n",
    "#           'insurance_Medicaid', 'insurance_Medicare', 'insurance_Other',\n",
    "#             #'score_CCI', 'score_CART', 'score_REMS', \n",
    "            #'score_NEWS','score_NEWS2', 'score_MEWS'\n",
    "           ]\n",
    "\n",
    "outcome = \"outcome_ed_revisit_3d\"\n",
    "\n"
   ]
  },
  {
   "cell_type": "code",
   "execution_count": null,
   "id": "fdbc4949-ce17-4f8f-9981-eab3c1c679e6",
   "metadata": {},
   "outputs": [],
   "source": [
    "X_train = train[variable].copy()\n",
    "y_train = train[outcome].copy()\n",
    "X_test = test[variable].copy()\n",
    "y_test = test[outcome].copy()"
   ]
  },
  {
   "cell_type": "markdown",
   "id": "53e824e9-7b91-42fa-8f16-acbbc541d792",
   "metadata": {},
   "source": [
    "### General processing of dataset"
   ]
  },
  {
   "cell_type": "code",
   "execution_count": null,
   "id": "b0570595-561f-4d17-8f56-ae1d96d1bb39",
   "metadata": {},
   "outputs": [],
   "source": [
    "X_train_1 = X_train.copy()\n",
    "X_test_1 = X_test.copy()"
   ]
  },
  {
   "cell_type": "code",
   "execution_count": null,
   "id": "95e529a0-fdca-48bb-abb5-553006f1337f",
   "metadata": {},
   "outputs": [],
   "source": [
    "encoder = LabelEncoder()\n",
    "X_train_1['gender'] = encoder.fit_transform(X_train_1['gender'])\n",
    "X_test_1['gender'] = encoder.transform(X_test_1['gender'])\n",
    "\n",
    "#Formatting the timestamp\n",
    "X_train_1['intime_ed'] = pd.to_datetime(X_train_1['intime_ed'], format='%Y-%m-%d %H:%M:%S')\n",
    "X_test_1['intime_ed'] = pd.to_datetime(X_test_1['intime_ed'], format='%Y-%m-%d %H:%M:%S')\n",
    "\n",
    "X_train_1['intime_ed'] = pd.to_datetime(X_train_1['intime_ed']).dt.hour\n",
    "X_test_1['intime_ed'] = pd.to_datetime(X_test_1['intime_ed']).dt.hour\n",
    "\n",
    "X_train_1['outtime_ed'] = pd.to_datetime(X_train_1['outtime_ed']).dt.hour\n",
    "X_test_1['outtime_ed'] = pd.to_datetime(X_test_1['outtime_ed']).dt.hour\n"
   ]
  },
  {
   "cell_type": "code",
   "execution_count": null,
   "id": "a9dd3a63-d5e2-412f-9c5a-2877845eb290",
   "metadata": {},
   "outputs": [],
   "source": [
    "X_train_3 = X_train_1.copy()\n",
    "X_test_3 = X_test_1.copy()"
   ]
  },
  {
   "cell_type": "markdown",
   "id": "4956f552-dd8b-4544-a18b-2807660993ac",
   "metadata": {},
   "source": [
    "###  Feature Scaling of Numerical Variables"
   ]
  },
  {
   "cell_type": "code",
   "execution_count": null,
   "id": "6dfa15f1-df64-4d2e-9de9-5f11a7d29dc3",
   "metadata": {},
   "outputs": [],
   "source": [
    "# List the numerical variables which require scaling\n",
    "num_features = ['n_ed_30d', \n",
    "       'n_hosp_365d', 'n_icu_30d','ed_los_hours',\n",
    "       'triage_temperature', 'triage_resprate',\n",
    "       'triage_o2sat', 'triage_dbp','triage_acuity',\n",
    "        'ed_temperature_last','ed_heartrate_last', 'ed_resprate_last', 'ed_o2sat_last', 'ed_sbp_last',\n",
    "       'ed_pain_last', 'n_med']\n",
    "\n",
    "# instantiate MinMaxScaler to normalise the numeric fields\n",
    "minmax = MinMaxScaler()\n",
    "minmax.fit(X_train_3[num_features])\n",
    "\n",
    "# Feature scaling for train set\n",
    "feature_scaling_train = pd.DataFrame(minmax.transform(X_train_3[num_features]))\n",
    "feature_scaling_train.columns = num_features\n",
    "X_train_3 = X_train_3.drop(columns = num_features) # drop original columns\n",
    "X_train_3 = pd.concat([X_train_3.reset_index(drop=True), feature_scaling_train], axis='columns')\n",
    "\n",
    "\n",
    "\n",
    "# Feature scaling for test set\n",
    "feature_scaling_test = pd.DataFrame(minmax.transform(X_test_3[num_features]))\n",
    "feature_scaling_test.columns = num_features\n",
    "X_test_3 = X_test_3.drop(columns = num_features) # drop original columns\n",
    "X_test_3 = pd.concat([X_test_3.reset_index(drop=True), feature_scaling_test], axis='columns')\n"
   ]
  },
  {
   "cell_type": "code",
   "execution_count": null,
   "id": "f6a952a0-5ac1-48f2-86fb-65f9003bf253",
   "metadata": {},
   "outputs": [],
   "source": [
    "# Create Decision Tree classifer object\n",
    "clf = DecisionTreeClassifier()\n",
    "\n",
    "# Train Decision Tree Classifer\n",
    "clf = clf.fit(X_train_3,y_train)\n"
   ]
  },
  {
   "cell_type": "code",
   "execution_count": null,
   "id": "702a37f9-0a8b-4a21-8c53-ebcfd2ed2d7b",
   "metadata": {},
   "outputs": [],
   "source": [
    "FI_3 = clf.feature_importances_\n",
    "df_3 = pd.DataFrame({'Feature':X_train_3.columns,'Importances':FI_3}).sort_values(by = \"Importances\",ascending = False)\n",
    "\n",
    "plt.bar(df_3['Feature'],df_3['Importances'])\n",
    "plt.xticks(rotation=45, fontsize = 3)\n",
    "plt.show()"
   ]
  },
  {
   "cell_type": "code",
   "execution_count": null,
   "id": "41e8c7e7-3da2-40f0-80d4-1fe077e46ec3",
   "metadata": {},
   "outputs": [],
   "source": [
    "important_feature_3 = df_3.loc[df_3['Importances']>0.01]['Feature'].values\n",
    "\n",
    "X_train_3 = X_train_3[important_feature_3]\n",
    "X_test_3 = X_test_3[important_feature_3]\n",
    "\n",
    "print('class ratio')\n",
    "ratio = y_train.sum()/(~y_train).sum()\n",
    "print('positive : negative =', ratio, ': 1')"
   ]
  },
  {
   "cell_type": "code",
   "execution_count": null,
   "id": "5a2022e9-9e58-4e26-a951-2684bf98d974",
   "metadata": {},
   "outputs": [],
   "source": [
    "# Containers for all results\n",
    "result_list_1 = []\n",
    "result_list_2 = []\n",
    "result_list_3 = []\n",
    "result_list_4 = []\n",
    "result_list = []"
   ]
  },
  {
   "cell_type": "code",
   "execution_count": null,
   "id": "6aa26594-5dca-45f0-91d8-9aff6b6986b4",
   "metadata": {},
   "outputs": [],
   "source": [
    "import time\n",
    "confidence_interval = 95\n",
    "random_seed = 0"
   ]
  },
  {
   "cell_type": "markdown",
   "id": "0070e11e-99fd-4e2d-b403-25d75a5ef260",
   "metadata": {},
   "source": [
    "- GB for X_train"
   ]
  },
  {
   "cell_type": "code",
   "execution_count": null,
   "id": "222bbe45-8f00-4b78-80b8-9ec9ea1037a3",
   "metadata": {},
   "outputs": [],
   "source": [
    "import xgboost as xgb\n",
    "print(\"XGBoosting:\")\n",
    "xgb = xgb.XGBClassifier()\n",
    "start = time.time()\n",
    "xgb.fit(X_train_3, y_train)\n",
    "runtime = time.time()-start\n",
    "print('Training time:', runtime, 'seconds')\n",
    "probs = xgb.predict_proba(X_test_3)\n",
    "result = PlotROCCurve(probs[:,1],y_test, ci=confidence_interval, random_seed=random_seed)\n",
    "\n",
    "results = [\"XGB\"]\n",
    "results.extend(result)\n",
    "results.append(runtime)\n",
    "result_list.append(results)"
   ]
  },
  {
   "cell_type": "markdown",
   "id": "cb4ca7f5-b767-40e7-ba5d-ddd99cac2cf4",
   "metadata": {},
   "source": [
    "### Hyperparameter tuning"
   ]
  },
  {
   "cell_type": "markdown",
   "id": "c3a4305f-5c31-4633-b767-892347cb82f5",
   "metadata": {},
   "source": [
    "Hyper-parameters to tune:\n",
    "\n",
    "- learning_rate: [1, 0.5, 0.25, 0.1, 0.05, 0.01]\n",
    "- n_estimators: [1, 2, 4, 8, 16, 32, 64, 100, 200]\n",
    "- max_depth: np.linspace(1, 10, 10, endpoint=True)\n",
    "- min_samples_split: [2, 4, 8, 16, 32, 64, 128, 256, 512, 1024]\n",
    "- min_samples_leaf = [1, 2, 4, 8, 16, 32, 64, 128, 256, 512, 1024]\n",
    "- max_features = [5,10,15,20,25,50,100,None]\n",
    "\n",
    "<br>References: https://medium.com/all-things-ai/in-depth-parameter-tuning-for-gradient-boosting-3363992e9bae\n",
    "\n",
    "<br>Other References:\n",
    "- https://www.analyticsvidhya.com/blog/2016/02/complete-guide-parameter-tuning-gradient-boosting-gbm-python/\n",
    "- https://www.datasciencelearner.com/gradient-boosting-hyperparameters-tuning/"
   ]
  },
  {
   "cell_type": "code",
   "execution_count": null,
   "id": "3c775c01-bbc1-44dc-9167-b7e789f36277",
   "metadata": {},
   "outputs": [],
   "source": [
    "# Assign range of values for the hyperparameters\n",
    "\n",
    "# learning rate shrinks the contribution of each tree by learning_rate. \n",
    "# There is a trade-off between learning_rate and n_estimators.\n",
    "learning_rate = [1, 0.5, 0.25, 0.1, 0.05, 0.01]\n",
    "\n",
    "# n_estimators represents the number of trees in the forest. Usually the higher the number of trees the better to learn the data. \n",
    "# However, adding a lot of trees can slow down the training process considerably\n",
    "n_estimators = [1, 2, 4, 8, 16, 32, 64, 100, 200]\n",
    "\n",
    "#max_depth indicates how deep the built tree can be. \n",
    "#The deeper the tree, the more splits it has and it captures more information about how the data.\n",
    "max_depth = np.linspace(1, 10, 10, endpoint=True,dtype = int)\n",
    "\n",
    "\n",
    "# min_samples_split represents the minimum number of samples required to split an internal node\n",
    "# Here we will vary the parameter from 10% to 100% of the samples\n",
    "min_samples_split = [2, 4, 8, 16, 32, 64, 128, 256, 512, 1024]\n",
    "\n",
    "#min_samples_leaf is The minimum number of samples required to be at a leaf node. \n",
    "#This similar to min_samples_splits, however, this describe the minimum number of samples of samples at the leafs.\n",
    "min_samples_leaf = [1, 2, 4, 8, 16, 32, 64, 128, 256, 512, 1024]\n",
    "\n",
    "# max_features represents the number of features to consider when looking for the best split.\n",
    "max_features = [5,10,15,20,25,50,100,None]"
   ]
  },
  {
   "cell_type": "markdown",
   "id": "a411ffec-f3b4-4907-93a9-c92938d3aabe",
   "metadata": {},
   "source": [
    "#### Tuning: learnig_rate and n_estimators"
   ]
  },
  {
   "cell_type": "code",
   "execution_count": null,
   "id": "0011e5f3-9216-4282-ad76-39ca70a31601",
   "metadata": {},
   "outputs": [],
   "source": [
    "# Create the parameters for tuning\n",
    "param_grid = {'learning_rate': learning_rate,\n",
    "              'n_estimators': n_estimators}\n",
    "\n",
    "clf = GradientBoostingClassifier(random_state=1234)\n",
    "rand_search = RandomizedSearchCV(estimator=clf, param_distributions=param_grid, scoring='roc_auc', n_iter=50, n_jobs=-1, refit=True,cv=5, verbose =3)\n",
    "\n",
    "start = time.time()\n",
    "\n",
    "# Fit the grid search model\n",
    "rand_search.fit(X_train_3,y_train)\n",
    "\n",
    "runtime = time.time()-start\n",
    "\n",
    "print('Random Grid Search Tuning time:', runtime, 'seconds')\n",
    "\n",
    "rand_search_results = pd.DataFrame(rand_search.cv_results_)\n",
    "\n",
    "print('Best Score: ', rand_search.best_score_) \n",
    "print('Best Params: ', rand_search.best_params_)\n",
    "\n",
    "# Rename mean_test_score to mean_roc_auc\n",
    "rand_search_results[\"mean_roc_auc\"] = rand_search_results['mean_test_score']\n",
    "\n",
    "# For rearranging of columns\n",
    "columns = [f\"param_{name}\" for name in param_grid.keys()]\n",
    "columns += [\"mean_roc_auc\",\"rank_test_score\"]\n",
    "\n",
    "#Output results from Grid Search\n",
    "rand_search_results[columns].sort_values(by=\"rank_test_score\", ascending=True).reset_index(drop=True)"
   ]
  },
  {
   "cell_type": "code",
   "execution_count": null,
   "id": "ce2ab87e-5255-4b0b-8d18-a5131e1a710f",
   "metadata": {},
   "outputs": [],
   "source": [
    "# Replace tuned parameter(s) with best value\n",
    "learning_rate = [] \n",
    "learning_rate.append(rand_search.best_params_['learning_rate'])\n",
    "\n",
    "n_estimators = [] \n",
    "n_estimators.append(rand_search.best_params_['n_estimators'])\n",
    "\n",
    "learning_rate, n_estimators"
   ]
  },
  {
   "cell_type": "code",
   "execution_count": null,
   "id": "bf6ff34d-40ea-4e40-afe0-073e275496c8",
   "metadata": {},
   "outputs": [],
   "source": [
    "learning_rate = [0.1]\n",
    "n_estimators = [200]"
   ]
  },
  {
   "cell_type": "markdown",
   "id": "15380eb6-9367-4a14-b4f2-eb7dfb0da74a",
   "metadata": {},
   "source": [
    "#### Tuning: Max_Depth"
   ]
  },
  {
   "cell_type": "code",
   "execution_count": null,
   "id": "c816d77c-6f3c-47cc-a56f-913f024b2d58",
   "metadata": {},
   "outputs": [],
   "source": [
    "# Create the parameters for tuning\n",
    "param_grid = {'learning_rate': learning_rate,\n",
    "              'n_estimators': n_estimators,\n",
    "              'max_depth': max_depth}\n",
    "\n",
    "print(param_grid)\n",
    "\n",
    "clf = GradientBoostingClassifier(random_state=1234)\n",
    "# Instantiate the grid search model\n",
    "gb_grid = GridSearchCV(estimator = clf, param_grid = param_grid, \n",
    "                       scoring = 'f1', cv = 5, refit = True,\n",
    "                       n_jobs = -1, verbose = 3)\n",
    "\n",
    "start = time.time()\n",
    "\n",
    "# Fit the grid search model\n",
    "gb_grid.fit(X_train_3,y_train)\n",
    "\n",
    "runtime = time.time()-start\n",
    "\n",
    "print('Grid Search Tuning time:', runtime, 'seconds')\n",
    "\n",
    "gb_grid_results = pd.DataFrame(gb_grid.cv_results_)\n",
    "\n",
    "print('Best Score: ', gb_grid.best_score_) \n",
    "print('Best Params: ', gb_grid.best_params_)\n",
    "\n",
    "# Rename mean_test_score to mean_roc_auc\n",
    "gb_grid_results[\"mean_f1\"] = gb_grid_results['mean_test_score']\n",
    "\n",
    "# For rearranging of columns\n",
    "columns = [f\"param_{name}\" for name in param_grid.keys()]\n",
    "columns += [\"mean_f1\",\"rank_test_score\"]\n",
    "\n",
    "#Output results from Grid Search\n",
    "gb_grid_results[columns].sort_values(by=\"rank_test_score\", ascending=True).reset_index(drop=True)"
   ]
  },
  {
   "cell_type": "code",
   "execution_count": null,
   "id": "00d8ef5f-d49c-472d-900e-febd4343b54d",
   "metadata": {},
   "outputs": [],
   "source": [
    "# Replace tuned parameter(s) with best value\n",
    "max_depth = [] \n",
    "max_depth.append(gb_grid.best_params_['max_depth'])\n",
    "\n",
    "max_depth"
   ]
  },
  {
   "cell_type": "code",
   "execution_count": null,
   "id": "64079e97-d38a-4324-b632-a8cd1a3abf6c",
   "metadata": {},
   "outputs": [],
   "source": [
    "max_depth = [9]"
   ]
  },
  {
   "cell_type": "markdown",
   "id": "5823d359-767a-4d8e-aed7-2dc8f07d7f9e",
   "metadata": {},
   "source": [
    "#### Tuning: min_samples_split and min_samples_leaf using Random Grid Search"
   ]
  },
  {
   "cell_type": "code",
   "execution_count": null,
   "id": "75f878df-4a5c-44e4-8b99-dbb3c838b6f8",
   "metadata": {},
   "outputs": [],
   "source": [
    "# Create the parameters for tuning\n",
    "param_grid = {'learning_rate': learning_rate,\n",
    "              'n_estimators': n_estimators,\n",
    "              'max_depth': max_depth,\n",
    "              'min_samples_split': min_samples_split,\n",
    "              'min_samples_leaf': min_samples_leaf}\n",
    "\n",
    "print(param_grid)\n",
    "\n",
    "clf = GradientBoostingClassifier(random_state=1234)\n",
    "rand_search = RandomizedSearchCV(estimator=clf, param_distributions=param_grid, scoring='roc_auc', n_iter=50, n_jobs=-1, refit=True,cv=5, verbose =3)\n",
    "\n",
    "start = time.time()\n",
    "\n",
    "# Fit the grid search model\n",
    "rand_search.fit(X_train_3,y_train)\n",
    "\n",
    "runtime = time.time()-start\n",
    "\n",
    "print('Random Grid Search Tuning time:', runtime, 'seconds')\n",
    "\n",
    "rand_search_results = pd.DataFrame(rand_search.cv_results_)\n",
    "\n",
    "print('Best Score: ', rand_search.best_score_) \n",
    "print('Best Params: ', rand_search.best_params_)\n",
    "\n",
    "# Rename mean_test_score to mean_roc_auc\n",
    "rand_search_results[\"mean_roc_auc\"] = rand_search_results['mean_test_score']\n",
    "\n",
    "# For rearranging of columns\n",
    "columns = [f\"param_{name}\" for name in param_grid.keys()]\n",
    "columns += [\"mean_roc_auc\",\"rank_test_score\"]\n",
    "\n",
    "#Output results from Grid Search\n",
    "rand_search_results[columns].sort_values(by=\"rank_test_score\", ascending=True).reset_index(drop=True)"
   ]
  },
  {
   "cell_type": "code",
   "execution_count": null,
   "id": "50221a50-6442-41eb-863d-8a9819a2dde0",
   "metadata": {},
   "outputs": [],
   "source": [
    "# Replace tuned parameter(s) with best value\n",
    "min_samples_split = [] \n",
    "min_samples_split.append(rand_search.best_params_['min_samples_split'])\n",
    "\n",
    "min_samples_leaf = [] \n",
    "min_samples_leaf.append(rand_search.best_params_['min_samples_leaf'])\n",
    "\n",
    "min_samples_split, min_samples_leaf"
   ]
  },
  {
   "cell_type": "code",
   "execution_count": null,
   "id": "69ab4cc7-50b2-4d8f-a666-105ef1101749",
   "metadata": {},
   "outputs": [],
   "source": [
    "min_samples_split=[1024]\n",
    "min_samples_leaf=[8]"
   ]
  },
  {
   "cell_type": "markdown",
   "id": "c27578fe-fc52-47bd-a030-a29f2810b1ec",
   "metadata": {},
   "source": [
    "#### Tuning: max_features"
   ]
  },
  {
   "cell_type": "code",
   "execution_count": null,
   "id": "eed9ea1e-46c1-433a-bfce-57c462116b3a",
   "metadata": {},
   "outputs": [],
   "source": [
    "# Create the parameters for tuning\n",
    "param_grid = {'learning_rate': learning_rate,\n",
    "              'n_estimators': n_estimators,\n",
    "              'max_depth': max_depth,\n",
    "              'min_samples_split': min_samples_split,\n",
    "              'min_samples_leaf': min_samples_leaf,\n",
    "              'max_features': max_features}\n",
    "\n",
    "print(param_grid)\n",
    "\n",
    "clf = GradientBoostingClassifier(random_state=1234)\n",
    "# Instantiate the grid search model\n",
    "gb_grid = GridSearchCV(estimator = clf, param_grid = param_grid, \n",
    "                       scoring = 'roc_auc', cv = 5, refit = True,\n",
    "                       n_jobs = -1, verbose = 3)\n",
    "\n",
    "start = time.time()\n",
    "\n",
    "# Fit the grid search model\n",
    "gb_grid.fit(X_train_3,y_train)\n",
    "\n",
    "runtime = time.time()-start\n",
    "\n",
    "print('Grid Search Tuning time:', runtime, 'seconds')\n",
    "\n",
    "gb_grid_results = pd.DataFrame(gb_grid.cv_results_)\n",
    "\n",
    "print('Best Score: ', gb_grid.best_score_) \n",
    "print('Best Params: ', gb_grid.best_params_)\n",
    "\n",
    "# Rename mean_test_score to mean_roc_auc\n",
    "gb_grid_results[\"mean_roc_auc\"] = gb_grid_results['mean_test_score']\n",
    "\n",
    "# For rearranging of columns\n",
    "columns = [f\"param_{name}\" for name in param_grid.keys()]\n",
    "columns += [\"mean_roc_auc\",\"rank_test_score\"]\n",
    "\n",
    "#Output results from Grid Search\n",
    "gb_grid_results[columns].sort_values(by=\"rank_test_score\", ascending=True).reset_index(drop=True)"
   ]
  },
  {
   "cell_type": "code",
   "execution_count": null,
   "id": "7ad6e179-8a75-4c5d-9127-c36b9919480e",
   "metadata": {},
   "outputs": [],
   "source": [
    "# Replace tuned parameter(s) with best value\n",
    "max_features = [] \n",
    "max_features.append(gb_grid.best_params_['max_features'])\n",
    "\n",
    "max_features"
   ]
  },
  {
   "cell_type": "code",
   "execution_count": null,
   "id": "37d339d8-f5a9-4a00-bbe6-801dc0558f0b",
   "metadata": {},
   "outputs": [],
   "source": [
    "# Print hyperparameters used in the tuned model\n",
    "print('Parameters currently in use:\\n')\n",
    "pprint(gb_grid.best_params_)"
   ]
  },
  {
   "cell_type": "code",
   "execution_count": null,
   "id": "eb49133a-eaf8-4517-bcc4-423a5b0c086b",
   "metadata": {},
   "outputs": [],
   "source": [
    "# assign the best estimator to to log_reg_tuned\n",
    "gb_tuned = gb_grid.best_estimator_\n",
    "gb_tuned"
   ]
  },
  {
   "cell_type": "code",
   "execution_count": null,
   "id": "740b8652-1d17-45b4-8ea1-6f57352e6e6f",
   "metadata": {},
   "outputs": [],
   "source": [
    "# Save the tuned model\n",
    "pickle.dump(gb_tuned, open('gb_tuned.pkl','wb'))"
   ]
  },
  {
   "cell_type": "code",
   "execution_count": null,
   "id": "26b04c25-f589-4110-9d12-5f86f168912e",
   "metadata": {},
   "outputs": [],
   "source": [
    "# load the tuned model\n",
    "# gb_tuned = pickle.load(open('gb_tuned.pkl', 'rb'))"
   ]
  },
  {
   "cell_type": "code",
   "execution_count": null,
   "id": "d29444a4-cbfc-4140-bc6e-c22603858464",
   "metadata": {},
   "outputs": [],
   "source": [
    "# run the tuned GB model \n",
    "print(\"GradientBoosting:\")\n",
    "\n",
    "start = time.time()\n",
    "gb_tuned.fit(X_train_3,y_train)\n",
    "runtime = time.time()-start\n",
    "print('Training time:', runtime, 'seconds')\n",
    "probs_tuned = gb_tuned.predict_proba(X_test_3)\n",
    "result = PlotROCCurve(probs_tuned[:,1],y_test, ci=confidence_interval, random_seed=random_seed)\n",
    "\n",
    "results = [\"GB_tuned_with_MinMaxScaling\"]\n",
    "results.extend(result)\n",
    "results.append(runtime)\n",
    "result_list_gb.append(results)"
   ]
  },
  {
   "cell_type": "code",
   "execution_count": null,
   "id": "cf688c6d-71d4-4e27-ad81-afef31c919bc",
   "metadata": {},
   "outputs": [],
   "source": [
    "# Feature importance for GB model\n",
    "gb_feature_importance = pd.DataFrame(\n",
    "        {\n",
    "            'features': np.array(X_train_3.columns),    \n",
    "            'importance' : gb_tuned.feature_importances_\n",
    "            })\n",
    "\n",
    "# Check top 20 features\n",
    "gb_feature_importance.sort_values(by='importance',key=lambda x:abs(x),ascending=False)[:20]"
   ]
  },
  {
   "cell_type": "code",
   "execution_count": null,
   "id": "64526a9b-a6d7-4c14-a288-2c69106e780c",
   "metadata": {},
   "outputs": [],
   "source": [
    "# Plot feature importance bar chart\n",
    "\n",
    "sorted_feature_importance = gb_feature_importance.sort_values(by='importance',key=lambda x:abs(x),ascending=False)[:20].set_index('features')\n",
    "\n",
    "sorted_feature_importance.sort_values(by='importance',key=lambda x:abs(x)).plot.barh(figsize=(30, 20))\n",
    "plt.title(\"Gradient Boosted model, with tuning, normalized variables\", fontsize=30)\n",
    "plt.xlabel(\"Raw feature importance values\", fontsize=20)\n",
    "plt.ylabel('Feature',fontsize=20)\n",
    "plt.tick_params(axis='y', labelsize=20)\n",
    "plt.axvline(x=0, color=\".5\")\n",
    "plt.subplots_adjust(left=0.3)\n"
   ]
  }
 ],
 "metadata": {
  "kernelspec": {
   "display_name": "Python 3 (ipykernel)",
   "language": "python",
   "name": "python3"
  },
  "language_info": {
   "codemirror_mode": {
    "name": "ipython",
    "version": 3
   },
   "file_extension": ".py",
   "mimetype": "text/x-python",
   "name": "python",
   "nbconvert_exporter": "python",
   "pygments_lexer": "ipython3",
   "version": "3.11.3"
  }
 },
 "nbformat": 4,
 "nbformat_minor": 5
}
