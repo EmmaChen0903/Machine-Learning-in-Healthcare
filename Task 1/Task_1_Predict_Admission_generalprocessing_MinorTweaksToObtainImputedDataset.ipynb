{
 "cells": [
  {
   "cell_type": "markdown",
   "metadata": {},
   "source": [
    "## Pre-processing for healthcare analytics"
   ]
  },
  {
   "cell_type": "markdown",
   "metadata": {},
   "source": [
    "### Load Libraries"
   ]
  },
  {
   "cell_type": "code",
   "execution_count": 1,
   "metadata": {},
   "outputs": [],
   "source": [
    "import pandas as pd\n",
    "import os\n",
    "from helpers6 import *\n",
    "from past_icu_count import *\n",
    "from sklearn.impute import SimpleImputer"
   ]
  },
  {
   "cell_type": "markdown",
   "metadata": {},
   "source": [
    "### Load dataset"
   ]
  },
  {
   "cell_type": "code",
   "execution_count": 2,
   "metadata": {},
   "outputs": [
    {
     "data": {
      "text/plain": [
       "(448972, 120)"
      ]
     },
     "execution_count": 2,
     "metadata": {},
     "output_type": "execute_result"
    }
   ],
   "source": [
    "#Just place the dataset in the same folder as the notebook\n",
    "df = pd.read_csv('C:\\\\Users\\\\kkb74\\\\Documents\\\\SMU Study\\\\ISSS623 - HealthCare Analytics\\\\Project\\\\Group Project Data\\master_dataset_2.csv')\n",
    "df.shape"
   ]
  },
  {
   "cell_type": "markdown",
   "metadata": {},
   "source": [
    "### General Preprocessing"
   ]
  },
  {
   "cell_type": "markdown",
   "metadata": {},
   "source": [
    "#### Filter out missing age and gender records"
   ]
  },
  {
   "cell_type": "code",
   "execution_count": 3,
   "metadata": {},
   "outputs": [
    {
     "data": {
      "text/plain": [
       "(448135, 120)"
      ]
     },
     "execution_count": 3,
     "metadata": {},
     "output_type": "execute_result"
    }
   ],
   "source": [
    "# filter age or gender is NaN (837 records)\n",
    "df = df[~df['age'].isna()]\n",
    "df = df[~df['gender'].isna()]\n",
    "df.shape"
   ]
  },
  {
   "cell_type": "markdown",
   "metadata": {},
   "source": [
    "#### Filter out missing acuity (disabled on requested by YX)"
   ]
  },
  {
   "cell_type": "code",
   "execution_count": 4,
   "metadata": {},
   "outputs": [
    {
     "data": {
      "text/plain": [
       "(440786, 120)"
      ]
     },
     "execution_count": 4,
     "metadata": {},
     "output_type": "execute_result"
    }
   ],
   "source": [
    "# # filter out triage_acuity with null values\n",
    "df = df[df['triage_acuity'].notnull()]\n",
    "df.shape"
   ]
  },
  {
   "cell_type": "markdown",
   "metadata": {},
   "source": [
    "#### Corrections to past 30/90/365d ICU stays from ED"
   ]
  },
  {
   "cell_type": "code",
   "execution_count": 5,
   "metadata": {},
   "outputs": [
    {
     "name": "stderr",
     "output_type": "stream",
     "text": [
      "C:\\Users\\kkb74\\Documents\\SMU Study\\ISSS623 - HealthCare Analytics\\Project\\Project Notebooks\\past_icu_count.py:12: SettingWithCopyWarning: \n",
      "A value is trying to be set on a copy of a slice from a DataFrame.\n",
      "Try using .loc[row_indexer,col_indexer] = value instead\n",
      "\n",
      "See the caveats in the documentation: https://pandas.pydata.org/pandas-docs/stable/user_guide/indexing.html#returning-a-view-versus-a-copy\n",
      "  df_icu.intime_ed = pd.to_datetime(df_icu.intime_ed) # convert intime to datetime type\n",
      "C:\\Users\\kkb74\\Documents\\SMU Study\\ISSS623 - HealthCare Analytics\\Project\\Project Notebooks\\past_icu_count.py:13: SettingWithCopyWarning: \n",
      "A value is trying to be set on a copy of a slice from a DataFrame.\n",
      "Try using .loc[row_indexer,col_indexer] = value instead\n",
      "\n",
      "See the caveats in the documentation: https://pandas.pydata.org/pandas-docs/stable/user_guide/indexing.html#returning-a-view-versus-a-copy\n",
      "  df_icu.intime_icu = pd.to_datetime(df_icu.intime_icu) # convert intime to datetime type\n",
      "C:\\Users\\kkb74\\Documents\\SMU Study\\ISSS623 - HealthCare Analytics\\Project\\Project Notebooks\\past_icu_count.py:12: SettingWithCopyWarning: \n",
      "A value is trying to be set on a copy of a slice from a DataFrame.\n",
      "Try using .loc[row_indexer,col_indexer] = value instead\n",
      "\n",
      "See the caveats in the documentation: https://pandas.pydata.org/pandas-docs/stable/user_guide/indexing.html#returning-a-view-versus-a-copy\n",
      "  df_icu.intime_ed = pd.to_datetime(df_icu.intime_ed) # convert intime to datetime type\n",
      "C:\\Users\\kkb74\\Documents\\SMU Study\\ISSS623 - HealthCare Analytics\\Project\\Project Notebooks\\past_icu_count.py:13: SettingWithCopyWarning: \n",
      "A value is trying to be set on a copy of a slice from a DataFrame.\n",
      "Try using .loc[row_indexer,col_indexer] = value instead\n",
      "\n",
      "See the caveats in the documentation: https://pandas.pydata.org/pandas-docs/stable/user_guide/indexing.html#returning-a-view-versus-a-copy\n",
      "  df_icu.intime_icu = pd.to_datetime(df_icu.intime_icu) # convert intime to datetime type\n",
      "C:\\Users\\kkb74\\Documents\\SMU Study\\ISSS623 - HealthCare Analytics\\Project\\Project Notebooks\\past_icu_count.py:12: SettingWithCopyWarning: \n",
      "A value is trying to be set on a copy of a slice from a DataFrame.\n",
      "Try using .loc[row_indexer,col_indexer] = value instead\n",
      "\n",
      "See the caveats in the documentation: https://pandas.pydata.org/pandas-docs/stable/user_guide/indexing.html#returning-a-view-versus-a-copy\n",
      "  df_icu.intime_ed = pd.to_datetime(df_icu.intime_ed) # convert intime to datetime type\n",
      "C:\\Users\\kkb74\\Documents\\SMU Study\\ISSS623 - HealthCare Analytics\\Project\\Project Notebooks\\past_icu_count.py:13: SettingWithCopyWarning: \n",
      "A value is trying to be set on a copy of a slice from a DataFrame.\n",
      "Try using .loc[row_indexer,col_indexer] = value instead\n",
      "\n",
      "See the caveats in the documentation: https://pandas.pydata.org/pandas-docs/stable/user_guide/indexing.html#returning-a-view-versus-a-copy\n",
      "  df_icu.intime_icu = pd.to_datetime(df_icu.intime_icu) # convert intime to datetime type\n"
     ]
    },
    {
     "data": {
      "text/plain": [
       "(440786, 120)"
      ]
     },
     "execution_count": 5,
     "metadata": {},
     "output_type": "execute_result"
    }
   ],
   "source": [
    "df = count_n_days(df, 30)\n",
    "df = count_n_days(df, 90)\n",
    "df = count_n_days(df, 365)\n",
    "df.shape\n",
    "# no more duplicates found in this version, past ICU stays mapped using index (unique)"
   ]
  },
  {
   "cell_type": "markdown",
   "metadata": {},
   "source": [
    "#### Filter out patients who died before entering ed"
   ]
  },
  {
   "cell_type": "code",
   "execution_count": 6,
   "metadata": {},
   "outputs": [
    {
     "data": {
      "text/plain": [
       "(440776, 120)"
      ]
     },
     "execution_count": 6,
     "metadata": {},
     "output_type": "execute_result"
    }
   ],
   "source": [
    "# filter out rows where before_ed_mortality is 1 (18 records)\n",
    "df = df[df['before_ed_mortality'] != 1]\n",
    "df.shape"
   ]
  },
  {
   "cell_type": "markdown",
   "metadata": {},
   "source": [
    "#### Filter out patients who died during ed"
   ]
  },
  {
   "cell_type": "code",
   "execution_count": 7,
   "metadata": {},
   "outputs": [
    {
     "data": {
      "text/plain": [
       "(440775, 120)"
      ]
     },
     "execution_count": 7,
     "metadata": {},
     "output_type": "execute_result"
    }
   ],
   "source": [
    "# filter out rows where ed_death is 1 (2 records)\n",
    "df = df[df['ed_death'] != 1]\n",
    "df.shape"
   ]
  },
  {
   "cell_type": "markdown",
   "metadata": {},
   "source": [
    "#### Drop duplicate hospital entries on different ed entries"
   ]
  },
  {
   "cell_type": "code",
   "execution_count": 8,
   "metadata": {},
   "outputs": [
    {
     "name": "stdout",
     "output_type": "stream",
     "text": [
      "(232131, 120) \n",
      " (208644, 120) \n",
      " (208081, 120) \n",
      " (440212, 120)\n"
     ]
    }
   ],
   "source": [
    "# filter rows where 'hadm_id' is null\n",
    "df_null = df[df['hadm_id'].isnull()]\n",
    "\n",
    "# filter rows where 'hadm_id' is not null\n",
    "df_not_null = df[df['hadm_id'].notnull()]\n",
    "\n",
    "# Use drop_duplicates to keep the latest occurrence of each 'hadm_id'\n",
    "df_result = df_not_null.drop_duplicates(subset=['hadm_id'], keep='last')\n",
    "\n",
    "# Combine the original DataFrame with df_not_null and the duplicates-filtered DataFrame\n",
    "df = pd.concat([df_null, df_result], ignore_index=True)\n",
    "\n",
    "print(df_null.shape, \"\\n\", df_not_null.shape, \"\\n\", df_result.shape, \"\\n\", df.shape)"
   ]
  },
  {
   "cell_type": "markdown",
   "metadata": {},
   "source": [
    "#### Drop errorneous entries for time_to_icu_transfer_hours"
   ]
  },
  {
   "cell_type": "code",
   "execution_count": 9,
   "metadata": {},
   "outputs": [
    {
     "data": {
      "text/plain": [
       "(440202, 120)"
      ]
     },
     "execution_count": 9,
     "metadata": {},
     "output_type": "execute_result"
    }
   ],
   "source": [
    "# filter rows where 'time_to_icu_transfer_hours' is null\n",
    "df_null = df[df['time_to_icu_transfer_hours'].isnull()]\n",
    "\n",
    "# filter rows where 'time_to_icu_transfer_hours' is not null\n",
    "df_not_null = df[df['time_to_icu_transfer_hours'].notnull()]\n",
    "\n",
    "# Filter the DataFrame where time_to_icu_transfer_hours >= -24\n",
    "df_result = df_not_null[df_not_null['time_to_icu_transfer_hours'] >= -24]\n",
    "\n",
    "# Combine the original DataFrame with df_not_null and the duplicates-filtered DataFrame\n",
    "df = pd.concat([df_null, df_result], ignore_index=True)\n",
    "\n",
    "df.shape\n"
   ]
  },
  {
   "cell_type": "markdown",
   "metadata": {},
   "source": [
    "#### Drop errorneous entries for difference between 'admittime' and 'intime_ed'"
   ]
  },
  {
   "cell_type": "code",
   "execution_count": 10,
   "metadata": {},
   "outputs": [
    {
     "data": {
      "text/plain": [
       "(440144, 120)"
      ]
     },
     "execution_count": 10,
     "metadata": {},
     "output_type": "execute_result"
    }
   ],
   "source": [
    "# Convert 'admittime' and 'intime_ed' to datetime format\n",
    "df['admittime'] = pd.to_datetime(df['admittime'])\n",
    "df['intime_ed'] = pd.to_datetime(df['intime_ed'])\n",
    "\n",
    "# filter rows where 'admittime' or 'admittime' is null\n",
    "df_null = df[df['admittime'].isnull() | df['intime_ed'].isnull()]\n",
    "\n",
    "# filter rows where 'admittime' or 'admittime' is not null\n",
    "df_not_null = df[df['admittime'].notnull() & df['intime_ed'].notnull()]\n",
    "\n",
    "# Filter rows where the difference between 'admittime' and 'intime_ed' >= -1 hour\n",
    "df_result = df_not_null[(df_not_null['admittime'] - df_not_null['intime_ed']).dt.total_seconds() > (-3600*24)]\n",
    "\n",
    "# Combine the original DataFrame with df_not_null and the duplicates-filtered DataFrame\n",
    "df = pd.concat([df_null, df_result], ignore_index=True)\n",
    "\n",
    "df.shape"
   ]
  },
  {
   "cell_type": "markdown",
   "metadata": {},
   "source": [
    "#### Drop Features that are not used"
   ]
  },
  {
   "cell_type": "code",
   "execution_count": 11,
   "metadata": {},
   "outputs": [
    {
     "data": {
      "text/plain": [
       "(440144, 96)"
      ]
     },
     "execution_count": 11,
     "metadata": {},
     "output_type": "execute_result"
    }
   ],
   "source": [
    "# drop features deemeed unnecessary\n",
    "df = df.drop(['index', 'subject_id', 'hadm_id', 'stay_id', 'anchor_age', 'anchor_year', 'dod',\n",
    "              'admittime', 'dischtime', 'deathtime', 'race', 'edregtime', 'edouttime', 'in_year',\n",
    "              'before_ed_mortality', 'ed_los', 'intime_icu', 'outtime_icu', 'time_to_icu_transfer', 'time_to_icu_transfer_hours',\n",
    "              'next_ed_visit_time', 'next_ed_visit_time_diff', 'next_ed_visit_time_diff_days', 'chiefcomplaint'], axis=1)\n",
    "\n",
    "df.shape"
   ]
  },
  {
   "cell_type": "markdown",
   "metadata": {},
   "source": [
    "### 2. Outlier Detection"
   ]
  },
  {
   "cell_type": "code",
   "execution_count": 12,
   "metadata": {},
   "outputs": [],
   "source": [
    "# from mimic-extract\n",
    "vitals_valid_range = {\n",
    "    'temperature': {'outlier_low': 14.2, 'valid_low': 26, 'valid_high': 45, 'outlier_high':47},\n",
    "    'heartrate': {'outlier_low': 0, 'valid_low': 0, 'valid_high': 350, 'outlier_high':390},\n",
    "    'resprate': {'outlier_low': 0, 'valid_low': 0, 'valid_high': 300, 'outlier_high':330},\n",
    "    'o2sat': {'outlier_low': 0, 'valid_low': 0, 'valid_high': 100, 'outlier_high':150},\n",
    "    'sbp': {'outlier_low': 0, 'valid_low': 0, 'valid_high': 375, 'outlier_high':375},\n",
    "    'dbp': {'outlier_low': 0, 'valid_low': 0, 'valid_high': 375, 'outlier_high':375},\n",
    "    'pain': {'outlier_low': 0, 'valid_low': 0, 'valid_high': 10, 'outlier_high':10},\n",
    "    'acuity': {'outlier_low': 1, 'valid_low': 1, 'valid_high': 5, 'outlier_high':5},\n",
    "}"
   ]
  },
  {
   "cell_type": "code",
   "execution_count": 13,
   "metadata": {},
   "outputs": [],
   "source": [
    "df = convert_temp_to_celcius(df)"
   ]
  },
  {
   "cell_type": "code",
   "execution_count": 14,
   "metadata": {},
   "outputs": [
    {
     "name": "stderr",
     "output_type": "stream",
     "text": [
      "C:\\Users\\kkb74\\Documents\\SMU Study\\ISSS623 - HealthCare Analytics\\Project\\Project Notebooks\\helpers6.py:446: FutureWarning: The frame.append method is deprecated and will be removed from pandas in a future version. Use pandas.concat instead.\n",
      "  display_df = display_df.append({'variable': column,\n",
      "C:\\Users\\kkb74\\Documents\\SMU Study\\ISSS623 - HealthCare Analytics\\Project\\Project Notebooks\\helpers6.py:446: FutureWarning: The frame.append method is deprecated and will be removed from pandas in a future version. Use pandas.concat instead.\n",
      "  display_df = display_df.append({'variable': column,\n",
      "C:\\Users\\kkb74\\Documents\\SMU Study\\ISSS623 - HealthCare Analytics\\Project\\Project Notebooks\\helpers6.py:446: FutureWarning: The frame.append method is deprecated and will be removed from pandas in a future version. Use pandas.concat instead.\n",
      "  display_df = display_df.append({'variable': column,\n",
      "C:\\Users\\kkb74\\Documents\\SMU Study\\ISSS623 - HealthCare Analytics\\Project\\Project Notebooks\\helpers6.py:446: FutureWarning: The frame.append method is deprecated and will be removed from pandas in a future version. Use pandas.concat instead.\n",
      "  display_df = display_df.append({'variable': column,\n",
      "C:\\Users\\kkb74\\Documents\\SMU Study\\ISSS623 - HealthCare Analytics\\Project\\Project Notebooks\\helpers6.py:446: FutureWarning: The frame.append method is deprecated and will be removed from pandas in a future version. Use pandas.concat instead.\n",
      "  display_df = display_df.append({'variable': column,\n",
      "C:\\Users\\kkb74\\Documents\\SMU Study\\ISSS623 - HealthCare Analytics\\Project\\Project Notebooks\\helpers6.py:446: FutureWarning: The frame.append method is deprecated and will be removed from pandas in a future version. Use pandas.concat instead.\n",
      "  display_df = display_df.append({'variable': column,\n",
      "C:\\Users\\kkb74\\Documents\\SMU Study\\ISSS623 - HealthCare Analytics\\Project\\Project Notebooks\\helpers6.py:446: FutureWarning: The frame.append method is deprecated and will be removed from pandas in a future version. Use pandas.concat instead.\n",
      "  display_df = display_df.append({'variable': column,\n",
      "C:\\Users\\kkb74\\Documents\\SMU Study\\ISSS623 - HealthCare Analytics\\Project\\Project Notebooks\\helpers6.py:446: FutureWarning: The frame.append method is deprecated and will be removed from pandas in a future version. Use pandas.concat instead.\n",
      "  display_df = display_df.append({'variable': column,\n",
      "C:\\Users\\kkb74\\Documents\\SMU Study\\ISSS623 - HealthCare Analytics\\Project\\Project Notebooks\\helpers6.py:446: FutureWarning: The frame.append method is deprecated and will be removed from pandas in a future version. Use pandas.concat instead.\n",
      "  display_df = display_df.append({'variable': column,\n",
      "C:\\Users\\kkb74\\Documents\\SMU Study\\ISSS623 - HealthCare Analytics\\Project\\Project Notebooks\\helpers6.py:446: FutureWarning: The frame.append method is deprecated and will be removed from pandas in a future version. Use pandas.concat instead.\n",
      "  display_df = display_df.append({'variable': column,\n",
      "C:\\Users\\kkb74\\Documents\\SMU Study\\ISSS623 - HealthCare Analytics\\Project\\Project Notebooks\\helpers6.py:446: FutureWarning: The frame.append method is deprecated and will be removed from pandas in a future version. Use pandas.concat instead.\n",
      "  display_df = display_df.append({'variable': column,\n",
      "C:\\Users\\kkb74\\Documents\\SMU Study\\ISSS623 - HealthCare Analytics\\Project\\Project Notebooks\\helpers6.py:446: FutureWarning: The frame.append method is deprecated and will be removed from pandas in a future version. Use pandas.concat instead.\n",
      "  display_df = display_df.append({'variable': column,\n",
      "C:\\Users\\kkb74\\Documents\\SMU Study\\ISSS623 - HealthCare Analytics\\Project\\Project Notebooks\\helpers6.py:446: FutureWarning: The frame.append method is deprecated and will be removed from pandas in a future version. Use pandas.concat instead.\n",
      "  display_df = display_df.append({'variable': column,\n",
      "C:\\Users\\kkb74\\Documents\\SMU Study\\ISSS623 - HealthCare Analytics\\Project\\Project Notebooks\\helpers6.py:446: FutureWarning: The frame.append method is deprecated and will be removed from pandas in a future version. Use pandas.concat instead.\n",
      "  display_df = display_df.append({'variable': column,\n",
      "C:\\Users\\kkb74\\Documents\\SMU Study\\ISSS623 - HealthCare Analytics\\Project\\Project Notebooks\\helpers6.py:446: FutureWarning: The frame.append method is deprecated and will be removed from pandas in a future version. Use pandas.concat instead.\n",
      "  display_df = display_df.append({'variable': column,\n"
     ]
    },
    {
     "data": {
      "text/html": [
       "<div>\n",
       "<style scoped>\n",
       "    .dataframe tbody tr th:only-of-type {\n",
       "        vertical-align: middle;\n",
       "    }\n",
       "\n",
       "    .dataframe tbody tr th {\n",
       "        vertical-align: top;\n",
       "    }\n",
       "\n",
       "    .dataframe thead th {\n",
       "        text-align: right;\n",
       "    }\n",
       "</style>\n",
       "<table border=\"1\" class=\"dataframe\">\n",
       "  <thead>\n",
       "    <tr style=\"text-align: right;\">\n",
       "      <th></th>\n",
       "      <th>variable</th>\n",
       "      <th>&lt; outlier_low</th>\n",
       "      <th>[outlier_low, valid_low)</th>\n",
       "      <th>[valid_low, valid_high]</th>\n",
       "      <th>(valid_high, outlier_high]</th>\n",
       "      <th>&gt; outlier_high</th>\n",
       "    </tr>\n",
       "  </thead>\n",
       "  <tbody>\n",
       "    <tr>\n",
       "      <th>0</th>\n",
       "      <td>triage_temperature</td>\n",
       "      <td>512</td>\n",
       "      <td>29</td>\n",
       "      <td>422137</td>\n",
       "      <td>0</td>\n",
       "      <td>10</td>\n",
       "    </tr>\n",
       "    <tr>\n",
       "      <th>1</th>\n",
       "      <td>triage_heartrate</td>\n",
       "      <td>0</td>\n",
       "      <td>0</td>\n",
       "      <td>429299</td>\n",
       "      <td>0</td>\n",
       "      <td>7</td>\n",
       "    </tr>\n",
       "    <tr>\n",
       "      <th>2</th>\n",
       "      <td>triage_resprate</td>\n",
       "      <td>0</td>\n",
       "      <td>0</td>\n",
       "      <td>425891</td>\n",
       "      <td>0</td>\n",
       "      <td>4</td>\n",
       "    </tr>\n",
       "    <tr>\n",
       "      <th>3</th>\n",
       "      <td>triage_o2sat</td>\n",
       "      <td>0</td>\n",
       "      <td>0</td>\n",
       "      <td>425571</td>\n",
       "      <td>6</td>\n",
       "      <td>43</td>\n",
       "    </tr>\n",
       "    <tr>\n",
       "      <th>4</th>\n",
       "      <td>triage_sbp</td>\n",
       "      <td>0</td>\n",
       "      <td>0</td>\n",
       "      <td>428025</td>\n",
       "      <td>0</td>\n",
       "      <td>19</td>\n",
       "    </tr>\n",
       "    <tr>\n",
       "      <th>5</th>\n",
       "      <td>triage_dbp</td>\n",
       "      <td>0</td>\n",
       "      <td>0</td>\n",
       "      <td>426782</td>\n",
       "      <td>0</td>\n",
       "      <td>421</td>\n",
       "    </tr>\n",
       "    <tr>\n",
       "      <th>6</th>\n",
       "      <td>triage_pain</td>\n",
       "      <td>2</td>\n",
       "      <td>0</td>\n",
       "      <td>405635</td>\n",
       "      <td>0</td>\n",
       "      <td>11823</td>\n",
       "    </tr>\n",
       "    <tr>\n",
       "      <th>7</th>\n",
       "      <td>triage_acuity</td>\n",
       "      <td>0</td>\n",
       "      <td>0</td>\n",
       "      <td>440144</td>\n",
       "      <td>0</td>\n",
       "      <td>0</td>\n",
       "    </tr>\n",
       "    <tr>\n",
       "      <th>8</th>\n",
       "      <td>ed_temperature_last</td>\n",
       "      <td>670</td>\n",
       "      <td>43</td>\n",
       "      <td>416157</td>\n",
       "      <td>1</td>\n",
       "      <td>48</td>\n",
       "    </tr>\n",
       "    <tr>\n",
       "      <th>9</th>\n",
       "      <td>ed_heartrate_last</td>\n",
       "      <td>0</td>\n",
       "      <td>0</td>\n",
       "      <td>424571</td>\n",
       "      <td>0</td>\n",
       "      <td>0</td>\n",
       "    </tr>\n",
       "    <tr>\n",
       "      <th>10</th>\n",
       "      <td>ed_resprate_last</td>\n",
       "      <td>0</td>\n",
       "      <td>0</td>\n",
       "      <td>424068</td>\n",
       "      <td>0</td>\n",
       "      <td>0</td>\n",
       "    </tr>\n",
       "    <tr>\n",
       "      <th>11</th>\n",
       "      <td>ed_o2sat_last</td>\n",
       "      <td>0</td>\n",
       "      <td>0</td>\n",
       "      <td>413401</td>\n",
       "      <td>0</td>\n",
       "      <td>11</td>\n",
       "    </tr>\n",
       "    <tr>\n",
       "      <th>12</th>\n",
       "      <td>ed_sbp_last</td>\n",
       "      <td>0</td>\n",
       "      <td>0</td>\n",
       "      <td>424333</td>\n",
       "      <td>0</td>\n",
       "      <td>1</td>\n",
       "    </tr>\n",
       "    <tr>\n",
       "      <th>13</th>\n",
       "      <td>ed_dbp_last</td>\n",
       "      <td>0</td>\n",
       "      <td>0</td>\n",
       "      <td>424060</td>\n",
       "      <td>0</td>\n",
       "      <td>274</td>\n",
       "    </tr>\n",
       "    <tr>\n",
       "      <th>14</th>\n",
       "      <td>ed_pain_last</td>\n",
       "      <td>0</td>\n",
       "      <td>0</td>\n",
       "      <td>392951</td>\n",
       "      <td>0</td>\n",
       "      <td>16</td>\n",
       "    </tr>\n",
       "  </tbody>\n",
       "</table>\n",
       "</div>"
      ],
      "text/plain": [
       "               variable < outlier_low [outlier_low, valid_low)  \\\n",
       "0    triage_temperature           512                       29   \n",
       "1      triage_heartrate             0                        0   \n",
       "2       triage_resprate             0                        0   \n",
       "3          triage_o2sat             0                        0   \n",
       "4            triage_sbp             0                        0   \n",
       "5            triage_dbp             0                        0   \n",
       "6           triage_pain             2                        0   \n",
       "7         triage_acuity             0                        0   \n",
       "8   ed_temperature_last           670                       43   \n",
       "9     ed_heartrate_last             0                        0   \n",
       "10     ed_resprate_last             0                        0   \n",
       "11        ed_o2sat_last             0                        0   \n",
       "12          ed_sbp_last             0                        0   \n",
       "13          ed_dbp_last             0                        0   \n",
       "14         ed_pain_last             0                        0   \n",
       "\n",
       "   [valid_low, valid_high] (valid_high, outlier_high] > outlier_high  \n",
       "0                   422137                          0             10  \n",
       "1                   429299                          0              7  \n",
       "2                   425891                          0              4  \n",
       "3                   425571                          6             43  \n",
       "4                   428025                          0             19  \n",
       "5                   426782                          0            421  \n",
       "6                   405635                          0          11823  \n",
       "7                   440144                          0              0  \n",
       "8                   416157                          1             48  \n",
       "9                   424571                          0              0  \n",
       "10                  424068                          0              0  \n",
       "11                  413401                          0             11  \n",
       "12                  424333                          0              1  \n",
       "13                  424060                          0            274  \n",
       "14                  392951                          0             16  "
      ]
     },
     "execution_count": 14,
     "metadata": {},
     "output_type": "execute_result"
    }
   ],
   "source": [
    "display_outliers_count(df, vitals_valid_range)"
   ]
  },
  {
   "cell_type": "code",
   "execution_count": 15,
   "metadata": {},
   "outputs": [
    {
     "data": {
      "text/plain": [
       "(440144, 96)"
      ]
     },
     "execution_count": 15,
     "metadata": {},
     "output_type": "execute_result"
    }
   ],
   "source": [
    "df.shape"
   ]
  },
  {
   "cell_type": "code",
   "execution_count": 16,
   "metadata": {},
   "outputs": [
    {
     "data": {
      "text/plain": [
       "insurance              232285\n",
       "triage_temperature      17456\n",
       "triage_heartrate        10838\n",
       "triage_resprate         14249\n",
       "triage_o2sat            14524\n",
       "triage_sbp              12100\n",
       "triage_dbp              12941\n",
       "triage_pain             22684\n",
       "ed_temperature_last     23225\n",
       "ed_heartrate_last       15573\n",
       "ed_resprate_last        16076\n",
       "ed_o2sat_last           26732\n",
       "ed_sbp_last             15810\n",
       "ed_dbp_last             15810\n",
       "ed_pain_last            47177\n",
       "dtype: int64"
      ]
     },
     "execution_count": 16,
     "metadata": {},
     "output_type": "execute_result"
    }
   ],
   "source": [
    "df.isna().sum()[df.isna().sum() > 0]"
   ]
  },
  {
   "cell_type": "code",
   "execution_count": 17,
   "metadata": {},
   "outputs": [
    {
     "data": {
      "text/plain": [
       "(440144, 96)"
      ]
     },
     "execution_count": 17,
     "metadata": {},
     "output_type": "execute_result"
    }
   ],
   "source": [
    "df = remove_outliers(df, vitals_valid_range)\n",
    "# what this really does is to transform values between valid low and outlier low to valid low,\n",
    "# and values between valid high and outlier high to valid high\n",
    "# anything beyond outlier low and outlier high will be set to NaN\n",
    "# however the code later imputes NaN with median. i have some concerns with this and would prefer to drop the rows with NaN\n",
    "# (it's approximately 12k rows only anyway)\n",
    "df.shape"
   ]
  },
  {
   "cell_type": "code",
   "execution_count": 18,
   "metadata": {},
   "outputs": [
    {
     "name": "stderr",
     "output_type": "stream",
     "text": [
      "C:\\Users\\kkb74\\Documents\\SMU Study\\ISSS623 - HealthCare Analytics\\Project\\Project Notebooks\\helpers6.py:446: FutureWarning: The frame.append method is deprecated and will be removed from pandas in a future version. Use pandas.concat instead.\n",
      "  display_df = display_df.append({'variable': column,\n",
      "C:\\Users\\kkb74\\Documents\\SMU Study\\ISSS623 - HealthCare Analytics\\Project\\Project Notebooks\\helpers6.py:446: FutureWarning: The frame.append method is deprecated and will be removed from pandas in a future version. Use pandas.concat instead.\n",
      "  display_df = display_df.append({'variable': column,\n",
      "C:\\Users\\kkb74\\Documents\\SMU Study\\ISSS623 - HealthCare Analytics\\Project\\Project Notebooks\\helpers6.py:446: FutureWarning: The frame.append method is deprecated and will be removed from pandas in a future version. Use pandas.concat instead.\n",
      "  display_df = display_df.append({'variable': column,\n",
      "C:\\Users\\kkb74\\Documents\\SMU Study\\ISSS623 - HealthCare Analytics\\Project\\Project Notebooks\\helpers6.py:446: FutureWarning: The frame.append method is deprecated and will be removed from pandas in a future version. Use pandas.concat instead.\n",
      "  display_df = display_df.append({'variable': column,\n",
      "C:\\Users\\kkb74\\Documents\\SMU Study\\ISSS623 - HealthCare Analytics\\Project\\Project Notebooks\\helpers6.py:446: FutureWarning: The frame.append method is deprecated and will be removed from pandas in a future version. Use pandas.concat instead.\n",
      "  display_df = display_df.append({'variable': column,\n",
      "C:\\Users\\kkb74\\Documents\\SMU Study\\ISSS623 - HealthCare Analytics\\Project\\Project Notebooks\\helpers6.py:446: FutureWarning: The frame.append method is deprecated and will be removed from pandas in a future version. Use pandas.concat instead.\n",
      "  display_df = display_df.append({'variable': column,\n",
      "C:\\Users\\kkb74\\Documents\\SMU Study\\ISSS623 - HealthCare Analytics\\Project\\Project Notebooks\\helpers6.py:446: FutureWarning: The frame.append method is deprecated and will be removed from pandas in a future version. Use pandas.concat instead.\n",
      "  display_df = display_df.append({'variable': column,\n",
      "C:\\Users\\kkb74\\Documents\\SMU Study\\ISSS623 - HealthCare Analytics\\Project\\Project Notebooks\\helpers6.py:446: FutureWarning: The frame.append method is deprecated and will be removed from pandas in a future version. Use pandas.concat instead.\n",
      "  display_df = display_df.append({'variable': column,\n",
      "C:\\Users\\kkb74\\Documents\\SMU Study\\ISSS623 - HealthCare Analytics\\Project\\Project Notebooks\\helpers6.py:446: FutureWarning: The frame.append method is deprecated and will be removed from pandas in a future version. Use pandas.concat instead.\n",
      "  display_df = display_df.append({'variable': column,\n",
      "C:\\Users\\kkb74\\Documents\\SMU Study\\ISSS623 - HealthCare Analytics\\Project\\Project Notebooks\\helpers6.py:446: FutureWarning: The frame.append method is deprecated and will be removed from pandas in a future version. Use pandas.concat instead.\n",
      "  display_df = display_df.append({'variable': column,\n",
      "C:\\Users\\kkb74\\Documents\\SMU Study\\ISSS623 - HealthCare Analytics\\Project\\Project Notebooks\\helpers6.py:446: FutureWarning: The frame.append method is deprecated and will be removed from pandas in a future version. Use pandas.concat instead.\n",
      "  display_df = display_df.append({'variable': column,\n",
      "C:\\Users\\kkb74\\Documents\\SMU Study\\ISSS623 - HealthCare Analytics\\Project\\Project Notebooks\\helpers6.py:446: FutureWarning: The frame.append method is deprecated and will be removed from pandas in a future version. Use pandas.concat instead.\n",
      "  display_df = display_df.append({'variable': column,\n",
      "C:\\Users\\kkb74\\Documents\\SMU Study\\ISSS623 - HealthCare Analytics\\Project\\Project Notebooks\\helpers6.py:446: FutureWarning: The frame.append method is deprecated and will be removed from pandas in a future version. Use pandas.concat instead.\n",
      "  display_df = display_df.append({'variable': column,\n",
      "C:\\Users\\kkb74\\Documents\\SMU Study\\ISSS623 - HealthCare Analytics\\Project\\Project Notebooks\\helpers6.py:446: FutureWarning: The frame.append method is deprecated and will be removed from pandas in a future version. Use pandas.concat instead.\n",
      "  display_df = display_df.append({'variable': column,\n",
      "C:\\Users\\kkb74\\Documents\\SMU Study\\ISSS623 - HealthCare Analytics\\Project\\Project Notebooks\\helpers6.py:446: FutureWarning: The frame.append method is deprecated and will be removed from pandas in a future version. Use pandas.concat instead.\n",
      "  display_df = display_df.append({'variable': column,\n"
     ]
    },
    {
     "data": {
      "text/html": [
       "<div>\n",
       "<style scoped>\n",
       "    .dataframe tbody tr th:only-of-type {\n",
       "        vertical-align: middle;\n",
       "    }\n",
       "\n",
       "    .dataframe tbody tr th {\n",
       "        vertical-align: top;\n",
       "    }\n",
       "\n",
       "    .dataframe thead th {\n",
       "        text-align: right;\n",
       "    }\n",
       "</style>\n",
       "<table border=\"1\" class=\"dataframe\">\n",
       "  <thead>\n",
       "    <tr style=\"text-align: right;\">\n",
       "      <th></th>\n",
       "      <th>variable</th>\n",
       "      <th>&lt; outlier_low</th>\n",
       "      <th>[outlier_low, valid_low)</th>\n",
       "      <th>[valid_low, valid_high]</th>\n",
       "      <th>(valid_high, outlier_high]</th>\n",
       "      <th>&gt; outlier_high</th>\n",
       "    </tr>\n",
       "  </thead>\n",
       "  <tbody>\n",
       "    <tr>\n",
       "      <th>0</th>\n",
       "      <td>triage_temperature</td>\n",
       "      <td>0</td>\n",
       "      <td>0</td>\n",
       "      <td>422166</td>\n",
       "      <td>0</td>\n",
       "      <td>0</td>\n",
       "    </tr>\n",
       "    <tr>\n",
       "      <th>1</th>\n",
       "      <td>triage_heartrate</td>\n",
       "      <td>0</td>\n",
       "      <td>0</td>\n",
       "      <td>429299</td>\n",
       "      <td>0</td>\n",
       "      <td>0</td>\n",
       "    </tr>\n",
       "    <tr>\n",
       "      <th>2</th>\n",
       "      <td>triage_resprate</td>\n",
       "      <td>0</td>\n",
       "      <td>0</td>\n",
       "      <td>425891</td>\n",
       "      <td>0</td>\n",
       "      <td>0</td>\n",
       "    </tr>\n",
       "    <tr>\n",
       "      <th>3</th>\n",
       "      <td>triage_o2sat</td>\n",
       "      <td>0</td>\n",
       "      <td>0</td>\n",
       "      <td>425577</td>\n",
       "      <td>0</td>\n",
       "      <td>0</td>\n",
       "    </tr>\n",
       "    <tr>\n",
       "      <th>4</th>\n",
       "      <td>triage_sbp</td>\n",
       "      <td>0</td>\n",
       "      <td>0</td>\n",
       "      <td>428025</td>\n",
       "      <td>0</td>\n",
       "      <td>0</td>\n",
       "    </tr>\n",
       "    <tr>\n",
       "      <th>5</th>\n",
       "      <td>triage_dbp</td>\n",
       "      <td>0</td>\n",
       "      <td>0</td>\n",
       "      <td>426782</td>\n",
       "      <td>0</td>\n",
       "      <td>0</td>\n",
       "    </tr>\n",
       "    <tr>\n",
       "      <th>6</th>\n",
       "      <td>triage_pain</td>\n",
       "      <td>0</td>\n",
       "      <td>0</td>\n",
       "      <td>405635</td>\n",
       "      <td>0</td>\n",
       "      <td>0</td>\n",
       "    </tr>\n",
       "    <tr>\n",
       "      <th>7</th>\n",
       "      <td>triage_acuity</td>\n",
       "      <td>0</td>\n",
       "      <td>0</td>\n",
       "      <td>440144</td>\n",
       "      <td>0</td>\n",
       "      <td>0</td>\n",
       "    </tr>\n",
       "    <tr>\n",
       "      <th>8</th>\n",
       "      <td>ed_temperature_last</td>\n",
       "      <td>0</td>\n",
       "      <td>0</td>\n",
       "      <td>416201</td>\n",
       "      <td>0</td>\n",
       "      <td>0</td>\n",
       "    </tr>\n",
       "    <tr>\n",
       "      <th>9</th>\n",
       "      <td>ed_heartrate_last</td>\n",
       "      <td>0</td>\n",
       "      <td>0</td>\n",
       "      <td>424571</td>\n",
       "      <td>0</td>\n",
       "      <td>0</td>\n",
       "    </tr>\n",
       "    <tr>\n",
       "      <th>10</th>\n",
       "      <td>ed_resprate_last</td>\n",
       "      <td>0</td>\n",
       "      <td>0</td>\n",
       "      <td>424068</td>\n",
       "      <td>0</td>\n",
       "      <td>0</td>\n",
       "    </tr>\n",
       "    <tr>\n",
       "      <th>11</th>\n",
       "      <td>ed_o2sat_last</td>\n",
       "      <td>0</td>\n",
       "      <td>0</td>\n",
       "      <td>413401</td>\n",
       "      <td>0</td>\n",
       "      <td>0</td>\n",
       "    </tr>\n",
       "    <tr>\n",
       "      <th>12</th>\n",
       "      <td>ed_sbp_last</td>\n",
       "      <td>0</td>\n",
       "      <td>0</td>\n",
       "      <td>424333</td>\n",
       "      <td>0</td>\n",
       "      <td>0</td>\n",
       "    </tr>\n",
       "    <tr>\n",
       "      <th>13</th>\n",
       "      <td>ed_dbp_last</td>\n",
       "      <td>0</td>\n",
       "      <td>0</td>\n",
       "      <td>424060</td>\n",
       "      <td>0</td>\n",
       "      <td>0</td>\n",
       "    </tr>\n",
       "    <tr>\n",
       "      <th>14</th>\n",
       "      <td>ed_pain_last</td>\n",
       "      <td>0</td>\n",
       "      <td>0</td>\n",
       "      <td>392951</td>\n",
       "      <td>0</td>\n",
       "      <td>0</td>\n",
       "    </tr>\n",
       "  </tbody>\n",
       "</table>\n",
       "</div>"
      ],
      "text/plain": [
       "               variable < outlier_low [outlier_low, valid_low)  \\\n",
       "0    triage_temperature             0                        0   \n",
       "1      triage_heartrate             0                        0   \n",
       "2       triage_resprate             0                        0   \n",
       "3          triage_o2sat             0                        0   \n",
       "4            triage_sbp             0                        0   \n",
       "5            triage_dbp             0                        0   \n",
       "6           triage_pain             0                        0   \n",
       "7         triage_acuity             0                        0   \n",
       "8   ed_temperature_last             0                        0   \n",
       "9     ed_heartrate_last             0                        0   \n",
       "10     ed_resprate_last             0                        0   \n",
       "11        ed_o2sat_last             0                        0   \n",
       "12          ed_sbp_last             0                        0   \n",
       "13          ed_dbp_last             0                        0   \n",
       "14         ed_pain_last             0                        0   \n",
       "\n",
       "   [valid_low, valid_high] (valid_high, outlier_high] > outlier_high  \n",
       "0                   422166                          0              0  \n",
       "1                   429299                          0              0  \n",
       "2                   425891                          0              0  \n",
       "3                   425577                          0              0  \n",
       "4                   428025                          0              0  \n",
       "5                   426782                          0              0  \n",
       "6                   405635                          0              0  \n",
       "7                   440144                          0              0  \n",
       "8                   416201                          0              0  \n",
       "9                   424571                          0              0  \n",
       "10                  424068                          0              0  \n",
       "11                  413401                          0              0  \n",
       "12                  424333                          0              0  \n",
       "13                  424060                          0              0  \n",
       "14                  392951                          0              0  "
      ]
     },
     "execution_count": 18,
     "metadata": {},
     "output_type": "execute_result"
    }
   ],
   "source": [
    "display_outliers_count(df, vitals_valid_range)"
   ]
  },
  {
   "cell_type": "code",
   "execution_count": 19,
   "metadata": {},
   "outputs": [
    {
     "data": {
      "text/plain": [
       "insurance              232285\n",
       "triage_temperature      17978\n",
       "triage_heartrate        10845\n",
       "triage_resprate         14253\n",
       "triage_o2sat            14567\n",
       "triage_sbp              12119\n",
       "triage_dbp              13362\n",
       "triage_pain             34509\n",
       "ed_temperature_last     23943\n",
       "ed_heartrate_last       15573\n",
       "ed_resprate_last        16076\n",
       "ed_o2sat_last           26743\n",
       "ed_sbp_last             15811\n",
       "ed_dbp_last             16084\n",
       "ed_pain_last            47193\n",
       "dtype: int64"
      ]
     },
     "execution_count": 19,
     "metadata": {},
     "output_type": "execute_result"
    }
   ],
   "source": [
    "df.isna().sum()[df.isna().sum() > 0]"
   ]
  },
  {
   "cell_type": "markdown",
   "metadata": {},
   "source": [
    "### 3. Data Manipulation for ML"
   ]
  },
  {
   "cell_type": "code",
   "execution_count": 20,
   "metadata": {},
   "outputs": [],
   "source": [
    "# Change True and False to Binary 1 and 0\n",
    "df = df.replace(True, 1)\n",
    "df = df.replace(False, 0)"
   ]
  },
  {
   "cell_type": "code",
   "execution_count": 21,
   "metadata": {},
   "outputs": [],
   "source": [
    "# Use the replace() method to convert 'M' to 1 and 'F' to 0 in the 'gender' column\n",
    "df['gender'] = df['gender'].replace({'M': 1, 'F': 0})"
   ]
  },
  {
   "cell_type": "code",
   "execution_count": 22,
   "metadata": {},
   "outputs": [],
   "source": [
    "# Define the bins and labels for age groups\n",
    "# Roughly based on NIH (US) age categories, however there is no concensus on ages above 65 years as stated on NIH website\n",
    "# Age Groups:\n",
    "# Young Adults: 18 to 34 years\n",
    "# Middle-Aged Adults: 35 to 64 years\n",
    "# Older Adults: 65 to 74 years\n",
    "# Elderly: 76 years and above\n",
    "bins = [18, 35, 65, 75, 100]  # The age group boundaries\n",
    "labels = ['Young Adults', 'Middle-Aged Adults', 'Older Adults', 'Elderly']\n",
    "\n",
    "# Use pd.cut() to bin the 'age' column and replace values with labels\n",
    "df['age_group'] = pd.cut(df['age'], bins=bins, labels=labels, right=False)"
   ]
  },
  {
   "cell_type": "markdown",
   "metadata": {},
   "source": [
    "#### One-Hot Encodes"
   ]
  },
  {
   "cell_type": "code",
   "execution_count": 23,
   "metadata": {},
   "outputs": [
    {
     "data": {
      "text/plain": [
       "(440144, 102)"
      ]
     },
     "execution_count": 23,
     "metadata": {},
     "output_type": "execute_result"
    }
   ],
   "source": [
    "# one-hot encode Insurance Type\n",
    "df = pd.get_dummies(df, columns=['insurance'])\n",
    "\n",
    "# one-hot encode Age\n",
    "df = pd.get_dummies(df, columns=['age_group'])\n",
    "\n",
    "df.shape"
   ]
  },
  {
   "cell_type": "code",
   "execution_count": 24,
   "metadata": {},
   "outputs": [
    {
     "data": {
      "text/plain": [
       "triage_temperature     17978\n",
       "triage_heartrate       10845\n",
       "triage_resprate        14253\n",
       "triage_o2sat           14567\n",
       "triage_sbp             12119\n",
       "triage_dbp             13362\n",
       "triage_pain            34509\n",
       "ed_temperature_last    23943\n",
       "ed_heartrate_last      15573\n",
       "ed_resprate_last       16076\n",
       "ed_o2sat_last          26743\n",
       "ed_sbp_last            15811\n",
       "ed_dbp_last            16084\n",
       "ed_pain_last           47193\n",
       "dtype: int64"
      ]
     },
     "execution_count": 24,
     "metadata": {},
     "output_type": "execute_result"
    }
   ],
   "source": [
    "# Check for Null Values\n",
    "df.isna().sum()[df.isna().sum() > 0]"
   ]
  },
  {
   "cell_type": "code",
   "execution_count": 25,
   "metadata": {},
   "outputs": [],
   "source": [
    "# This code is to convert intime_ed from object data type to datetime data type\n",
    "df['outtime_ed'] = pd.to_datetime(df['outtime_ed'])\n"
   ]
  },
  {
   "cell_type": "code",
   "execution_count": 26,
   "metadata": {},
   "outputs": [],
   "source": [
    "# This code chunk is meant to check the data types of the columns in the data set and save them to a text file for reference.\n",
    "\n",
    "data_types = df.dtypes\n",
    "\n",
    "# Convert the data types to a DataFrame for better formatting\n",
    "data_types_df = pd.DataFrame(data_types, columns=['Data Type'])\n",
    "\n",
    "# Convert the DataFrame to a string\n",
    "data_types_str = data_types_df.to_string()\n",
    "\n",
    "# Save the string to a text file\n",
    "with open('data_typesv3.txt', 'w') as file:\n",
    "    file.write(data_types_str)"
   ]
  },
  {
   "cell_type": "markdown",
   "metadata": {},
   "source": [
    "### 6. Option A: Split Train (80%) and Test (20%) data"
   ]
  },
  {
   "cell_type": "code",
   "execution_count": 27,
   "metadata": {},
   "outputs": [
    {
     "name": "stdout",
     "output_type": "stream",
     "text": [
      "(352115, 102)\n",
      "(88029, 102)\n"
     ]
    }
   ],
   "source": [
    "# Split Train and Test data\n",
    "df_train_impute=df.sample(frac=0.8,random_state=2023) #random state is a seed value\n",
    "df_test_impute=df.drop(df_train_impute.index)\n",
    "print(df_train_impute.shape)\n",
    "print(df_test_impute.shape)"
   ]
  },
  {
   "cell_type": "markdown",
   "metadata": {},
   "source": [
    "### 4. Option A: Impute NaNs with Median"
   ]
  },
  {
   "cell_type": "code",
   "execution_count": 28,
   "metadata": {},
   "outputs": [
    {
     "data": {
      "text/plain": [
       "['triage_temperature',\n",
       " 'triage_heartrate',\n",
       " 'triage_resprate',\n",
       " 'triage_o2sat',\n",
       " 'triage_sbp',\n",
       " 'triage_dbp',\n",
       " 'triage_pain',\n",
       " 'ed_temperature_last',\n",
       " 'ed_heartrate_last',\n",
       " 'ed_resprate_last',\n",
       " 'ed_o2sat_last',\n",
       " 'ed_sbp_last',\n",
       " 'ed_dbp_last',\n",
       " 'ed_pain_last']"
      ]
     },
     "execution_count": 28,
     "metadata": {},
     "output_type": "execute_result"
    }
   ],
   "source": [
    "vitals_cols = [col for col in df.columns if len(col.split('_')) > 1 and \n",
    "                                                   col.split('_')[1] in vitals_valid_range and\n",
    "                                                   col.split('_')[1] != 'acuity']\n",
    "vitals_cols"
   ]
  },
  {
   "cell_type": "code",
   "execution_count": 30,
   "metadata": {},
   "outputs": [],
   "source": [
    "imputer = SimpleImputer(strategy='median')\n",
    "df_train_impute[vitals_cols] = imputer.fit_transform(df_train_impute[vitals_cols])\n",
    "df_test_impute[vitals_cols] = imputer.transform(df_test_impute[vitals_cols])"
   ]
  },
  {
   "cell_type": "code",
   "execution_count": null,
   "metadata": {},
   "outputs": [],
   "source": [
    "# Replace imputation strategy with KNN\n",
    "# from sklearn.impute import KNNImputer\n",
    "\n",
    "# # setthe number of neighbors to 5\n",
    "# imputer = KNNImputer(n_neighbors=5)  \n",
    "\n",
    "# df_train_impute[vitals_cols] = imputer.fit_transform(df_train_impute[vitals_cols])\n",
    "# df_test_impute[vitals_cols] = imputer.transform(df_test_impute[vitals_cols])"
   ]
  },
  {
   "cell_type": "markdown",
   "metadata": {},
   "source": [
    "### 5. Option A: Add Score values to Train data"
   ]
  },
  {
   "cell_type": "code",
   "execution_count": 31,
   "metadata": {},
   "outputs": [
    {
     "name": "stdout",
     "output_type": "stream",
     "text": [
      "Variable 'add_triage_MAP' successfully added\n",
      "Variable 'add_score_CCI' successfully added\n",
      "Variable 'Score_CART' successfully added\n",
      "Variable 'Score_REMS' successfully added\n",
      "Variable 'Score_NEWS' successfully added\n",
      "Variable 'Score_NEWS2' successfully added\n",
      "Variable 'Score_MEWS' successfully added\n"
     ]
    },
    {
     "data": {
      "text/plain": [
       "(352115, 109)"
      ]
     },
     "execution_count": 31,
     "metadata": {},
     "output_type": "execute_result"
    }
   ],
   "source": [
    "add_triage_MAP(df_train_impute) # add an extra variable MAP\n",
    "add_score_CCI(df_train_impute)\n",
    "add_score_CART(df_train_impute)\n",
    "add_score_REMS(df_train_impute)\n",
    "add_score_NEWS(df_train_impute)\n",
    "add_score_NEWS2(df_train_impute)\n",
    "add_score_MEWS(df_train_impute)\n",
    "\n",
    "df_train_impute.shape"
   ]
  },
  {
   "cell_type": "code",
   "execution_count": 32,
   "metadata": {},
   "outputs": [
    {
     "data": {
      "text/plain": [
       "Series([], dtype: int64)"
      ]
     },
     "execution_count": 32,
     "metadata": {},
     "output_type": "execute_result"
    }
   ],
   "source": [
    "df_train_impute.isna().sum()[df_train_impute.isna().sum() > 0]"
   ]
  },
  {
   "cell_type": "markdown",
   "metadata": {},
   "source": [
    "### 5. Option A: Add Score values to Test data"
   ]
  },
  {
   "cell_type": "code",
   "execution_count": 33,
   "metadata": {},
   "outputs": [
    {
     "name": "stdout",
     "output_type": "stream",
     "text": [
      "Variable 'add_triage_MAP' successfully added\n",
      "Variable 'add_score_CCI' successfully added\n",
      "Variable 'Score_CART' successfully added\n",
      "Variable 'Score_REMS' successfully added\n",
      "Variable 'Score_NEWS' successfully added\n",
      "Variable 'Score_NEWS2' successfully added\n",
      "Variable 'Score_MEWS' successfully added\n"
     ]
    },
    {
     "data": {
      "text/plain": [
       "(88029, 109)"
      ]
     },
     "execution_count": 33,
     "metadata": {},
     "output_type": "execute_result"
    }
   ],
   "source": [
    "add_triage_MAP(df_test_impute) # add an extra variable MAP\n",
    "add_score_CCI(df_test_impute)\n",
    "add_score_CART(df_test_impute)\n",
    "add_score_REMS(df_test_impute)\n",
    "add_score_NEWS(df_test_impute)\n",
    "add_score_NEWS2(df_test_impute)\n",
    "add_score_MEWS(df_test_impute)\n",
    "\n",
    "df_test_impute.shape"
   ]
  },
  {
   "cell_type": "markdown",
   "metadata": {},
   "source": [
    "### 7. Option A: Output the train and test data"
   ]
  },
  {
   "cell_type": "code",
   "execution_count": 34,
   "metadata": {},
   "outputs": [],
   "source": [
    "df_train_impute.to_csv('C:\\\\Users\\\\kkb74\\\\Documents\\\\SMU Study\\\\ISSS623 - HealthCare Analytics\\\\Project\\\\Group Project Data\\\\train_impute_v3a.csv', index=False)\n",
    "df_test_impute.to_csv('C:\\\\Users\\\\kkb74\\\\Documents\\\\SMU Study\\\\ISSS623 - HealthCare Analytics\\\\Project\\\\Group Project Data\\\\test_impute_v3a.csv', index=False)"
   ]
  }
 ],
 "metadata": {
  "kernelspec": {
   "display_name": "Python 3 (ipykernel)",
   "language": "python",
   "name": "python3"
  },
  "language_info": {
   "codemirror_mode": {
    "name": "ipython",
    "version": 3
   },
   "file_extension": ".py",
   "mimetype": "text/x-python",
   "name": "python",
   "nbconvert_exporter": "python",
   "pygments_lexer": "ipython3",
   "version": "3.9.13"
  }
 },
 "nbformat": 4,
 "nbformat_minor": 2
}
